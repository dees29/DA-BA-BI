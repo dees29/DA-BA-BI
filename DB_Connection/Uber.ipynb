{
 "cells": [
  {
   "cell_type": "code",
   "execution_count": 1,
   "metadata": {},
   "outputs": [],
   "source": [
    "import sys\n",
    "import numpy as np\n",
    "import pandas as pd\n",
    "import seaborn as sns\n",
    "import matplotlib as mpl\n",
    "import matplotlib.pyplot as plt\n",
    "import datetime\n",
    "import time"
   ]
  },
  {
   "cell_type": "code",
   "execution_count": 2,
   "metadata": {},
   "outputs": [],
   "source": [
    "sns.set()\n",
    "pal= sns.hls_palette(10, h=0.5)\n",
    "sns.set_palette(pal)\n",
    "#Avoid display of scientific notation and show precision of 4 decimals:\n",
    "pd.set_option('display.float_format', lambda x: '%4f' %x)"
   ]
  },
  {
   "cell_type": "code",
   "execution_count": 3,
   "metadata": {},
   "outputs": [],
   "source": [
    "#filepath & loading csv\n",
    "filename='C:\\\\Users\\\\Admin\\\\Downloads\\\\uber_nyc_data.csv'\n",
    "df_uber = pd.read_csv(filename)"
   ]
  },
  {
   "cell_type": "code",
   "execution_count": 4,
   "metadata": {},
   "outputs": [
    {
     "name": "stdout",
     "output_type": "stream",
     "text": [
      "<class 'pandas.core.frame.DataFrame'>\n",
      "RangeIndex: 30925738 entries, 0 to 30925737\n",
      "Data columns (total 6 columns):\n",
      "id                 int64\n",
      "origin_taz         object\n",
      "destination_taz    object\n",
      "pickup_datetime    object\n",
      "trip_distance      float64\n",
      "trip_duration      object\n",
      "dtypes: float64(1), int64(1), object(4)\n",
      "memory usage: 1.4+ GB\n"
     ]
    }
   ],
   "source": [
    "#Info about the data\n",
    "df_uber.info()"
   ]
  },
  {
   "cell_type": "code",
   "execution_count": 5,
   "metadata": {},
   "outputs": [
    {
     "data": {
      "text/html": [
       "<div>\n",
       "<style scoped>\n",
       "    .dataframe tbody tr th:only-of-type {\n",
       "        vertical-align: middle;\n",
       "    }\n",
       "\n",
       "    .dataframe tbody tr th {\n",
       "        vertical-align: top;\n",
       "    }\n",
       "\n",
       "    .dataframe thead th {\n",
       "        text-align: right;\n",
       "    }\n",
       "</style>\n",
       "<table border=\"1\" class=\"dataframe\">\n",
       "  <thead>\n",
       "    <tr style=\"text-align: right;\">\n",
       "      <th></th>\n",
       "      <th>id</th>\n",
       "      <th>origin_taz</th>\n",
       "      <th>destination_taz</th>\n",
       "      <th>pickup_datetime</th>\n",
       "      <th>trip_distance</th>\n",
       "      <th>trip_duration</th>\n",
       "    </tr>\n",
       "  </thead>\n",
       "  <tbody>\n",
       "    <tr>\n",
       "      <td>0</td>\n",
       "      <td>252581</td>\n",
       "      <td>7C</td>\n",
       "      <td>6A</td>\n",
       "      <td>2014-09-01 09:00:00</td>\n",
       "      <td>4.250000</td>\n",
       "      <td>0:15:11</td>\n",
       "    </tr>\n",
       "    <tr>\n",
       "      <td>1</td>\n",
       "      <td>252582</td>\n",
       "      <td>7B</td>\n",
       "      <td>15</td>\n",
       "      <td>2014-09-01 18:00:00</td>\n",
       "      <td>10.170000</td>\n",
       "      <td>0:34:05</td>\n",
       "    </tr>\n",
       "    <tr>\n",
       "      <td>2</td>\n",
       "      <td>252583</td>\n",
       "      <td>11</td>\n",
       "      <td>2A</td>\n",
       "      <td>2014-09-01 17:00:00</td>\n",
       "      <td>4.020000</td>\n",
       "      <td>0:17:06</td>\n",
       "    </tr>\n",
       "    <tr>\n",
       "      <td>3</td>\n",
       "      <td>252584</td>\n",
       "      <td>3B</td>\n",
       "      <td>4A</td>\n",
       "      <td>2014-09-01 13:00:00</td>\n",
       "      <td>1.460000</td>\n",
       "      <td>0:06:32</td>\n",
       "    </tr>\n",
       "    <tr>\n",
       "      <td>4</td>\n",
       "      <td>252585</td>\n",
       "      <td>2A</td>\n",
       "      <td>10</td>\n",
       "      <td>2014-09-01 14:00:00</td>\n",
       "      <td>8.310000</td>\n",
       "      <td>0:26:17</td>\n",
       "    </tr>\n",
       "  </tbody>\n",
       "</table>\n",
       "</div>"
      ],
      "text/plain": [
       "       id origin_taz destination_taz      pickup_datetime  trip_distance  \\\n",
       "0  252581         7C              6A  2014-09-01 09:00:00       4.250000   \n",
       "1  252582         7B              15  2014-09-01 18:00:00      10.170000   \n",
       "2  252583         11              2A  2014-09-01 17:00:00       4.020000   \n",
       "3  252584         3B              4A  2014-09-01 13:00:00       1.460000   \n",
       "4  252585         2A              10  2014-09-01 14:00:00       8.310000   \n",
       "\n",
       "  trip_duration  \n",
       "0       0:15:11  \n",
       "1       0:34:05  \n",
       "2       0:17:06  \n",
       "3       0:06:32  \n",
       "4       0:26:17  "
      ]
     },
     "execution_count": 5,
     "metadata": {},
     "output_type": "execute_result"
    }
   ],
   "source": [
    "#A top look of the data\n",
    "df_uber.head()"
   ]
  },
  {
   "cell_type": "code",
   "execution_count": 6,
   "metadata": {},
   "outputs": [
    {
     "data": {
      "text/plain": [
       "30925738"
      ]
     },
     "execution_count": 6,
     "metadata": {},
     "output_type": "execute_result"
    }
   ],
   "source": [
    "#lenght of unique data in id column\n",
    "len(df_uber.id.unique())"
   ]
  },
  {
   "cell_type": "code",
   "execution_count": 7,
   "metadata": {},
   "outputs": [
    {
     "data": {
      "text/plain": [
       "0"
      ]
     },
     "execution_count": 7,
     "metadata": {},
     "output_type": "execute_result"
    }
   ],
   "source": [
    "#No duplicate data or checking for missing data or error data\n",
    "len(df_uber[df_uber.duplicated()==True])"
   ]
  },
  {
   "cell_type": "code",
   "execution_count": 8,
   "metadata": {},
   "outputs": [
    {
     "data": {
      "text/plain": [
       "id                       0\n",
       "origin_taz               0\n",
       "destination_taz    1273023\n",
       "pickup_datetime          0\n",
       "trip_distance           38\n",
       "trip_duration           38\n",
       "dtype: int64"
      ]
     },
     "execution_count": 8,
     "metadata": {},
     "output_type": "execute_result"
    }
   ],
   "source": [
    "#Showing total null values per column. Using of .sum() to just show which columns.\n",
    "df_uber.isnull().sum()"
   ]
  },
  {
   "cell_type": "code",
   "execution_count": 9,
   "metadata": {},
   "outputs": [
    {
     "data": {
      "text/plain": [
       "array(['7C', '7B', '11', '3B', '2A', '5B', '10', '2B', '9', '6B', '15',\n",
       "       '4C', '5A', '8', '14', '4A', '7A', '1', '16', '3A', '2C', '6A',\n",
       "       '12', '13', '3C', '4B', '5C', '17'], dtype=object)"
      ]
     },
     "execution_count": 9,
     "metadata": {},
     "output_type": "execute_result"
    }
   ],
   "source": [
    "arr1 = df_uber.origin_taz.unique()\n",
    "arr1"
   ]
  },
  {
   "cell_type": "code",
   "execution_count": 10,
   "metadata": {},
   "outputs": [
    {
     "data": {
      "text/plain": [
       "array(['6A', '15', '2A', '4A', '10', '4C', '7A', '3C', '5B', '14', '8',\n",
       "       nan, '7C', '12', '2C', '1', '6B', '5C', '9', '3A', '2B', '11',\n",
       "       '7B', '5A', '13', '4B', '18', '16', '3B', '17'], dtype=object)"
      ]
     },
     "execution_count": 10,
     "metadata": {},
     "output_type": "execute_result"
    }
   ],
   "source": [
    "arr2 = df_uber.destination_taz.unique()\n",
    "arr2"
   ]
  },
  {
   "cell_type": "code",
   "execution_count": 11,
   "metadata": {},
   "outputs": [
    {
     "data": {
      "text/plain": [
       "{'18', nan}"
      ]
     },
     "execution_count": 11,
     "metadata": {},
     "output_type": "execute_result"
    }
   ],
   "source": [
    "set(arr2) - set(arr1)"
   ]
  },
  {
   "cell_type": "code",
   "execution_count": 12,
   "metadata": {},
   "outputs": [
    {
     "data": {
      "text/html": [
       "<div>\n",
       "<style scoped>\n",
       "    .dataframe tbody tr th:only-of-type {\n",
       "        vertical-align: middle;\n",
       "    }\n",
       "\n",
       "    .dataframe tbody tr th {\n",
       "        vertical-align: top;\n",
       "    }\n",
       "\n",
       "    .dataframe thead th {\n",
       "        text-align: right;\n",
       "    }\n",
       "</style>\n",
       "<table border=\"1\" class=\"dataframe\">\n",
       "  <thead>\n",
       "    <tr style=\"text-align: right;\">\n",
       "      <th></th>\n",
       "      <th>id</th>\n",
       "      <th>origin_taz</th>\n",
       "      <th>destination_taz</th>\n",
       "      <th>pickup_datetime</th>\n",
       "      <th>trip_distance</th>\n",
       "      <th>trip_duration</th>\n",
       "    </tr>\n",
       "  </thead>\n",
       "  <tbody>\n",
       "    <tr>\n",
       "      <td>15</td>\n",
       "      <td>252596</td>\n",
       "      <td>6B</td>\n",
       "      <td>NaN</td>\n",
       "      <td>2014-09-01 17:00:00</td>\n",
       "      <td>11.670000</td>\n",
       "      <td>0:23:45</td>\n",
       "    </tr>\n",
       "    <tr>\n",
       "      <td>32</td>\n",
       "      <td>252613</td>\n",
       "      <td>9</td>\n",
       "      <td>NaN</td>\n",
       "      <td>2014-09-01 16:00:00</td>\n",
       "      <td>80.690000</td>\n",
       "      <td>1:59:37</td>\n",
       "    </tr>\n",
       "    <tr>\n",
       "      <td>63</td>\n",
       "      <td>252644</td>\n",
       "      <td>9</td>\n",
       "      <td>NaN</td>\n",
       "      <td>2014-09-01 18:00:00</td>\n",
       "      <td>23.070000</td>\n",
       "      <td>1:03:37</td>\n",
       "    </tr>\n",
       "    <tr>\n",
       "      <td>141</td>\n",
       "      <td>252722</td>\n",
       "      <td>9</td>\n",
       "      <td>NaN</td>\n",
       "      <td>2014-09-01 10:00:00</td>\n",
       "      <td>21.730000</td>\n",
       "      <td>0:41:12</td>\n",
       "    </tr>\n",
       "    <tr>\n",
       "      <td>148</td>\n",
       "      <td>252729</td>\n",
       "      <td>4B</td>\n",
       "      <td>NaN</td>\n",
       "      <td>2014-09-01 10:00:00</td>\n",
       "      <td>4.620000</td>\n",
       "      <td>0:14:55</td>\n",
       "    </tr>\n",
       "  </tbody>\n",
       "</table>\n",
       "</div>"
      ],
      "text/plain": [
       "         id origin_taz destination_taz      pickup_datetime  trip_distance  \\\n",
       "15   252596         6B             NaN  2014-09-01 17:00:00      11.670000   \n",
       "32   252613          9             NaN  2014-09-01 16:00:00      80.690000   \n",
       "63   252644          9             NaN  2014-09-01 18:00:00      23.070000   \n",
       "141  252722          9             NaN  2014-09-01 10:00:00      21.730000   \n",
       "148  252729         4B             NaN  2014-09-01 10:00:00       4.620000   \n",
       "\n",
       "    trip_duration  \n",
       "15        0:23:45  \n",
       "32        1:59:37  \n",
       "63        1:03:37  \n",
       "141       0:41:12  \n",
       "148       0:14:55  "
      ]
     },
     "execution_count": 12,
     "metadata": {},
     "output_type": "execute_result"
    }
   ],
   "source": [
    "#Check some of the data with missing destination. \n",
    "#One idea to fill missing values would be predict destination based on the other features.\n",
    "df_uber[df_uber.destination_taz.isnull()].head()"
   ]
  },
  {
   "cell_type": "code",
   "execution_count": 13,
   "metadata": {},
   "outputs": [
    {
     "data": {
      "text/html": [
       "<div>\n",
       "<style scoped>\n",
       "    .dataframe tbody tr th:only-of-type {\n",
       "        vertical-align: middle;\n",
       "    }\n",
       "\n",
       "    .dataframe tbody tr th {\n",
       "        vertical-align: top;\n",
       "    }\n",
       "\n",
       "    .dataframe thead th {\n",
       "        text-align: right;\n",
       "    }\n",
       "</style>\n",
       "<table border=\"1\" class=\"dataframe\">\n",
       "  <thead>\n",
       "    <tr style=\"text-align: right;\">\n",
       "      <th></th>\n",
       "      <th>id</th>\n",
       "      <th>origin_taz</th>\n",
       "      <th>destination_taz</th>\n",
       "      <th>pickup_datetime</th>\n",
       "      <th>trip_distance</th>\n",
       "      <th>trip_duration</th>\n",
       "    </tr>\n",
       "  </thead>\n",
       "  <tbody>\n",
       "    <tr>\n",
       "      <td>15155317</td>\n",
       "      <td>39535</td>\n",
       "      <td>2A</td>\n",
       "      <td>11</td>\n",
       "      <td>2015-04-25 12:00:00</td>\n",
       "      <td>nan</td>\n",
       "      <td>NaN</td>\n",
       "    </tr>\n",
       "    <tr>\n",
       "      <td>15245057</td>\n",
       "      <td>1009076</td>\n",
       "      <td>2A</td>\n",
       "      <td>2A</td>\n",
       "      <td>2015-04-26 01:00:00</td>\n",
       "      <td>nan</td>\n",
       "      <td>NaN</td>\n",
       "    </tr>\n",
       "    <tr>\n",
       "      <td>16519652</td>\n",
       "      <td>15028665</td>\n",
       "      <td>2A</td>\n",
       "      <td>7C</td>\n",
       "      <td>2015-04-29 21:00:00</td>\n",
       "      <td>nan</td>\n",
       "      <td>NaN</td>\n",
       "    </tr>\n",
       "    <tr>\n",
       "      <td>17148253</td>\n",
       "      <td>22250173</td>\n",
       "      <td>2A</td>\n",
       "      <td>2A</td>\n",
       "      <td>2015-04-12 02:00:00</td>\n",
       "      <td>nan</td>\n",
       "      <td>NaN</td>\n",
       "    </tr>\n",
       "    <tr>\n",
       "      <td>17297563</td>\n",
       "      <td>23716998</td>\n",
       "      <td>2C</td>\n",
       "      <td>11</td>\n",
       "      <td>2015-04-25 13:00:00</td>\n",
       "      <td>nan</td>\n",
       "      <td>NaN</td>\n",
       "    </tr>\n",
       "  </tbody>\n",
       "</table>\n",
       "</div>"
      ],
      "text/plain": [
       "                id origin_taz destination_taz      pickup_datetime  \\\n",
       "15155317     39535         2A              11  2015-04-25 12:00:00   \n",
       "15245057   1009076         2A              2A  2015-04-26 01:00:00   \n",
       "16519652  15028665         2A              7C  2015-04-29 21:00:00   \n",
       "17148253  22250173         2A              2A  2015-04-12 02:00:00   \n",
       "17297563  23716998         2C              11  2015-04-25 13:00:00   \n",
       "\n",
       "          trip_distance trip_duration  \n",
       "15155317            nan           NaN  \n",
       "15245057            nan           NaN  \n",
       "16519652            nan           NaN  \n",
       "17148253            nan           NaN  \n",
       "17297563            nan           NaN  "
      ]
     },
     "execution_count": 13,
     "metadata": {},
     "output_type": "execute_result"
    }
   ],
   "source": [
    "#values missing for trip distance and duration, none of which are missing the destination.\n",
    "df38 = df_uber[df_uber.trip_duration.isnull() & df_uber.trip_distance.isnull()]\n",
    "df38.head()"
   ]
  },
  {
   "cell_type": "code",
   "execution_count": 14,
   "metadata": {},
   "outputs": [
    {
     "data": {
      "text/plain": [
       "0"
      ]
     },
     "execution_count": 14,
     "metadata": {},
     "output_type": "execute_result"
    }
   ],
   "source": [
    "#All cases for which trip_duration is null match the cases for which trip_distance is also null:\n",
    "len(df_uber[(df_uber.trip_duration.isnull()==False) & (df_uber.trip_distance.isnull())])"
   ]
  },
  {
   "cell_type": "code",
   "execution_count": 15,
   "metadata": {},
   "outputs": [
    {
     "data": {
      "text/plain": [
       "0"
      ]
     },
     "execution_count": 15,
     "metadata": {},
     "output_type": "execute_result"
    }
   ],
   "source": [
    "#None of the pickup time data offer minutes or seconds precision\n",
    "len(df_uber[df_uber.pickup_datetime.apply(lambda x: x[-5:] == '00:00') == False])"
   ]
  },
  {
   "cell_type": "code",
   "execution_count": 16,
   "metadata": {},
   "outputs": [],
   "source": [
    "def dateParser(s):\n",
    "    \"\"\"\n",
    "    Function that takes a string in the format yyyy-mm-dd hh:mm:ss, and\n",
    "    returns the same as a datetime object.\n",
    "    \"\"\"\n",
    "    return datetime.datetime(int(s[0:4]), int(s[5:7]), int(s[8:10]), int(s[11:13]))\n",
    "#Other methods were tried, all slower (the slowest being parsing while reading file in Pandas):\n",
    "#return datetime.strptime(s, \"%Y-%m-%d %H:%M:%S.%f\")\n",
    "#return np.datetime64(s) equivalent to: np.array(df_uber.pickup_datetime[0]).astype(np.datetime64)\n",
    "#return pandas.Timestamp(s, \"%Y-%m-%d %H:%M:%S.%f\", tz='utc' )uber \n",
    "#source: http://stackoverflow.com/questions/11136006/python-pandas-what-is-the-fastest-way-to-create-a-datetime-index"
   ]
  },
  {
   "cell_type": "code",
   "execution_count": 17,
   "metadata": {},
   "outputs": [
    {
     "data": {
      "text/plain": [
       "50.18468761444092"
      ]
     },
     "execution_count": 17,
     "metadata": {},
     "output_type": "execute_result"
    }
   ],
   "source": [
    "#time required to def function & calling the function & then time reuired for calling fuction minus to the time for def function\n",
    "t0 = time.time()\n",
    "df_uber['pu_date_hour'] = df_uber.pickup_datetime.apply(dateParser)\n",
    "time.time() - t0"
   ]
  },
  {
   "cell_type": "code",
   "execution_count": 18,
   "metadata": {},
   "outputs": [
    {
     "name": "stdout",
     "output_type": "stream",
     "text": [
      "2014-09-01 00:00:00 2015-09-01 00:00:00 365 days 00:00:00\n"
     ]
    }
   ],
   "source": [
    "#Pu_date start & end date & then difference between end & start\n",
    "beginning = df_uber.pu_date_hour.min()\n",
    "end = df_uber.pu_date_hour.max()\n",
    "print(beginning, end , end - beginning)"
   ]
  },
  {
   "cell_type": "code",
   "execution_count": 19,
   "metadata": {},
   "outputs": [
    {
     "data": {
      "text/html": [
       "<div>\n",
       "<style scoped>\n",
       "    .dataframe tbody tr th:only-of-type {\n",
       "        vertical-align: middle;\n",
       "    }\n",
       "\n",
       "    .dataframe tbody tr th {\n",
       "        vertical-align: top;\n",
       "    }\n",
       "\n",
       "    .dataframe thead th {\n",
       "        text-align: right;\n",
       "    }\n",
       "</style>\n",
       "<table border=\"1\" class=\"dataframe\">\n",
       "  <thead>\n",
       "    <tr style=\"text-align: right;\">\n",
       "      <th></th>\n",
       "      <th>id</th>\n",
       "      <th>origin_taz</th>\n",
       "      <th>destination_taz</th>\n",
       "      <th>trip_distance</th>\n",
       "      <th>trip_duration</th>\n",
       "      <th>pu_date_hour</th>\n",
       "    </tr>\n",
       "  </thead>\n",
       "  <tbody>\n",
       "    <tr>\n",
       "      <td>0</td>\n",
       "      <td>252581</td>\n",
       "      <td>7C</td>\n",
       "      <td>6A</td>\n",
       "      <td>4.250000</td>\n",
       "      <td>0:15:11</td>\n",
       "      <td>2014-09-01 09:00:00</td>\n",
       "    </tr>\n",
       "    <tr>\n",
       "      <td>1</td>\n",
       "      <td>252582</td>\n",
       "      <td>7B</td>\n",
       "      <td>15</td>\n",
       "      <td>10.170000</td>\n",
       "      <td>0:34:05</td>\n",
       "      <td>2014-09-01 18:00:00</td>\n",
       "    </tr>\n",
       "    <tr>\n",
       "      <td>2</td>\n",
       "      <td>252583</td>\n",
       "      <td>11</td>\n",
       "      <td>2A</td>\n",
       "      <td>4.020000</td>\n",
       "      <td>0:17:06</td>\n",
       "      <td>2014-09-01 17:00:00</td>\n",
       "    </tr>\n",
       "    <tr>\n",
       "      <td>3</td>\n",
       "      <td>252584</td>\n",
       "      <td>3B</td>\n",
       "      <td>4A</td>\n",
       "      <td>1.460000</td>\n",
       "      <td>0:06:32</td>\n",
       "      <td>2014-09-01 13:00:00</td>\n",
       "    </tr>\n",
       "    <tr>\n",
       "      <td>4</td>\n",
       "      <td>252585</td>\n",
       "      <td>2A</td>\n",
       "      <td>10</td>\n",
       "      <td>8.310000</td>\n",
       "      <td>0:26:17</td>\n",
       "      <td>2014-09-01 14:00:00</td>\n",
       "    </tr>\n",
       "    <tr>\n",
       "      <td>...</td>\n",
       "      <td>...</td>\n",
       "      <td>...</td>\n",
       "      <td>...</td>\n",
       "      <td>...</td>\n",
       "      <td>...</td>\n",
       "      <td>...</td>\n",
       "    </tr>\n",
       "    <tr>\n",
       "      <td>30925733</td>\n",
       "      <td>30693431</td>\n",
       "      <td>15</td>\n",
       "      <td>15</td>\n",
       "      <td>6.860000</td>\n",
       "      <td>0:27:37</td>\n",
       "      <td>2015-09-01 00:00:00</td>\n",
       "    </tr>\n",
       "    <tr>\n",
       "      <td>30925734</td>\n",
       "      <td>30693447</td>\n",
       "      <td>5B</td>\n",
       "      <td>2A</td>\n",
       "      <td>3.440000</td>\n",
       "      <td>0:11:07</td>\n",
       "      <td>2015-09-01 00:00:00</td>\n",
       "    </tr>\n",
       "    <tr>\n",
       "      <td>30925735</td>\n",
       "      <td>30693461</td>\n",
       "      <td>4C</td>\n",
       "      <td>NaN</td>\n",
       "      <td>6.170000</td>\n",
       "      <td>0:19:10</td>\n",
       "      <td>2015-09-01 00:00:00</td>\n",
       "    </tr>\n",
       "    <tr>\n",
       "      <td>30925736</td>\n",
       "      <td>30693466</td>\n",
       "      <td>2A</td>\n",
       "      <td>5A</td>\n",
       "      <td>1.870000</td>\n",
       "      <td>0:07:54</td>\n",
       "      <td>2015-09-01 00:00:00</td>\n",
       "    </tr>\n",
       "    <tr>\n",
       "      <td>30925737</td>\n",
       "      <td>30693470</td>\n",
       "      <td>2A</td>\n",
       "      <td>2A</td>\n",
       "      <td>0.270000</td>\n",
       "      <td>0:05:53</td>\n",
       "      <td>2015-09-01 00:00:00</td>\n",
       "    </tr>\n",
       "  </tbody>\n",
       "</table>\n",
       "<p>30925738 rows × 6 columns</p>\n",
       "</div>"
      ],
      "text/plain": [
       "                id origin_taz destination_taz  trip_distance trip_duration  \\\n",
       "0           252581         7C              6A       4.250000       0:15:11   \n",
       "1           252582         7B              15      10.170000       0:34:05   \n",
       "2           252583         11              2A       4.020000       0:17:06   \n",
       "3           252584         3B              4A       1.460000       0:06:32   \n",
       "4           252585         2A              10       8.310000       0:26:17   \n",
       "...            ...        ...             ...            ...           ...   \n",
       "30925733  30693431         15              15       6.860000       0:27:37   \n",
       "30925734  30693447         5B              2A       3.440000       0:11:07   \n",
       "30925735  30693461         4C             NaN       6.170000       0:19:10   \n",
       "30925736  30693466         2A              5A       1.870000       0:07:54   \n",
       "30925737  30693470         2A              2A       0.270000       0:05:53   \n",
       "\n",
       "                pu_date_hour  \n",
       "0        2014-09-01 09:00:00  \n",
       "1        2014-09-01 18:00:00  \n",
       "2        2014-09-01 17:00:00  \n",
       "3        2014-09-01 13:00:00  \n",
       "4        2014-09-01 14:00:00  \n",
       "...                      ...  \n",
       "30925733 2015-09-01 00:00:00  \n",
       "30925734 2015-09-01 00:00:00  \n",
       "30925735 2015-09-01 00:00:00  \n",
       "30925736 2015-09-01 00:00:00  \n",
       "30925737 2015-09-01 00:00:00  \n",
       "\n",
       "[30925738 rows x 6 columns]"
      ]
     },
     "execution_count": 19,
     "metadata": {},
     "output_type": "execute_result"
    }
   ],
   "source": [
    "#Drop repeated column\n",
    "df_uber\n",
    "df_uber = df_uber.drop('pickup_datetime', axis=1)\n",
    "df_uber"
   ]
  },
  {
   "cell_type": "code",
   "execution_count": 20,
   "metadata": {},
   "outputs": [
    {
     "data": {
      "text/plain": [
       "2014-09-01                     Labor Day\n",
       "2014-10-13                  Columbus Day\n",
       "2014-11-11                  Veterans Day\n",
       "2014-11-27                  Thanksgiving\n",
       "2014-12-25                     Christmas\n",
       "2015-01-01                 New Years Day\n",
       "2015-01-19    Martin Luther King Jr. Day\n",
       "2015-02-16                Presidents Day\n",
       "2015-05-25                  Memorial Day\n",
       "2015-07-03                      July 4th\n",
       "dtype: object"
      ]
     },
     "execution_count": 20,
     "metadata": {},
     "output_type": "execute_result"
    }
   ],
   "source": [
    "#Get all federal holidays in the period\n",
    "from pandas.tseries.holiday import USFederalHolidayCalendar\n",
    "#if return_name is True, then name is series value and date is the series index, otherwise date is series value.\n",
    "holidays = USFederalHolidayCalendar().holidays(beginning, end, return_name = True)\n",
    "holidays"
   ]
  },
  {
   "cell_type": "code",
   "execution_count": 21,
   "metadata": {},
   "outputs": [
    {
     "data": {
      "text/plain": [
       "Index(['Mon', 'Mon', 'Tue', 'Thu', 'Thu', 'Thu', 'Mon', 'Mon', 'Mon', 'Fri'], dtype='object')"
      ]
     },
     "execution_count": 21,
     "metadata": {},
     "output_type": "execute_result"
    }
   ],
   "source": [
    "#Extract the weekday for each holiday\n",
    "holidays.index.map(lambda x: x.strftime('%a'))"
   ]
  },
  {
   "cell_type": "code",
   "execution_count": 22,
   "metadata": {},
   "outputs": [
    {
     "data": {
      "text/plain": [
       "2014-08-31       Day BeforeLabor Day\n",
       "2014-09-01                 Labor Day\n",
       "2014-09-02        Day AfterLabor Day\n",
       "2014-10-12    Day BeforeColumbus Day\n",
       "2014-10-13              Columbus Day\n",
       "dtype: object"
      ]
     },
     "execution_count": 22,
     "metadata": {},
     "output_type": "execute_result"
    }
   ],
   "source": [
    "#For completeness, let's add the day before and after the holidays (better: add day after if Thursday)\n",
    "holidays_all = pd.concat([holidays, \"Day After\" + holidays.shift(1, 'D'), \"Day Before\" + holidays.shift(-1, 'D')])\n",
    "holidays_all = holidays_all.sort_index()\n",
    "holidays_all.head()"
   ]
  },
  {
   "cell_type": "code",
   "execution_count": 23,
   "metadata": {},
   "outputs": [
    {
     "data": {
      "text/plain": [
       "61.094980239868164"
      ]
     },
     "execution_count": 23,
     "metadata": {},
     "output_type": "execute_result"
    }
   ],
   "source": [
    "#Create a column with the date, without the time. This will be useful later.\n",
    "t0 = time.time()\n",
    "df_uber['pu_date'] = pd.Series(map(lambda x: x.astype('datetime64[D]'), df_uber['pu_date_hour'].values))\n",
    "#df_uber['pu_date'] = df_uber['pu_date_hour'].dt.date #this is way less memory effective and 11 sec slower to execute\n",
    "time.time() - t0"
   ]
  },
  {
   "cell_type": "code",
   "execution_count": 24,
   "metadata": {},
   "outputs": [],
   "source": [
    "#Get month and year from pick up timestamp\n",
    "df_uber['year'] = df_uber['pu_date'].dt.year\n",
    "df_uber['month'] = df_uber['pu_date'].dt.month"
   ]
  },
  {
   "cell_type": "code",
   "execution_count": 25,
   "metadata": {},
   "outputs": [
    {
     "data": {
      "text/plain": [
       "2.389714479446411"
      ]
     },
     "execution_count": 25,
     "metadata": {},
     "output_type": "execute_result"
    }
   ],
   "source": [
    "t0 = time.time()\n",
    "#Get trip pick up day of the month\n",
    "df_uber['day'] = df_uber['pu_date'].dt.day\n",
    "time.time() - t0"
   ]
  },
  {
   "cell_type": "code",
   "execution_count": 26,
   "metadata": {},
   "outputs": [
    {
     "data": {
      "text/plain": [
       "2.589939832687378"
      ]
     },
     "execution_count": 26,
     "metadata": {},
     "output_type": "execute_result"
    }
   ],
   "source": [
    "t0 = time.time()\n",
    "#Get trip pick up hour from timestamp\n",
    "df_uber['hour'] = df_uber['pu_date'].dt.hour\n",
    "time.time() - t0"
   ]
  },
  {
   "cell_type": "code",
   "execution_count": 27,
   "metadata": {},
   "outputs": [
    {
     "data": {
      "text/plain": [
       "2.679989814758301"
      ]
     },
     "execution_count": 27,
     "metadata": {},
     "output_type": "execute_result"
    }
   ],
   "source": [
    "t0 = time.time()\n",
    "#Get trip pick up weekday from timestamp\n",
    "df_uber['weekday'] = df_uber['pu_date'].dt.dayofweek\n",
    "time.time() - t0"
   ]
  },
  {
   "cell_type": "code",
   "execution_count": 28,
   "metadata": {},
   "outputs": [
    {
     "data": {
      "text/plain": [
       "5    5142832\n",
       "4    4805002\n",
       "3    4625511\n",
       "6    4331195\n",
       "2    4301537\n",
       "1    4010434\n",
       "0    3709227\n",
       "Name: weekday, dtype: int64"
      ]
     },
     "execution_count": 28,
     "metadata": {},
     "output_type": "execute_result"
    }
   ],
   "source": [
    "df_uber.weekday.value_counts()"
   ]
  },
  {
   "cell_type": "code",
   "execution_count": 29,
   "metadata": {},
   "outputs": [
    {
     "data": {
      "text/html": [
       "<div>\n",
       "<style scoped>\n",
       "    .dataframe tbody tr th:only-of-type {\n",
       "        vertical-align: middle;\n",
       "    }\n",
       "\n",
       "    .dataframe tbody tr th {\n",
       "        vertical-align: top;\n",
       "    }\n",
       "\n",
       "    .dataframe thead th {\n",
       "        text-align: right;\n",
       "    }\n",
       "</style>\n",
       "<table border=\"1\" class=\"dataframe\">\n",
       "  <thead>\n",
       "    <tr style=\"text-align: right;\">\n",
       "      <th></th>\n",
       "      <th>id</th>\n",
       "      <th>origin_taz</th>\n",
       "      <th>destination_taz</th>\n",
       "      <th>trip_distance</th>\n",
       "      <th>trip_duration</th>\n",
       "      <th>pu_date_hour</th>\n",
       "      <th>pu_date</th>\n",
       "      <th>year</th>\n",
       "      <th>month</th>\n",
       "      <th>day</th>\n",
       "      <th>hour</th>\n",
       "      <th>weekday</th>\n",
       "    </tr>\n",
       "  </thead>\n",
       "  <tbody>\n",
       "    <tr>\n",
       "      <td>0</td>\n",
       "      <td>252581</td>\n",
       "      <td>7C</td>\n",
       "      <td>6A</td>\n",
       "      <td>4.250000</td>\n",
       "      <td>0:15:11</td>\n",
       "      <td>2014-09-01 09:00:00</td>\n",
       "      <td>2014-09-01</td>\n",
       "      <td>2014</td>\n",
       "      <td>9</td>\n",
       "      <td>1</td>\n",
       "      <td>0</td>\n",
       "      <td>0</td>\n",
       "    </tr>\n",
       "    <tr>\n",
       "      <td>1</td>\n",
       "      <td>252582</td>\n",
       "      <td>7B</td>\n",
       "      <td>15</td>\n",
       "      <td>10.170000</td>\n",
       "      <td>0:34:05</td>\n",
       "      <td>2014-09-01 18:00:00</td>\n",
       "      <td>2014-09-01</td>\n",
       "      <td>2014</td>\n",
       "      <td>9</td>\n",
       "      <td>1</td>\n",
       "      <td>0</td>\n",
       "      <td>0</td>\n",
       "    </tr>\n",
       "    <tr>\n",
       "      <td>2</td>\n",
       "      <td>252583</td>\n",
       "      <td>11</td>\n",
       "      <td>2A</td>\n",
       "      <td>4.020000</td>\n",
       "      <td>0:17:06</td>\n",
       "      <td>2014-09-01 17:00:00</td>\n",
       "      <td>2014-09-01</td>\n",
       "      <td>2014</td>\n",
       "      <td>9</td>\n",
       "      <td>1</td>\n",
       "      <td>0</td>\n",
       "      <td>0</td>\n",
       "    </tr>\n",
       "    <tr>\n",
       "      <td>3</td>\n",
       "      <td>252584</td>\n",
       "      <td>3B</td>\n",
       "      <td>4A</td>\n",
       "      <td>1.460000</td>\n",
       "      <td>0:06:32</td>\n",
       "      <td>2014-09-01 13:00:00</td>\n",
       "      <td>2014-09-01</td>\n",
       "      <td>2014</td>\n",
       "      <td>9</td>\n",
       "      <td>1</td>\n",
       "      <td>0</td>\n",
       "      <td>0</td>\n",
       "    </tr>\n",
       "    <tr>\n",
       "      <td>4</td>\n",
       "      <td>252585</td>\n",
       "      <td>2A</td>\n",
       "      <td>10</td>\n",
       "      <td>8.310000</td>\n",
       "      <td>0:26:17</td>\n",
       "      <td>2014-09-01 14:00:00</td>\n",
       "      <td>2014-09-01</td>\n",
       "      <td>2014</td>\n",
       "      <td>9</td>\n",
       "      <td>1</td>\n",
       "      <td>0</td>\n",
       "      <td>0</td>\n",
       "    </tr>\n",
       "  </tbody>\n",
       "</table>\n",
       "</div>"
      ],
      "text/plain": [
       "       id origin_taz destination_taz  trip_distance trip_duration  \\\n",
       "0  252581         7C              6A       4.250000       0:15:11   \n",
       "1  252582         7B              15      10.170000       0:34:05   \n",
       "2  252583         11              2A       4.020000       0:17:06   \n",
       "3  252584         3B              4A       1.460000       0:06:32   \n",
       "4  252585         2A              10       8.310000       0:26:17   \n",
       "\n",
       "         pu_date_hour    pu_date  year  month  day  hour  weekday  \n",
       "0 2014-09-01 09:00:00 2014-09-01  2014      9    1     0        0  \n",
       "1 2014-09-01 18:00:00 2014-09-01  2014      9    1     0        0  \n",
       "2 2014-09-01 17:00:00 2014-09-01  2014      9    1     0        0  \n",
       "3 2014-09-01 13:00:00 2014-09-01  2014      9    1     0        0  \n",
       "4 2014-09-01 14:00:00 2014-09-01  2014      9    1     0        0  "
      ]
     },
     "execution_count": 29,
     "metadata": {},
     "output_type": "execute_result"
    }
   ],
   "source": [
    "df_uber.head()"
   ]
  },
  {
   "cell_type": "code",
   "execution_count": 30,
   "metadata": {},
   "outputs": [
    {
     "name": "stdout",
     "output_type": "stream",
     "text": [
      "<class 'pandas.core.frame.DataFrame'>\n",
      "RangeIndex: 30925738 entries, 0 to 30925737\n",
      "Data columns (total 12 columns):\n",
      "id                 int64\n",
      "origin_taz         object\n",
      "destination_taz    object\n",
      "trip_distance      float64\n",
      "trip_duration      object\n",
      "pu_date_hour       datetime64[ns]\n",
      "pu_date            datetime64[ns]\n",
      "year               int64\n",
      "month              int64\n",
      "day                int64\n",
      "hour               int64\n",
      "weekday            int64\n",
      "dtypes: datetime64[ns](2), float64(1), int64(6), object(3)\n",
      "memory usage: 2.8+ GB\n"
     ]
    }
   ],
   "source": [
    "df_uber.info()"
   ]
  },
  {
   "cell_type": "code",
   "execution_count": 31,
   "metadata": {},
   "outputs": [
    {
     "data": {
      "text/plain": [
       "array(['0:15:11', '0:34:05', '0:17:06', ..., '6:21:14', '7:53:17',\n",
       "       '3:54:35'], dtype=object)"
      ]
     },
     "execution_count": 31,
     "metadata": {},
     "output_type": "execute_result"
    }
   ],
   "source": [
    "uniq_dur = df_uber[df_uber.trip_duration.isnull() == False].trip_duration.unique()\n",
    "uniq_dur"
   ]
  },
  {
   "cell_type": "code",
   "execution_count": 32,
   "metadata": {},
   "outputs": [
    {
     "name": "stdout",
     "output_type": "stream",
     "text": [
      "386\n"
     ]
    }
   ],
   "source": [
    "#Among unique duration strings, find how many represent >= 10h of duration:\n",
    "long_duration = [] #>= 10 hours or 600 minutes\n",
    "for item in uniq_dur:\n",
    "    if len(item) != 7:\n",
    "                long_duration.append(item)\n",
    "#Long_duration\n",
    "print(len(long_duration))"
   ]
  },
  {
   "cell_type": "code",
   "execution_count": 33,
   "metadata": {},
   "outputs": [
    {
     "name": "stdout",
     "output_type": "stream",
     "text": [
      "172032:14:50\n",
      "172032:39:03\n",
      "136:25:12\n",
      "172032:17:45\n",
      "172032:19:27\n",
      "119:53:35\n",
      "120:49:05\n"
     ]
    }
   ],
   "source": [
    "#Check for the most unusual strings for trip duration: some erroneous entries need to be addressed\n",
    "for item in uniq_dur:\n",
    "    if len(item) > 8:\n",
    "        print(item)"
   ]
  },
  {
   "cell_type": "code",
   "execution_count": 34,
   "metadata": {},
   "outputs": [],
   "source": [
    "def duration_to_minutes(s):\n",
    "    \"\"\"\n",
    "    Function that takes a string with the hh:mm:ss format and\n",
    "    returns the integer equivalent of the total time in minutes, \n",
    "    or zero for missing values in a Pandas dataframe.\n",
    "    \"\"\"\n",
    "    if pd.isnull(s):\n",
    "        val = 0 #note: this fills with 0 the 38 instances with null (missing) values\n",
    "    else:\n",
    "        hms = s.split(':')\n",
    "        val = int(hms[0])*60 + int(hms[1]) + int(hms[2])/60.0\n",
    "    return val"
   ]
  },
  {
   "cell_type": "code",
   "execution_count": 35,
   "metadata": {},
   "outputs": [
    {
     "data": {
      "text/plain": [
       "53.648221015930176"
      ]
     },
     "execution_count": 35,
     "metadata": {},
     "output_type": "execute_result"
    }
   ],
   "source": [
    "#Transform the trip duration string into trip duration in minutes:\n",
    "t0 = time.time()\n",
    "df_uber['duration_min'] = df_uber.trip_duration.apply(duration_to_minutes)\n",
    "time.time() - t0"
   ]
  },
  {
   "cell_type": "code",
   "execution_count": 36,
   "metadata": {},
   "outputs": [
    {
     "data": {
      "text/html": [
       "<div>\n",
       "<style scoped>\n",
       "    .dataframe tbody tr th:only-of-type {\n",
       "        vertical-align: middle;\n",
       "    }\n",
       "\n",
       "    .dataframe tbody tr th {\n",
       "        vertical-align: top;\n",
       "    }\n",
       "\n",
       "    .dataframe thead th {\n",
       "        text-align: right;\n",
       "    }\n",
       "</style>\n",
       "<table border=\"1\" class=\"dataframe\">\n",
       "  <thead>\n",
       "    <tr style=\"text-align: right;\">\n",
       "      <th></th>\n",
       "      <th>id</th>\n",
       "      <th>origin_taz</th>\n",
       "      <th>destination_taz</th>\n",
       "      <th>trip_distance</th>\n",
       "      <th>trip_duration</th>\n",
       "      <th>pu_date_hour</th>\n",
       "      <th>pu_date</th>\n",
       "      <th>year</th>\n",
       "      <th>month</th>\n",
       "      <th>day</th>\n",
       "      <th>hour</th>\n",
       "      <th>weekday</th>\n",
       "      <th>duration_min</th>\n",
       "    </tr>\n",
       "  </thead>\n",
       "  <tbody>\n",
       "    <tr>\n",
       "      <td>0</td>\n",
       "      <td>252581</td>\n",
       "      <td>7C</td>\n",
       "      <td>6A</td>\n",
       "      <td>4.250000</td>\n",
       "      <td>0:15:11</td>\n",
       "      <td>2014-09-01 09:00:00</td>\n",
       "      <td>2014-09-01</td>\n",
       "      <td>2014</td>\n",
       "      <td>9</td>\n",
       "      <td>1</td>\n",
       "      <td>0</td>\n",
       "      <td>0</td>\n",
       "      <td>15.183333</td>\n",
       "    </tr>\n",
       "    <tr>\n",
       "      <td>1</td>\n",
       "      <td>252582</td>\n",
       "      <td>7B</td>\n",
       "      <td>15</td>\n",
       "      <td>10.170000</td>\n",
       "      <td>0:34:05</td>\n",
       "      <td>2014-09-01 18:00:00</td>\n",
       "      <td>2014-09-01</td>\n",
       "      <td>2014</td>\n",
       "      <td>9</td>\n",
       "      <td>1</td>\n",
       "      <td>0</td>\n",
       "      <td>0</td>\n",
       "      <td>34.083333</td>\n",
       "    </tr>\n",
       "    <tr>\n",
       "      <td>2</td>\n",
       "      <td>252583</td>\n",
       "      <td>11</td>\n",
       "      <td>2A</td>\n",
       "      <td>4.020000</td>\n",
       "      <td>0:17:06</td>\n",
       "      <td>2014-09-01 17:00:00</td>\n",
       "      <td>2014-09-01</td>\n",
       "      <td>2014</td>\n",
       "      <td>9</td>\n",
       "      <td>1</td>\n",
       "      <td>0</td>\n",
       "      <td>0</td>\n",
       "      <td>17.100000</td>\n",
       "    </tr>\n",
       "    <tr>\n",
       "      <td>3</td>\n",
       "      <td>252584</td>\n",
       "      <td>3B</td>\n",
       "      <td>4A</td>\n",
       "      <td>1.460000</td>\n",
       "      <td>0:06:32</td>\n",
       "      <td>2014-09-01 13:00:00</td>\n",
       "      <td>2014-09-01</td>\n",
       "      <td>2014</td>\n",
       "      <td>9</td>\n",
       "      <td>1</td>\n",
       "      <td>0</td>\n",
       "      <td>0</td>\n",
       "      <td>6.533333</td>\n",
       "    </tr>\n",
       "    <tr>\n",
       "      <td>4</td>\n",
       "      <td>252585</td>\n",
       "      <td>2A</td>\n",
       "      <td>10</td>\n",
       "      <td>8.310000</td>\n",
       "      <td>0:26:17</td>\n",
       "      <td>2014-09-01 14:00:00</td>\n",
       "      <td>2014-09-01</td>\n",
       "      <td>2014</td>\n",
       "      <td>9</td>\n",
       "      <td>1</td>\n",
       "      <td>0</td>\n",
       "      <td>0</td>\n",
       "      <td>26.283333</td>\n",
       "    </tr>\n",
       "  </tbody>\n",
       "</table>\n",
       "</div>"
      ],
      "text/plain": [
       "       id origin_taz destination_taz  trip_distance trip_duration  \\\n",
       "0  252581         7C              6A       4.250000       0:15:11   \n",
       "1  252582         7B              15      10.170000       0:34:05   \n",
       "2  252583         11              2A       4.020000       0:17:06   \n",
       "3  252584         3B              4A       1.460000       0:06:32   \n",
       "4  252585         2A              10       8.310000       0:26:17   \n",
       "\n",
       "         pu_date_hour    pu_date  year  month  day  hour  weekday  \\\n",
       "0 2014-09-01 09:00:00 2014-09-01  2014      9    1     0        0   \n",
       "1 2014-09-01 18:00:00 2014-09-01  2014      9    1     0        0   \n",
       "2 2014-09-01 17:00:00 2014-09-01  2014      9    1     0        0   \n",
       "3 2014-09-01 13:00:00 2014-09-01  2014      9    1     0        0   \n",
       "4 2014-09-01 14:00:00 2014-09-01  2014      9    1     0        0   \n",
       "\n",
       "   duration_min  \n",
       "0     15.183333  \n",
       "1     34.083333  \n",
       "2     17.100000  \n",
       "3      6.533333  \n",
       "4     26.283333  "
      ]
     },
     "execution_count": 36,
     "metadata": {},
     "output_type": "execute_result"
    }
   ],
   "source": [
    "df_uber.head()"
   ]
  },
  {
   "cell_type": "code",
   "execution_count": 37,
   "metadata": {},
   "outputs": [],
   "source": [
    "#Get the mean distance and duration for each origin-destination pair\n",
    "df_DistDur = df_uber.groupby(['origin_taz', 'destination_taz'])[['trip_distance', 'duration_min']].mean()"
   ]
  },
  {
   "cell_type": "code",
   "execution_count": 38,
   "metadata": {},
   "outputs": [
    {
     "data": {
      "text/html": [
       "<div>\n",
       "<style scoped>\n",
       "    .dataframe tbody tr th:only-of-type {\n",
       "        vertical-align: middle;\n",
       "    }\n",
       "\n",
       "    .dataframe tbody tr th {\n",
       "        vertical-align: top;\n",
       "    }\n",
       "\n",
       "    .dataframe thead th {\n",
       "        text-align: right;\n",
       "    }\n",
       "</style>\n",
       "<table border=\"1\" class=\"dataframe\">\n",
       "  <thead>\n",
       "    <tr style=\"text-align: right;\">\n",
       "      <th></th>\n",
       "      <th></th>\n",
       "      <th>trip_distance</th>\n",
       "      <th>duration_min</th>\n",
       "    </tr>\n",
       "    <tr>\n",
       "      <th>origin_taz</th>\n",
       "      <th>destination_taz</th>\n",
       "      <th></th>\n",
       "      <th></th>\n",
       "    </tr>\n",
       "  </thead>\n",
       "  <tbody>\n",
       "    <tr>\n",
       "      <td rowspan=\"5\" valign=\"top\">1</td>\n",
       "      <td>1</td>\n",
       "      <td>1.421855</td>\n",
       "      <td>10.565513</td>\n",
       "    </tr>\n",
       "    <tr>\n",
       "      <td>10</td>\n",
       "      <td>3.650791</td>\n",
       "      <td>17.977578</td>\n",
       "    </tr>\n",
       "    <tr>\n",
       "      <td>11</td>\n",
       "      <td>5.093679</td>\n",
       "      <td>22.489925</td>\n",
       "    </tr>\n",
       "    <tr>\n",
       "      <td>12</td>\n",
       "      <td>8.887789</td>\n",
       "      <td>29.102406</td>\n",
       "    </tr>\n",
       "    <tr>\n",
       "      <td>13</td>\n",
       "      <td>11.583137</td>\n",
       "      <td>32.156759</td>\n",
       "    </tr>\n",
       "  </tbody>\n",
       "</table>\n",
       "</div>"
      ],
      "text/plain": [
       "                            trip_distance  duration_min\n",
       "origin_taz destination_taz                             \n",
       "1          1                     1.421855     10.565513\n",
       "           10                    3.650791     17.977578\n",
       "           11                    5.093679     22.489925\n",
       "           12                    8.887789     29.102406\n",
       "           13                   11.583137     32.156759"
      ]
     },
     "execution_count": 38,
     "metadata": {},
     "output_type": "execute_result"
    }
   ],
   "source": [
    "df_DistDur.head()"
   ]
  },
  {
   "cell_type": "code",
   "execution_count": 39,
   "metadata": {},
   "outputs": [],
   "source": [
    "#Replace 38 missing values with the average distance and duration for the respective origin-destination pair\n",
    "for i in df38.index:\n",
    "    orig = df_uber.loc[i, 'origin_taz']\n",
    "    dest = df_uber.loc[i, 'destination_taz']\n",
    "    df_uber.loc[i, 'trip_distance'] = df_DistDur.loc[orig, dest].trip_distance\n",
    "    df_uber.loc[i, 'duration_min'] = df_DistDur.loc[orig, dest].duration_min"
   ]
  },
  {
   "cell_type": "code",
   "execution_count": 40,
   "metadata": {},
   "outputs": [],
   "source": [
    "#Calculate average trip speed (mph) to help in understanding outliers (like trips with duration >10 h):\n",
    "df_uber['trip_mph_avg'] = df_uber.trip_distance/(df_uber.duration_min/60.0)"
   ]
  },
  {
   "cell_type": "code",
   "execution_count": 41,
   "metadata": {},
   "outputs": [
    {
     "data": {
      "text/html": [
       "<div>\n",
       "<style scoped>\n",
       "    .dataframe tbody tr th:only-of-type {\n",
       "        vertical-align: middle;\n",
       "    }\n",
       "\n",
       "    .dataframe tbody tr th {\n",
       "        vertical-align: top;\n",
       "    }\n",
       "\n",
       "    .dataframe thead th {\n",
       "        text-align: right;\n",
       "    }\n",
       "</style>\n",
       "<table border=\"1\" class=\"dataframe\">\n",
       "  <thead>\n",
       "    <tr style=\"text-align: right;\">\n",
       "      <th></th>\n",
       "      <th>id</th>\n",
       "      <th>origin_taz</th>\n",
       "      <th>destination_taz</th>\n",
       "      <th>trip_distance</th>\n",
       "      <th>trip_duration</th>\n",
       "      <th>pu_date_hour</th>\n",
       "      <th>pu_date</th>\n",
       "      <th>year</th>\n",
       "      <th>month</th>\n",
       "      <th>day</th>\n",
       "      <th>hour</th>\n",
       "      <th>weekday</th>\n",
       "      <th>duration_min</th>\n",
       "      <th>trip_mph_avg</th>\n",
       "    </tr>\n",
       "  </thead>\n",
       "  <tbody>\n",
       "    <tr>\n",
       "      <td>15155317</td>\n",
       "      <td>39535</td>\n",
       "      <td>2A</td>\n",
       "      <td>11</td>\n",
       "      <td>3.936804</td>\n",
       "      <td>NaN</td>\n",
       "      <td>2015-04-25 12:00:00</td>\n",
       "      <td>2015-04-25</td>\n",
       "      <td>2015</td>\n",
       "      <td>4</td>\n",
       "      <td>25</td>\n",
       "      <td>0</td>\n",
       "      <td>5</td>\n",
       "      <td>19.732101</td>\n",
       "      <td>11.970759</td>\n",
       "    </tr>\n",
       "    <tr>\n",
       "      <td>15245057</td>\n",
       "      <td>1009076</td>\n",
       "      <td>2A</td>\n",
       "      <td>2A</td>\n",
       "      <td>1.358751</td>\n",
       "      <td>NaN</td>\n",
       "      <td>2015-04-26 01:00:00</td>\n",
       "      <td>2015-04-26</td>\n",
       "      <td>2015</td>\n",
       "      <td>4</td>\n",
       "      <td>26</td>\n",
       "      <td>0</td>\n",
       "      <td>6</td>\n",
       "      <td>10.919522</td>\n",
       "      <td>7.465989</td>\n",
       "    </tr>\n",
       "    <tr>\n",
       "      <td>16519652</td>\n",
       "      <td>15028665</td>\n",
       "      <td>2A</td>\n",
       "      <td>7C</td>\n",
       "      <td>9.039374</td>\n",
       "      <td>NaN</td>\n",
       "      <td>2015-04-29 21:00:00</td>\n",
       "      <td>2015-04-29</td>\n",
       "      <td>2015</td>\n",
       "      <td>4</td>\n",
       "      <td>29</td>\n",
       "      <td>0</td>\n",
       "      <td>2</td>\n",
       "      <td>30.204064</td>\n",
       "      <td>17.956604</td>\n",
       "    </tr>\n",
       "    <tr>\n",
       "      <td>17148253</td>\n",
       "      <td>22250173</td>\n",
       "      <td>2A</td>\n",
       "      <td>2A</td>\n",
       "      <td>1.358751</td>\n",
       "      <td>NaN</td>\n",
       "      <td>2015-04-12 02:00:00</td>\n",
       "      <td>2015-04-12</td>\n",
       "      <td>2015</td>\n",
       "      <td>4</td>\n",
       "      <td>12</td>\n",
       "      <td>0</td>\n",
       "      <td>6</td>\n",
       "      <td>10.919522</td>\n",
       "      <td>7.465989</td>\n",
       "    </tr>\n",
       "    <tr>\n",
       "      <td>17297563</td>\n",
       "      <td>23716998</td>\n",
       "      <td>2C</td>\n",
       "      <td>11</td>\n",
       "      <td>4.833061</td>\n",
       "      <td>NaN</td>\n",
       "      <td>2015-04-25 13:00:00</td>\n",
       "      <td>2015-04-25</td>\n",
       "      <td>2015</td>\n",
       "      <td>4</td>\n",
       "      <td>25</td>\n",
       "      <td>0</td>\n",
       "      <td>5</td>\n",
       "      <td>24.385143</td>\n",
       "      <td>11.891817</td>\n",
       "    </tr>\n",
       "  </tbody>\n",
       "</table>\n",
       "</div>"
      ],
      "text/plain": [
       "                id origin_taz destination_taz  trip_distance trip_duration  \\\n",
       "15155317     39535         2A              11       3.936804           NaN   \n",
       "15245057   1009076         2A              2A       1.358751           NaN   \n",
       "16519652  15028665         2A              7C       9.039374           NaN   \n",
       "17148253  22250173         2A              2A       1.358751           NaN   \n",
       "17297563  23716998         2C              11       4.833061           NaN   \n",
       "\n",
       "                pu_date_hour    pu_date  year  month  day  hour  weekday  \\\n",
       "15155317 2015-04-25 12:00:00 2015-04-25  2015      4   25     0        5   \n",
       "15245057 2015-04-26 01:00:00 2015-04-26  2015      4   26     0        6   \n",
       "16519652 2015-04-29 21:00:00 2015-04-29  2015      4   29     0        2   \n",
       "17148253 2015-04-12 02:00:00 2015-04-12  2015      4   12     0        6   \n",
       "17297563 2015-04-25 13:00:00 2015-04-25  2015      4   25     0        5   \n",
       "\n",
       "          duration_min  trip_mph_avg  \n",
       "15155317     19.732101     11.970759  \n",
       "15245057     10.919522      7.465989  \n",
       "16519652     30.204064     17.956604  \n",
       "17148253     10.919522      7.465989  \n",
       "17297563     24.385143     11.891817  "
      ]
     },
     "execution_count": 41,
     "metadata": {},
     "output_type": "execute_result"
    }
   ],
   "source": [
    "#Check that trip_distance and duration_min have been replaced, and trip speed has been calculated:\n",
    "df_uber.iloc[df38.index, :].head()"
   ]
  },
  {
   "cell_type": "raw",
   "metadata": {},
   "source": []
  },
  {
   "cell_type": "code",
   "execution_count": 42,
   "metadata": {},
   "outputs": [],
   "source": [
    "#Drop redundant trip_duration columns\n",
    "df_uber = df_uber.drop('trip_duration', axis=1)\n",
    "df_uber = df_uber.drop('pu_date_hour', axis=1)"
   ]
  },
  {
   "cell_type": "code",
   "execution_count": 43,
   "metadata": {},
   "outputs": [],
   "source": [
    "#Source: http://uberestimate.com/prices/New-York-City/ for Uber X\n",
    "base_fare = 2.55\n",
    "per_minute = 0.35\n",
    "per_mile = 1.75\n",
    "min_fare = 8"
   ]
  },
  {
   "cell_type": "code",
   "execution_count": 44,
   "metadata": {},
   "outputs": [],
   "source": [
    "#When not possible to work with Pandas dataframe directly (due to memory usage), go back to array!\n",
    "#test = df_uber[['duration_min', 'trip_distance']].values"
   ]
  },
  {
   "cell_type": "code",
   "execution_count": 45,
   "metadata": {},
   "outputs": [],
   "source": [
    "#def est_revenue(arr):\n",
    "#   rev = base_fare + arr[0] * per_minute + arr[1] * per_mile\n",
    "#   return rev if rev > min_fare else min_fare"
   ]
  },
  {
   "cell_type": "code",
   "execution_count": 46,
   "metadata": {},
   "outputs": [],
   "source": [
    "#df_uber['est_revenue'] = pd.Series(map(lambda x: est_revenue(x), test))"
   ]
  },
  {
   "cell_type": "code",
   "execution_count": 47,
   "metadata": {},
   "outputs": [],
   "source": [
    "#Using eval() is even more efficient for large datasets than resorting to Numpy! \n",
    "#Local variables must be followed by @. Only for arithmetic, cannot use if statement, for example.\n",
    "df_uber['est_revenue'] = df_uber.eval('@base_fare + duration_min * @per_minute + trip_distance * @per_mile')\n",
    "df_uber.loc[df_uber.est_revenue < 8, 'est_revenue'] = min_fare"
   ]
  },
  {
   "cell_type": "code",
   "execution_count": 48,
   "metadata": {},
   "outputs": [
    {
     "data": {
      "text/html": [
       "<div>\n",
       "<style scoped>\n",
       "    .dataframe tbody tr th:only-of-type {\n",
       "        vertical-align: middle;\n",
       "    }\n",
       "\n",
       "    .dataframe tbody tr th {\n",
       "        vertical-align: top;\n",
       "    }\n",
       "\n",
       "    .dataframe thead th {\n",
       "        text-align: right;\n",
       "    }\n",
       "</style>\n",
       "<table border=\"1\" class=\"dataframe\">\n",
       "  <thead>\n",
       "    <tr style=\"text-align: right;\">\n",
       "      <th></th>\n",
       "      <th>id</th>\n",
       "      <th>origin_taz</th>\n",
       "      <th>destination_taz</th>\n",
       "      <th>trip_distance</th>\n",
       "      <th>pu_date</th>\n",
       "      <th>year</th>\n",
       "      <th>month</th>\n",
       "      <th>day</th>\n",
       "      <th>hour</th>\n",
       "      <th>weekday</th>\n",
       "      <th>duration_min</th>\n",
       "      <th>trip_mph_avg</th>\n",
       "      <th>est_revenue</th>\n",
       "    </tr>\n",
       "  </thead>\n",
       "  <tbody>\n",
       "    <tr>\n",
       "      <td>0</td>\n",
       "      <td>252581</td>\n",
       "      <td>7C</td>\n",
       "      <td>6A</td>\n",
       "      <td>4.250000</td>\n",
       "      <td>2014-09-01</td>\n",
       "      <td>2014</td>\n",
       "      <td>9</td>\n",
       "      <td>1</td>\n",
       "      <td>0</td>\n",
       "      <td>0</td>\n",
       "      <td>15.183333</td>\n",
       "      <td>16.794731</td>\n",
       "      <td>15.301667</td>\n",
       "    </tr>\n",
       "    <tr>\n",
       "      <td>1</td>\n",
       "      <td>252582</td>\n",
       "      <td>7B</td>\n",
       "      <td>15</td>\n",
       "      <td>10.170000</td>\n",
       "      <td>2014-09-01</td>\n",
       "      <td>2014</td>\n",
       "      <td>9</td>\n",
       "      <td>1</td>\n",
       "      <td>0</td>\n",
       "      <td>0</td>\n",
       "      <td>34.083333</td>\n",
       "      <td>17.903178</td>\n",
       "      <td>32.276667</td>\n",
       "    </tr>\n",
       "    <tr>\n",
       "      <td>2</td>\n",
       "      <td>252583</td>\n",
       "      <td>11</td>\n",
       "      <td>2A</td>\n",
       "      <td>4.020000</td>\n",
       "      <td>2014-09-01</td>\n",
       "      <td>2014</td>\n",
       "      <td>9</td>\n",
       "      <td>1</td>\n",
       "      <td>0</td>\n",
       "      <td>0</td>\n",
       "      <td>17.100000</td>\n",
       "      <td>14.105263</td>\n",
       "      <td>15.570000</td>\n",
       "    </tr>\n",
       "    <tr>\n",
       "      <td>3</td>\n",
       "      <td>252584</td>\n",
       "      <td>3B</td>\n",
       "      <td>4A</td>\n",
       "      <td>1.460000</td>\n",
       "      <td>2014-09-01</td>\n",
       "      <td>2014</td>\n",
       "      <td>9</td>\n",
       "      <td>1</td>\n",
       "      <td>0</td>\n",
       "      <td>0</td>\n",
       "      <td>6.533333</td>\n",
       "      <td>13.408163</td>\n",
       "      <td>8.000000</td>\n",
       "    </tr>\n",
       "    <tr>\n",
       "      <td>4</td>\n",
       "      <td>252585</td>\n",
       "      <td>2A</td>\n",
       "      <td>10</td>\n",
       "      <td>8.310000</td>\n",
       "      <td>2014-09-01</td>\n",
       "      <td>2014</td>\n",
       "      <td>9</td>\n",
       "      <td>1</td>\n",
       "      <td>0</td>\n",
       "      <td>0</td>\n",
       "      <td>26.283333</td>\n",
       "      <td>18.970197</td>\n",
       "      <td>26.291667</td>\n",
       "    </tr>\n",
       "  </tbody>\n",
       "</table>\n",
       "</div>"
      ],
      "text/plain": [
       "       id origin_taz destination_taz  trip_distance    pu_date  year  month  \\\n",
       "0  252581         7C              6A       4.250000 2014-09-01  2014      9   \n",
       "1  252582         7B              15      10.170000 2014-09-01  2014      9   \n",
       "2  252583         11              2A       4.020000 2014-09-01  2014      9   \n",
       "3  252584         3B              4A       1.460000 2014-09-01  2014      9   \n",
       "4  252585         2A              10       8.310000 2014-09-01  2014      9   \n",
       "\n",
       "   day  hour  weekday  duration_min  trip_mph_avg  est_revenue  \n",
       "0    1     0        0     15.183333     16.794731    15.301667  \n",
       "1    1     0        0     34.083333     17.903178    32.276667  \n",
       "2    1     0        0     17.100000     14.105263    15.570000  \n",
       "3    1     0        0      6.533333     13.408163     8.000000  \n",
       "4    1     0        0     26.283333     18.970197    26.291667  "
      ]
     },
     "execution_count": 48,
     "metadata": {},
     "output_type": "execute_result"
    }
   ],
   "source": [
    "df_uber.head()"
   ]
  },
  {
   "cell_type": "code",
   "execution_count": 49,
   "metadata": {},
   "outputs": [
    {
     "name": "stdout",
     "output_type": "stream",
     "text": [
      "7\n"
     ]
    },
    {
     "data": {
      "text/plain": [
       "14459977.979999999"
      ]
     },
     "execution_count": 49,
     "metadata": {},
     "output_type": "execute_result"
    }
   ],
   "source": [
    "#Check for very long duration entries, and effect on revenue numbers:\n",
    "\n",
    "#>=100h:\n",
    "print(len(df_uber[(df_uber.duration_min >= 6000)]))\n",
    "#Greater than 100h: 7 entries (erroneous): system error? fraud? Total revenue is relevant: $14,459,978 (2.4% of total)\n",
    "#172032:14:50 #probable system error: distance < 10 miles\n",
    "#172032:39:03 #probable system error: distance < 10 miles\n",
    "#136:25:12 #short distance\n",
    "#172032:17:45 #probable system error: distance < 10 miles\n",
    "#172032:19:27 #probable system error: distance < 10 miles\n",
    "#119:53:35 #long distance, incorrect destination?\n",
    "#120:49:05 #long distance, this entry has missing destination\n",
    "\n",
    "#>16h and <100h : 116 entries\n",
    "df_uber[(df_uber.duration_min > 960) & (df_uber.duration_min > 6000)].est_revenue.sum()"
   ]
  },
  {
   "cell_type": "code",
   "execution_count": 50,
   "metadata": {},
   "outputs": [
    {
     "name": "stdout",
     "output_type": "stream",
     "text": [
      "24866\n"
     ]
    },
    {
     "data": {
      "text/html": [
       "<div>\n",
       "<style scoped>\n",
       "    .dataframe tbody tr th:only-of-type {\n",
       "        vertical-align: middle;\n",
       "    }\n",
       "\n",
       "    .dataframe tbody tr th {\n",
       "        vertical-align: top;\n",
       "    }\n",
       "\n",
       "    .dataframe thead th {\n",
       "        text-align: right;\n",
       "    }\n",
       "</style>\n",
       "<table border=\"1\" class=\"dataframe\">\n",
       "  <thead>\n",
       "    <tr style=\"text-align: right;\">\n",
       "      <th></th>\n",
       "      <th>id</th>\n",
       "      <th>origin_taz</th>\n",
       "      <th>destination_taz</th>\n",
       "      <th>trip_distance</th>\n",
       "      <th>pu_date</th>\n",
       "      <th>year</th>\n",
       "      <th>month</th>\n",
       "      <th>day</th>\n",
       "      <th>hour</th>\n",
       "      <th>weekday</th>\n",
       "      <th>duration_min</th>\n",
       "      <th>trip_mph_avg</th>\n",
       "      <th>est_revenue</th>\n",
       "    </tr>\n",
       "  </thead>\n",
       "  <tbody>\n",
       "    <tr>\n",
       "      <td>21726</td>\n",
       "      <td>274307</td>\n",
       "      <td>4B</td>\n",
       "      <td>8</td>\n",
       "      <td>0.000000</td>\n",
       "      <td>2014-09-29</td>\n",
       "      <td>2014</td>\n",
       "      <td>9</td>\n",
       "      <td>29</td>\n",
       "      <td>0</td>\n",
       "      <td>0</td>\n",
       "      <td>0.000000</td>\n",
       "      <td>nan</td>\n",
       "      <td>8.000000</td>\n",
       "    </tr>\n",
       "    <tr>\n",
       "      <td>21847</td>\n",
       "      <td>274428</td>\n",
       "      <td>4C</td>\n",
       "      <td>2A</td>\n",
       "      <td>0.000000</td>\n",
       "      <td>2014-09-29</td>\n",
       "      <td>2014</td>\n",
       "      <td>9</td>\n",
       "      <td>29</td>\n",
       "      <td>0</td>\n",
       "      <td>0</td>\n",
       "      <td>0.000000</td>\n",
       "      <td>nan</td>\n",
       "      <td>8.000000</td>\n",
       "    </tr>\n",
       "    <tr>\n",
       "      <td>21909</td>\n",
       "      <td>274490</td>\n",
       "      <td>5C</td>\n",
       "      <td>6A</td>\n",
       "      <td>0.000000</td>\n",
       "      <td>2014-09-29</td>\n",
       "      <td>2014</td>\n",
       "      <td>9</td>\n",
       "      <td>29</td>\n",
       "      <td>0</td>\n",
       "      <td>0</td>\n",
       "      <td>0.000000</td>\n",
       "      <td>nan</td>\n",
       "      <td>8.000000</td>\n",
       "    </tr>\n",
       "    <tr>\n",
       "      <td>22179</td>\n",
       "      <td>274760</td>\n",
       "      <td>11</td>\n",
       "      <td>4A</td>\n",
       "      <td>0.000000</td>\n",
       "      <td>2014-09-29</td>\n",
       "      <td>2014</td>\n",
       "      <td>9</td>\n",
       "      <td>29</td>\n",
       "      <td>0</td>\n",
       "      <td>0</td>\n",
       "      <td>0.000000</td>\n",
       "      <td>nan</td>\n",
       "      <td>8.000000</td>\n",
       "    </tr>\n",
       "    <tr>\n",
       "      <td>22359</td>\n",
       "      <td>274940</td>\n",
       "      <td>3C</td>\n",
       "      <td>1</td>\n",
       "      <td>0.000000</td>\n",
       "      <td>2014-09-30</td>\n",
       "      <td>2014</td>\n",
       "      <td>9</td>\n",
       "      <td>30</td>\n",
       "      <td>0</td>\n",
       "      <td>1</td>\n",
       "      <td>0.000000</td>\n",
       "      <td>nan</td>\n",
       "      <td>8.000000</td>\n",
       "    </tr>\n",
       "  </tbody>\n",
       "</table>\n",
       "</div>"
      ],
      "text/plain": [
       "           id origin_taz destination_taz  trip_distance    pu_date  year  \\\n",
       "21726  274307         4B               8       0.000000 2014-09-29  2014   \n",
       "21847  274428         4C              2A       0.000000 2014-09-29  2014   \n",
       "21909  274490         5C              6A       0.000000 2014-09-29  2014   \n",
       "22179  274760         11              4A       0.000000 2014-09-29  2014   \n",
       "22359  274940         3C               1       0.000000 2014-09-30  2014   \n",
       "\n",
       "       month  day  hour  weekday  duration_min  trip_mph_avg  est_revenue  \n",
       "21726      9   29     0        0      0.000000           nan     8.000000  \n",
       "21847      9   29     0        0      0.000000           nan     8.000000  \n",
       "21909      9   29     0        0      0.000000           nan     8.000000  \n",
       "22179      9   29     0        0      0.000000           nan     8.000000  \n",
       "22359      9   30     0        1      0.000000           nan     8.000000  "
      ]
     },
     "execution_count": 50,
     "metadata": {},
     "output_type": "execute_result"
    }
   ],
   "source": [
    "#Were the trips with distance and duration equal to zero actually cancelled (didn't happen)?\n",
    "\n",
    "print(len(df_uber[(df_uber.duration_min == 0) & (df_uber.trip_distance == 0)]))\n",
    "#24866\n",
    "#There is at least one case almost daily. The 24866 cases represent a revenue of $198,928, based on $8 minimum fare.\n",
    "\n",
    "#Note that origin and destination are the same, except for 910 trips: did these trips in fact occur?\n",
    "df_uber[(df_uber.duration_min == 0) & (df_uber.trip_distance == 0) & (df_uber.origin_taz != df_uber.destination_taz)].\\\n",
    "head()\n",
    "\n",
    "#910\n",
    "\n",
    "#There is generally a fee associated with trip cancellation, so unless these trips represent a system error or fraud,\n",
    "#there was no loss of the minimum fare revenue."
   ]
  },
  {
   "cell_type": "code",
   "execution_count": 51,
   "metadata": {},
   "outputs": [
    {
     "name": "stdout",
     "output_type": "stream",
     "text": [
      "85515\n"
     ]
    },
    {
     "data": {
      "text/html": [
       "<div>\n",
       "<style scoped>\n",
       "    .dataframe tbody tr th:only-of-type {\n",
       "        vertical-align: middle;\n",
       "    }\n",
       "\n",
       "    .dataframe tbody tr th {\n",
       "        vertical-align: top;\n",
       "    }\n",
       "\n",
       "    .dataframe thead th {\n",
       "        text-align: right;\n",
       "    }\n",
       "</style>\n",
       "<table border=\"1\" class=\"dataframe\">\n",
       "  <thead>\n",
       "    <tr style=\"text-align: right;\">\n",
       "      <th></th>\n",
       "      <th>id</th>\n",
       "      <th>origin_taz</th>\n",
       "      <th>destination_taz</th>\n",
       "      <th>trip_distance</th>\n",
       "      <th>pu_date</th>\n",
       "      <th>year</th>\n",
       "      <th>month</th>\n",
       "      <th>day</th>\n",
       "      <th>hour</th>\n",
       "      <th>weekday</th>\n",
       "      <th>duration_min</th>\n",
       "      <th>trip_mph_avg</th>\n",
       "      <th>est_revenue</th>\n",
       "    </tr>\n",
       "  </thead>\n",
       "  <tbody>\n",
       "    <tr>\n",
       "      <td>0</td>\n",
       "      <td>252581</td>\n",
       "      <td>7C</td>\n",
       "      <td>6A</td>\n",
       "      <td>4.250000</td>\n",
       "      <td>2014-09-01</td>\n",
       "      <td>2014</td>\n",
       "      <td>9</td>\n",
       "      <td>1</td>\n",
       "      <td>0</td>\n",
       "      <td>0</td>\n",
       "      <td>15.183333</td>\n",
       "      <td>16.794731</td>\n",
       "      <td>15.301667</td>\n",
       "    </tr>\n",
       "    <tr>\n",
       "      <td>1</td>\n",
       "      <td>252582</td>\n",
       "      <td>7B</td>\n",
       "      <td>15</td>\n",
       "      <td>10.170000</td>\n",
       "      <td>2014-09-01</td>\n",
       "      <td>2014</td>\n",
       "      <td>9</td>\n",
       "      <td>1</td>\n",
       "      <td>0</td>\n",
       "      <td>0</td>\n",
       "      <td>34.083333</td>\n",
       "      <td>17.903178</td>\n",
       "      <td>32.276667</td>\n",
       "    </tr>\n",
       "    <tr>\n",
       "      <td>2</td>\n",
       "      <td>252583</td>\n",
       "      <td>11</td>\n",
       "      <td>2A</td>\n",
       "      <td>4.020000</td>\n",
       "      <td>2014-09-01</td>\n",
       "      <td>2014</td>\n",
       "      <td>9</td>\n",
       "      <td>1</td>\n",
       "      <td>0</td>\n",
       "      <td>0</td>\n",
       "      <td>17.100000</td>\n",
       "      <td>14.105263</td>\n",
       "      <td>15.570000</td>\n",
       "    </tr>\n",
       "    <tr>\n",
       "      <td>3</td>\n",
       "      <td>252584</td>\n",
       "      <td>3B</td>\n",
       "      <td>4A</td>\n",
       "      <td>1.460000</td>\n",
       "      <td>2014-09-01</td>\n",
       "      <td>2014</td>\n",
       "      <td>9</td>\n",
       "      <td>1</td>\n",
       "      <td>0</td>\n",
       "      <td>0</td>\n",
       "      <td>6.533333</td>\n",
       "      <td>13.408163</td>\n",
       "      <td>8.000000</td>\n",
       "    </tr>\n",
       "    <tr>\n",
       "      <td>4</td>\n",
       "      <td>252585</td>\n",
       "      <td>2A</td>\n",
       "      <td>10</td>\n",
       "      <td>8.310000</td>\n",
       "      <td>2014-09-01</td>\n",
       "      <td>2014</td>\n",
       "      <td>9</td>\n",
       "      <td>1</td>\n",
       "      <td>0</td>\n",
       "      <td>0</td>\n",
       "      <td>26.283333</td>\n",
       "      <td>18.970197</td>\n",
       "      <td>26.291667</td>\n",
       "    </tr>\n",
       "  </tbody>\n",
       "</table>\n",
       "</div>"
      ],
      "text/plain": [
       "       id origin_taz destination_taz  trip_distance    pu_date  year  month  \\\n",
       "0  252581         7C              6A       4.250000 2014-09-01  2014      9   \n",
       "1  252582         7B              15      10.170000 2014-09-01  2014      9   \n",
       "2  252583         11              2A       4.020000 2014-09-01  2014      9   \n",
       "3  252584         3B              4A       1.460000 2014-09-01  2014      9   \n",
       "4  252585         2A              10       8.310000 2014-09-01  2014      9   \n",
       "\n",
       "   day  hour  weekday  duration_min  trip_mph_avg  est_revenue  \n",
       "0    1     0        0     15.183333     16.794731    15.301667  \n",
       "1    1     0        0     34.083333     17.903178    32.276667  \n",
       "2    1     0        0     17.100000     14.105263    15.570000  \n",
       "3    1     0        0      6.533333     13.408163     8.000000  \n",
       "4    1     0        0     26.283333     18.970197    26.291667  "
      ]
     },
     "execution_count": 51,
     "metadata": {},
     "output_type": "execute_result"
    }
   ],
   "source": [
    "#Check cases with distance equal to zero but duration greater than zero:\n",
    "\n",
    "print(len(df_uber[(df_uber.duration_min > 0) & (df_uber.trip_distance == 0)]))\n",
    "\n",
    "\n",
    "#The median duration for trips with zero distance is 10 seconds (mean= 2.4 minutes), so most of these 85,515 cases \n",
    "#possibly represent trips that were cancelled right after they were registered.\n",
    "\n",
    "#3873 trips of the 85,515 cases show pick up and drop off in different taxi zones \n",
    "#(median duration: 10 seconds, mean: 4.5 minutes).\n",
    "\n",
    "#Let's check the small dataset (277) out of the 3873 cases with duration > 5 minutes, but distance equal to zero:\n",
    "#Maybe these cases represent some error with registering the distance traveled?\n",
    "\n",
    "df_uber[(df_uber.duration_min > 5) & (df_uber.trip_distance) & (df_uber.origin_taz != df_uber.destination_taz)].\\\n",
    "head()"
   ]
  },
  {
   "cell_type": "code",
   "execution_count": 52,
   "metadata": {},
   "outputs": [
    {
     "name": "stdout",
     "output_type": "stream",
     "text": [
      "262666\n"
     ]
    },
    {
     "data": {
      "text/html": [
       "<div>\n",
       "<style scoped>\n",
       "    .dataframe tbody tr th:only-of-type {\n",
       "        vertical-align: middle;\n",
       "    }\n",
       "\n",
       "    .dataframe tbody tr th {\n",
       "        vertical-align: top;\n",
       "    }\n",
       "\n",
       "    .dataframe thead th {\n",
       "        text-align: right;\n",
       "    }\n",
       "</style>\n",
       "<table border=\"1\" class=\"dataframe\">\n",
       "  <thead>\n",
       "    <tr style=\"text-align: right;\">\n",
       "      <th></th>\n",
       "      <th>id</th>\n",
       "      <th>origin_taz</th>\n",
       "      <th>destination_taz</th>\n",
       "      <th>trip_distance</th>\n",
       "      <th>pu_date</th>\n",
       "      <th>year</th>\n",
       "      <th>month</th>\n",
       "      <th>day</th>\n",
       "      <th>hour</th>\n",
       "      <th>weekday</th>\n",
       "      <th>duration_min</th>\n",
       "      <th>trip_mph_avg</th>\n",
       "      <th>est_revenue</th>\n",
       "    </tr>\n",
       "  </thead>\n",
       "  <tbody>\n",
       "    <tr>\n",
       "      <td>82</td>\n",
       "      <td>252663</td>\n",
       "      <td>14</td>\n",
       "      <td>14</td>\n",
       "      <td>0.020000</td>\n",
       "      <td>2014-09-01</td>\n",
       "      <td>2014</td>\n",
       "      <td>9</td>\n",
       "      <td>1</td>\n",
       "      <td>0</td>\n",
       "      <td>0</td>\n",
       "      <td>1.333333</td>\n",
       "      <td>0.900000</td>\n",
       "      <td>8.000000</td>\n",
       "    </tr>\n",
       "    <tr>\n",
       "      <td>120</td>\n",
       "      <td>252701</td>\n",
       "      <td>2A</td>\n",
       "      <td>2A</td>\n",
       "      <td>1.510000</td>\n",
       "      <td>2014-09-01</td>\n",
       "      <td>2014</td>\n",
       "      <td>9</td>\n",
       "      <td>1</td>\n",
       "      <td>0</td>\n",
       "      <td>0</td>\n",
       "      <td>33.883333</td>\n",
       "      <td>2.673881</td>\n",
       "      <td>17.051667</td>\n",
       "    </tr>\n",
       "    <tr>\n",
       "      <td>271</td>\n",
       "      <td>252852</td>\n",
       "      <td>8</td>\n",
       "      <td>8</td>\n",
       "      <td>0.000000</td>\n",
       "      <td>2014-09-01</td>\n",
       "      <td>2014</td>\n",
       "      <td>9</td>\n",
       "      <td>1</td>\n",
       "      <td>0</td>\n",
       "      <td>0</td>\n",
       "      <td>0.500000</td>\n",
       "      <td>0.000000</td>\n",
       "      <td>8.000000</td>\n",
       "    </tr>\n",
       "    <tr>\n",
       "      <td>542</td>\n",
       "      <td>253123</td>\n",
       "      <td>4C</td>\n",
       "      <td>4C</td>\n",
       "      <td>0.050000</td>\n",
       "      <td>2014-09-02</td>\n",
       "      <td>2014</td>\n",
       "      <td>9</td>\n",
       "      <td>2</td>\n",
       "      <td>0</td>\n",
       "      <td>1</td>\n",
       "      <td>1.100000</td>\n",
       "      <td>2.727273</td>\n",
       "      <td>8.000000</td>\n",
       "    </tr>\n",
       "    <tr>\n",
       "      <td>554</td>\n",
       "      <td>253135</td>\n",
       "      <td>2A</td>\n",
       "      <td>2A</td>\n",
       "      <td>0.000000</td>\n",
       "      <td>2014-09-02</td>\n",
       "      <td>2014</td>\n",
       "      <td>9</td>\n",
       "      <td>2</td>\n",
       "      <td>0</td>\n",
       "      <td>1</td>\n",
       "      <td>2.683333</td>\n",
       "      <td>0.000000</td>\n",
       "      <td>8.000000</td>\n",
       "    </tr>\n",
       "    <tr>\n",
       "      <td>605</td>\n",
       "      <td>253186</td>\n",
       "      <td>2A</td>\n",
       "      <td>2A</td>\n",
       "      <td>0.050000</td>\n",
       "      <td>2014-09-02</td>\n",
       "      <td>2014</td>\n",
       "      <td>9</td>\n",
       "      <td>2</td>\n",
       "      <td>0</td>\n",
       "      <td>1</td>\n",
       "      <td>1.450000</td>\n",
       "      <td>2.068966</td>\n",
       "      <td>8.000000</td>\n",
       "    </tr>\n",
       "    <tr>\n",
       "      <td>839</td>\n",
       "      <td>253420</td>\n",
       "      <td>2A</td>\n",
       "      <td>2A</td>\n",
       "      <td>0.470000</td>\n",
       "      <td>2014-09-02</td>\n",
       "      <td>2014</td>\n",
       "      <td>9</td>\n",
       "      <td>2</td>\n",
       "      <td>0</td>\n",
       "      <td>1</td>\n",
       "      <td>10.583333</td>\n",
       "      <td>2.664567</td>\n",
       "      <td>8.000000</td>\n",
       "    </tr>\n",
       "    <tr>\n",
       "      <td>896</td>\n",
       "      <td>253477</td>\n",
       "      <td>5C</td>\n",
       "      <td>6B</td>\n",
       "      <td>0.990000</td>\n",
       "      <td>2014-09-02</td>\n",
       "      <td>2014</td>\n",
       "      <td>9</td>\n",
       "      <td>2</td>\n",
       "      <td>0</td>\n",
       "      <td>1</td>\n",
       "      <td>22.183333</td>\n",
       "      <td>2.677686</td>\n",
       "      <td>12.046667</td>\n",
       "    </tr>\n",
       "    <tr>\n",
       "      <td>945</td>\n",
       "      <td>253526</td>\n",
       "      <td>14</td>\n",
       "      <td>14</td>\n",
       "      <td>0.040000</td>\n",
       "      <td>2014-09-02</td>\n",
       "      <td>2014</td>\n",
       "      <td>9</td>\n",
       "      <td>2</td>\n",
       "      <td>0</td>\n",
       "      <td>1</td>\n",
       "      <td>1.400000</td>\n",
       "      <td>1.714286</td>\n",
       "      <td>8.000000</td>\n",
       "    </tr>\n",
       "    <tr>\n",
       "      <td>1260</td>\n",
       "      <td>253841</td>\n",
       "      <td>4A</td>\n",
       "      <td>4A</td>\n",
       "      <td>0.060000</td>\n",
       "      <td>2014-09-02</td>\n",
       "      <td>2014</td>\n",
       "      <td>9</td>\n",
       "      <td>2</td>\n",
       "      <td>0</td>\n",
       "      <td>1</td>\n",
       "      <td>1.350000</td>\n",
       "      <td>2.666667</td>\n",
       "      <td>8.000000</td>\n",
       "    </tr>\n",
       "  </tbody>\n",
       "</table>\n",
       "</div>"
      ],
      "text/plain": [
       "          id origin_taz destination_taz  trip_distance    pu_date  year  \\\n",
       "82    252663         14              14       0.020000 2014-09-01  2014   \n",
       "120   252701         2A              2A       1.510000 2014-09-01  2014   \n",
       "271   252852          8               8       0.000000 2014-09-01  2014   \n",
       "542   253123         4C              4C       0.050000 2014-09-02  2014   \n",
       "554   253135         2A              2A       0.000000 2014-09-02  2014   \n",
       "605   253186         2A              2A       0.050000 2014-09-02  2014   \n",
       "839   253420         2A              2A       0.470000 2014-09-02  2014   \n",
       "896   253477         5C              6B       0.990000 2014-09-02  2014   \n",
       "945   253526         14              14       0.040000 2014-09-02  2014   \n",
       "1260  253841         4A              4A       0.060000 2014-09-02  2014   \n",
       "\n",
       "      month  day  hour  weekday  duration_min  trip_mph_avg  est_revenue  \n",
       "82        9    1     0        0      1.333333      0.900000     8.000000  \n",
       "120       9    1     0        0     33.883333      2.673881    17.051667  \n",
       "271       9    1     0        0      0.500000      0.000000     8.000000  \n",
       "542       9    2     0        1      1.100000      2.727273     8.000000  \n",
       "554       9    2     0        1      2.683333      0.000000     8.000000  \n",
       "605       9    2     0        1      1.450000      2.068966     8.000000  \n",
       "839       9    2     0        1     10.583333      2.664567     8.000000  \n",
       "896       9    2     0        1     22.183333      2.677686    12.046667  \n",
       "945       9    2     0        1      1.400000      1.714286     8.000000  \n",
       "1260      9    2     0        1      1.350000      2.666667     8.000000  "
      ]
     },
     "execution_count": 52,
     "metadata": {},
     "output_type": "execute_result"
    }
   ],
   "source": [
    "#Check the trips with average speed slower than walking (3mph).\n",
    "print(len(df_uber[(df_uber.trip_mph_avg <= 3)])) #262,666 cases\n",
    "\n",
    "#Considering that some really bad traffic is possible, let's check the proportion of cases that fall under \n",
    "#2 miles or less traveled distance:\n",
    "df_uber[(df_uber.trip_mph_avg <= 3) & (df_uber.trip_distance <= 2)].head(10) #246,225, or ~94% of all trips with < 3mph\n",
    "\n",
    "#0.8% of cases from the entire dataset have calculated speed < 3mph : really bad traffic cases, interrupted trips, \n",
    "#or fraud? We will assume they're mostly really bad traffic cases or interrupted trips for this analysis."
   ]
  },
  {
   "cell_type": "code",
   "execution_count": 53,
   "metadata": {},
   "outputs": [
    {
     "name": "stdout",
     "output_type": "stream",
     "text": [
      "10\n"
     ]
    }
   ],
   "source": [
    "#Among the trips with very slow speed (< 3 mph), the most suspicious cases are perhaps those that show very long\n",
    "#duration. Let's say that 1.5h would have been enough, in most situations, to get outside of some traffic gridlock, \n",
    "#then part of these cases should be investigated more in depth, especially because they represent a significant \n",
    "#share of the revenue ($850K).\n",
    "\n",
    "print(len(df_uber[(df_uber.trip_mph_avg <= 3) & (df_uber.duration_min > 90) & (df_uber.duration_min <= 960)].head(10))) #8393 cases\n",
    "\n",
    "#Due to the lack of specific domain knowledge about the system that has generated this data, and unavailability of \n",
    "#more detailed trip information, these cases will be disregarded as suspicious in this analysis. It's possible, \n",
    "#for example, that some of the cases represent a driver waiting for a passenger during a trip, even though this is \n",
    "#not a typical behaviour in ride sharing."
   ]
  },
  {
   "cell_type": "code",
   "execution_count": 54,
   "metadata": {},
   "outputs": [
    {
     "data": {
      "text/plain": [
       "3368433"
      ]
     },
     "execution_count": 54,
     "metadata": {},
     "output_type": "execute_result"
    }
   ],
   "source": [
    "len(df_uber[(df_uber.month == 8) & (df_uber.year==2015)])"
   ]
  },
  {
   "cell_type": "code",
   "execution_count": 55,
   "metadata": {},
   "outputs": [
    {
     "name": "stderr",
     "output_type": "stream",
     "text": [
      "C:\\Users\\Admin\\Anaconda3\\lib\\site-packages\\ipykernel_launcher.py:2: FutureWarning: Comparing Series of datetimes with 'datetime.date'.  Currently, the\n",
      "'datetime.date' is coerced to a datetime. In the future pandas will\n",
      "not coerce, and 'the values will not compare equal to the\n",
      "'datetime.date'. To retain the current behavior, convert the\n",
      "'datetime.date' to a datetime with 'pd.Timestamp'.\n",
      "  \n"
     ]
    },
    {
     "data": {
      "text/plain": [
       "1852"
      ]
     },
     "execution_count": 55,
     "metadata": {},
     "output_type": "execute_result"
    }
   ],
   "source": [
    "#A few data points represent the zeroth hour of Sep, 2015, extending the time period beyond exactly 365 days:\n",
    "len(df_uber[df_uber.pu_date == datetime.date(2015, 9, 1)])  #1852 data points to be censored for convenience. "
   ]
  },
  {
   "cell_type": "code",
   "execution_count": 56,
   "metadata": {},
   "outputs": [
    {
     "name": "stderr",
     "output_type": "stream",
     "text": [
      "C:\\Users\\Admin\\Anaconda3\\lib\\site-packages\\ipykernel_launcher.py:2: FutureWarning: Comparing Series of datetimes with 'datetime.date'.  Currently, the\n",
      "'datetime.date' is coerced to a datetime. In the future pandas will\n",
      "not coerce, and 'the values will not compare equal to the\n",
      "'datetime.date'. To retain the current behavior, convert the\n",
      "'datetime.date' to a datetime with 'pd.Timestamp'.\n",
      "  \n"
     ]
    }
   ],
   "source": [
    "#Create dataframe to be used for visualization with exactly 365 days of data, and max trip duration of 16h:\n",
    "df_viz = df_uber[(df_uber.pu_date != datetime.date(2015, 9 , 1)) & (df_uber.duration_min <= 960)].copy() #1975 cases"
   ]
  },
  {
   "cell_type": "code",
   "execution_count": 57,
   "metadata": {},
   "outputs": [
    {
     "data": {
      "text/html": [
       "<div>\n",
       "<style scoped>\n",
       "    .dataframe tbody tr th:only-of-type {\n",
       "        vertical-align: middle;\n",
       "    }\n",
       "\n",
       "    .dataframe tbody tr th {\n",
       "        vertical-align: top;\n",
       "    }\n",
       "\n",
       "    .dataframe thead th {\n",
       "        text-align: right;\n",
       "    }\n",
       "</style>\n",
       "<table border=\"1\" class=\"dataframe\">\n",
       "  <thead>\n",
       "    <tr style=\"text-align: right;\">\n",
       "      <th></th>\n",
       "      <th>duration_min</th>\n",
       "      <th>trip_distance</th>\n",
       "      <th>trip_mph_avg</th>\n",
       "      <th>est_revenue</th>\n",
       "    </tr>\n",
       "  </thead>\n",
       "  <tbody>\n",
       "    <tr>\n",
       "      <td>count</td>\n",
       "      <td>30923763.000000</td>\n",
       "      <td>30923763.000000</td>\n",
       "      <td>30898897.000000</td>\n",
       "      <td>30923763.000000</td>\n",
       "    </tr>\n",
       "    <tr>\n",
       "      <td>mean</td>\n",
       "      <td>20.992307</td>\n",
       "      <td>5.199632</td>\n",
       "      <td>13.507113</td>\n",
       "      <td>19.241870</td>\n",
       "    </tr>\n",
       "    <tr>\n",
       "      <td>std</td>\n",
       "      <td>16.084562</td>\n",
       "      <td>6.130756</td>\n",
       "      <td>11.756930</td>\n",
       "      <td>15.080891</td>\n",
       "    </tr>\n",
       "    <tr>\n",
       "      <td>min</td>\n",
       "      <td>0.000000</td>\n",
       "      <td>0.000000</td>\n",
       "      <td>0.000000</td>\n",
       "      <td>8.000000</td>\n",
       "    </tr>\n",
       "    <tr>\n",
       "      <td>25%</td>\n",
       "      <td>10.850000</td>\n",
       "      <td>1.690000</td>\n",
       "      <td>8.409836</td>\n",
       "      <td>9.573333</td>\n",
       "    </tr>\n",
       "    <tr>\n",
       "      <td>50%</td>\n",
       "      <td>17.233333</td>\n",
       "      <td>3.090000</td>\n",
       "      <td>11.448763</td>\n",
       "      <td>14.350833</td>\n",
       "    </tr>\n",
       "    <tr>\n",
       "      <td>75%</td>\n",
       "      <td>26.683333</td>\n",
       "      <td>6.230000</td>\n",
       "      <td>16.266667</td>\n",
       "      <td>23.030833</td>\n",
       "    </tr>\n",
       "    <tr>\n",
       "      <td>max</td>\n",
       "      <td>959.300000</td>\n",
       "      <td>568.570000</td>\n",
       "      <td>22548.000000</td>\n",
       "      <td>1225.858333</td>\n",
       "    </tr>\n",
       "  </tbody>\n",
       "</table>\n",
       "</div>"
      ],
      "text/plain": [
       "         duration_min   trip_distance    trip_mph_avg     est_revenue\n",
       "count 30923763.000000 30923763.000000 30898897.000000 30923763.000000\n",
       "mean        20.992307        5.199632       13.507113       19.241870\n",
       "std         16.084562        6.130756       11.756930       15.080891\n",
       "min          0.000000        0.000000        0.000000        8.000000\n",
       "25%         10.850000        1.690000        8.409836        9.573333\n",
       "50%         17.233333        3.090000       11.448763       14.350833\n",
       "75%         26.683333        6.230000       16.266667       23.030833\n",
       "max        959.300000      568.570000    22548.000000     1225.858333"
      ]
     },
     "execution_count": 57,
     "metadata": {},
     "output_type": "execute_result"
    }
   ],
   "source": [
    "df_viz[['duration_min', 'trip_distance', 'trip_mph_avg', 'est_revenue']].describe()"
   ]
  },
  {
   "cell_type": "code",
   "execution_count": 58,
   "metadata": {},
   "outputs": [],
   "source": [
    "#Required by Plotly:\n",
    "import matplotlib.mlab as mlab\n",
    "import chart_studio.plotly as py"
   ]
  },
  {
   "cell_type": "code",
   "execution_count": 59,
   "metadata": {},
   "outputs": [],
   "source": [
    "from matplotlib.ticker import FuncFormatter #Call formatter function to format tick values\n",
    "from matplotlib.offsetbox import (OffsetImage, AnnotationBbox) #Create image box\n",
    "from matplotlib._png import read_png #Load png file\n",
    "from matplotlib.patches import Ellipse #Draw ellipse"
   ]
  },
  {
   "cell_type": "code",
   "execution_count": 60,
   "metadata": {},
   "outputs": [],
   "source": [
    "#Create functions to format tick number\n",
    "def thousands_comma(x, pos):\n",
    "    \"\"\"\n",
    "    Args are the value and tick position. \n",
    "    Returns number with thousands comma and no decimals.\n",
    "    \"\"\"\n",
    "    return '{:,.0f}'.format(x) #this is the new syntax for formatting"
   ]
  },
  {
   "cell_type": "code",
   "execution_count": 61,
   "metadata": {},
   "outputs": [],
   "source": [
    "def thousands_comma(x,pos):\n",
    "    \"\"\"\n",
    "    Args are the value and tick position. \n",
    "    Returns number of thousands with one decimal, and K in lieu of 3 zeros.\n",
    "    \"\"\"\n",
    "    return '{: 0f}{}'.format(x*1e-3, 'K')  #old syntax: '%1.0fK' % (x * 1e-3)"
   ]
  },
  {
   "cell_type": "code",
   "execution_count": 62,
   "metadata": {},
   "outputs": [],
   "source": [
    "def millions_format(x, pos):\n",
    "    \"\"\"\n",
    "    Args are the value and tick position. \n",
    "    Returns number of millions with one decimal, and M in lieu of 6 zeros.\n",
    "    \"\"\"\n",
    "    return '{:.1f}{}'.format(x * 1e-6, 'M')"
   ]
  },
  {
   "cell_type": "code",
   "execution_count": 63,
   "metadata": {},
   "outputs": [],
   "source": [
    "def millions_currency(x, pos):\n",
    "    \"\"\"\n",
    "    Args are the value and tick position. \n",
    "    Returns number of millions with a $ sign, M in lieu of 6 zeros, and no decimals.\n",
    "    \"\"\"\n",
    "    return '{}{:.0f}{}'.format('$', x* 1e-6, 'M')"
   ]
  },
  {
   "cell_type": "code",
   "execution_count": 64,
   "metadata": {},
   "outputs": [],
   "source": [
    "#Define robust function to automatically add annotated labels on bar plots.\n",
    "#Inspiration from http://composition.al/blog/2015/11/29/a-better-way-to-add-labels-to-bar-charts-with-matplotlib/\n",
    "\n",
    "def annotate_labels(ax, labels_list, **kwargs):\n",
    "    \"\"\"\n",
    "    Function to automatically add labels on bar charts.\n",
    "    It takes a plot axis, an ordered list of labels, and text kwargs.\n",
    "    \"\"\"\n",
    "    (y_bottom, y_top) = ax.get_ylim()\n",
    "    y_height = y_top - y_bottom\n",
    "    \n",
    "    rects = ax.patches\n",
    "    \n",
    "    for rect, label in zip(rect, labels_list):\n",
    "        height = rect.get_height()\n",
    "        p_height = (height / y_height) # Fraction of axis height taken up by this rectangle\n",
    "        label_position = height + (y_height * 0.01)\n",
    "        \n",
    "        # If we can fit the label above the column, do that;\n",
    "        # otherwise, put it inside the column (or else, change ylim)\n",
    "        #if p_height > 0.95:\n",
    "        #    label_position = height - (y_height * 0.05)\n",
    "\n",
    "        #else:\n",
    "        #    label_position = height + (y_height * 0.01)\n",
    "        \n",
    "        ax.test(test.get_x() + rect.get_width()/2., label_position, label, kwargs)\n",
    "    return None"
   ]
  },
  {
   "cell_type": "code",
   "execution_count": 65,
   "metadata": {},
   "outputs": [
    {
     "data": {
      "text/plain": [
       "pu_date\n",
       "2014-09-01    31592\n",
       "2014-09-02    41496\n",
       "2014-09-03    46339\n",
       "2014-09-04    53402\n",
       "2014-09-05    59718\n",
       "Name: id, dtype: int64"
      ]
     },
     "execution_count": 65,
     "metadata": {},
     "output_type": "execute_result"
    }
   ],
   "source": [
    "#Create a plotting dataframe with counts (number of trips) grouped by day:\n",
    "byDate = df_viz.groupby('pu_date')['id'].count() #365 complete entries\n",
    "byDate.head()"
   ]
  },
  {
   "cell_type": "code",
   "execution_count": 66,
   "metadata": {},
   "outputs": [
    {
     "data": {
      "text/plain": [
       "pu_date\n",
       "2014-10-28     52084\n",
       "2014-10-29     61082\n",
       "2014-10-30     66369\n",
       "2014-10-31     71787\n",
       "2014-11-01    104450\n",
       "2014-11-02     57289\n",
       "2014-11-03     50491\n",
       "2014-11-04     52395\n",
       "2014-11-05     61518\n",
       "Name: id, dtype: int64"
      ]
     },
     "execution_count": 66,
     "metadata": {},
     "output_type": "execute_result"
    }
   ],
   "source": [
    "byDate['2014-10-28': '2014-11-05'] #an uptick in rides on 11/1, the day before the NYC marathon!"
   ]
  },
  {
   "cell_type": "code",
   "execution_count": 67,
   "metadata": {},
   "outputs": [],
   "source": [
    "#Create a plot with the total number of trips per day, highlighting some changepoints associated with major holidays \n",
    "#and other weather and touristic/cultural events.!ls Data/icons"
   ]
  },
  {
   "cell_type": "code",
   "execution_count": 68,
   "metadata": {},
   "outputs": [
    {
     "ename": "SyntaxError",
     "evalue": "EOL while scanning string literal (<ipython-input-68-22850d0bf475>, line 37)",
     "output_type": "error",
     "traceback": [
      "\u001b[1;36m  File \u001b[1;32m\"<ipython-input-68-22850d0bf475>\"\u001b[1;36m, line \u001b[1;32m37\u001b[0m\n\u001b[1;33m    img3 = read_jpg('C:\\\\Users\\\\Admin\\\\Pictures\\\\Saved Pictures\\\\3d-nature-wallpaper-for-windows-7-hd-desktop-10-hd-wallpapers.jpg'')\u001b[0m\n\u001b[1;37m                                                                                                                                     ^\u001b[0m\n\u001b[1;31mSyntaxError\u001b[0m\u001b[1;31m:\u001b[0m EOL while scanning string literal\n"
     ]
    }
   ],
   "source": [
    "#Create a plot with the total number of trips per day, highlighting some changepoints associated with major holidays \n",
    "#and other weather and touristic/cultural events.\n",
    "\n",
    "fig = plt.figure()\n",
    "\n",
    "ax = byDate.plot(figsize = (16,8), fontsize = 12, ylim = (10000, 170000), color = 'navy')\n",
    "\n",
    "formatter = FuncFormatter(thousands_format)\n",
    "ax.yaxis.set_axis_bgcolor('#F9F9F9')  #make background color a lighter gray to better contrast with the icon's images.\n",
    "\n",
    "plt.title('Total Trips per Day with Annotation of Some Major Events and Holidays', fontsize = 20, color = 'navy')\n",
    "plt.tick_params(labelsize = 14)\n",
    "plt.xlabel('')\n",
    "\n",
    "#Add icon to indicate snowstorm on the plot:\n",
    "#NYC's mayor ordered the city under curfew, and public transportation system was shut down late on 1/26/15.\n",
    "\n",
    "img1 = read_jpg('C:\\\\Users\\\\Admin\\\\Pictures\\\\Saved Pictures\\\\nature-windows-10-wallpaper-396866.jpg')\n",
    "imagebox = OffsetImage(img1, zoom = 0.6)\n",
    "xy = ['2015-01-27', 25000]\n",
    "\n",
    "ab = Annotationbox(imagebox, xy, \n",
    "                  xybox = (22.,10.), #position from xy to lower left corner of box\n",
    "                  xycords = 'data', #will use data coordinates for x and y\n",
    "                  boxcoords = 'offset points', #same idea as textcoords, in points from lower left corner\n",
    "                   pad = 0.1, frameon = False) #padding around the image\n",
    "ax.add_artist(ab)\n",
    "\n",
    "#Add icon to indicate Thanksgiving on the plot:\n",
    "img2 = read_jpg('C:\\\\Users\\\\Admin\\\\Pictures\\\\Saved Pictures\\\\3d-nature-wallpaper-for-windows-7-hd-desktop-10-hd-wallpapers.jpg')\n",
    "imagebox = offsetImage(img2, zoom = 0.6)\n",
    "xy = ['2014-11-27', 4000]\n",
    "ab = AnnotationBbox(imagebox, xy, xybox = (5., -5.), xycords= 'data', boxcoords = 'offset points', pad=0.1, frameon = False)\n",
    "ax.add_artist(ab)\n",
    "\n",
    "#Add icon to indicate Pride Week on the plot:\n",
    "img3 = read_jpg('C:\\\\Users\\\\Admin\\\\Pictures\\\\Saved Pictures\\\\3d-nature-wallpaper-for-windows-7-hd-desktop-10-hd-wallpapers.jpg'')\n",
    "imagebox = offsetImage(img3, zoom=0.6)\n",
    "xy = ['2014-12-25', 40000]\n",
    "a = AnnotationBbox(imagebox, xy, xybox = (10., -5.), xycords = 'data', boxcoords = 'offset points', pad = 0.1, frameon = False)\n",
    "ax.add_artist(ab)\n",
    "\n",
    "#Add icon to indicate Pride Week on the plot:\n",
    "img4 = read_jpg('C:\\\\Users\\\\Admin\\\\Pictures\\\\Saved Pictures\\\\3d-nature-wallpaper-for-windows-7-hd-desktop-10-hd-wallpapers.jpg'')\n",
    "imagebox = offsetImage(img4, zoom = 0.6)\n",
    "xy = ['2015-05-25', 60000]\n",
    "                \n",
    "a = AnnotationBox(imagebox, xy, xybox (1., 5.), xycords = 'data', boxcoords = 'offset points', pad = 0.1, frameon = False)\n",
    "ax.add_artist(ab)\n",
    "                \n"
   ]
  },
  {
   "cell_type": "code",
   "execution_count": null,
   "metadata": {},
   "outputs": [],
   "source": []
  },
  {
   "cell_type": "code",
   "execution_count": null,
   "metadata": {},
   "outputs": [],
   "source": []
  }
 ],
 "metadata": {
  "kernelspec": {
   "display_name": "Python 3",
   "language": "python",
   "name": "python3"
  },
  "language_info": {
   "codemirror_mode": {
    "name": "ipython",
    "version": 3
   },
   "file_extension": ".py",
   "mimetype": "text/x-python",
   "name": "python",
   "nbconvert_exporter": "python",
   "pygments_lexer": "ipython3",
   "version": "3.7.4"
  }
 },
 "nbformat": 4,
 "nbformat_minor": 2
}
