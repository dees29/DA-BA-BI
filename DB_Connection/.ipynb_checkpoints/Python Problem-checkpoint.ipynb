{
 "cells": [
  {
   "cell_type": "markdown",
   "metadata": {},
   "source": [
    "Given a non-empty array of integers, every element appears twice except for one. Find that single one."
   ]
  },
  {
   "cell_type": "code",
   "execution_count": 24,
   "metadata": {},
   "outputs": [
    {
     "name": "stdout",
     "output_type": "stream",
     "text": [
      "4\n"
     ]
    }
   ],
   "source": [
    "def singleNumber(self,nums):\n",
    "        no_duplicate = []\n",
    "        for i in nums:\n",
    "            if i not in no_duplicate:\n",
    "                no_duplicate.append(i)\n",
    "            else:\n",
    "                no_duplicate.remove(i)\n",
    "        return no_duplicate.pop()\n",
    "    \n",
    "\n",
    "a=[1,2,1,2,4]    \n",
    "print(singleNumber(a, nums))"
   ]
  },
  {
   "cell_type": "code",
   "execution_count": 65,
   "metadata": {},
   "outputs": [
    {
     "name": "stdout",
     "output_type": "stream",
     "text": [
      "2\n",
      "4\n"
     ]
    }
   ],
   "source": [
    "from collections import defaultdict\n",
    "def singleNumber(self,nums):\n",
    "        hash_table = defaultdict(int)\n",
    "        for i in nums:\n",
    "            hash_table[i]+=1\n",
    "        print(hash_table[2]) #value for the key 2\n",
    "        for i in hash_table:\n",
    "            if hash_table[i]==1:\n",
    "                return i\n",
    "\n",
    "a=[1,2,1,2,4]    \n",
    "print(singleNumber(a, nums))\n"
   ]
  },
  {
   "cell_type": "code",
   "execution_count": 50,
   "metadata": {},
   "outputs": [
    {
     "name": "stdout",
     "output_type": "stream",
     "text": [
      "4\n"
     ]
    }
   ],
   "source": [
    "def singleNumber(self, nums):\n",
    "    return 2*sum(set(nums))-sum(nums)\n",
    "a=[1,2,1,2,4]    \n",
    "print(singleNumber(a, nums))"
   ]
  },
  {
   "cell_type": "code",
   "execution_count": 51,
   "metadata": {},
   "outputs": [
    {
     "name": "stdout",
     "output_type": "stream",
     "text": [
      "{1, 2, 4}\n"
     ]
    }
   ],
   "source": [
    "nums=[1,2,1,2,4] \n",
    "print(set(nums))"
   ]
  },
  {
   "cell_type": "code",
   "execution_count": 53,
   "metadata": {
    "scrolled": true
   },
   "outputs": [
    {
     "data": {
      "text/plain": [
       "4"
      ]
     },
     "execution_count": 53,
     "metadata": {},
     "output_type": "execute_result"
    }
   ],
   "source": [
    "1^2^1^2^4"
   ]
  },
  {
   "cell_type": "code",
   "execution_count": 60,
   "metadata": {
    "scrolled": true
   },
   "outputs": [
    {
     "name": "stdout",
     "output_type": "stream",
     "text": [
      "2\n"
     ]
    }
   ],
   "source": [
    "print(2^0)"
   ]
  },
  {
   "cell_type": "code",
   "execution_count": 61,
   "metadata": {},
   "outputs": [
    {
     "name": "stdout",
     "output_type": "stream",
     "text": [
      "0\n"
     ]
    }
   ],
   "source": [
    "print(2^2)"
   ]
  },
  {
   "cell_type": "code",
   "execution_count": 55,
   "metadata": {},
   "outputs": [
    {
     "name": "stdout",
     "output_type": "stream",
     "text": [
      "4\n"
     ]
    }
   ],
   "source": [
    "def singleNumber(self, nums):\n",
    "    a=0\n",
    "    for i in nums:\n",
    "        a^=i\n",
    "    return a\n",
    "\n",
    "a=[1,2,1,2,4]    \n",
    "print(singleNumber(a, nums))"
   ]
  },
  {
   "cell_type": "code",
   "execution_count": 88,
   "metadata": {},
   "outputs": [
    {
     "name": "stdout",
     "output_type": "stream",
     "text": [
      "0\n"
     ]
    }
   ],
   "source": [
    "num = 19\n",
    "i=num\n",
    "result = 0\n",
    "for \n",
    "    while i!=0:\n",
    "        a = i%10\n",
    "        result = result + a**2\n",
    "        i=i//10\n",
    "print(result)\n",
    "    "
   ]
  },
  {
   "cell_type": "code",
   "execution_count": 72,
   "metadata": {},
   "outputs": [
    {
     "data": {
      "text/plain": [
       "81"
      ]
     },
     "execution_count": 72,
     "metadata": {},
     "output_type": "execute_result"
    }
   ],
   "source": [
    "9**2"
   ]
  },
  {
   "cell_type": "code",
   "execution_count": 99,
   "metadata": {},
   "outputs": [
    {
     "data": {
      "text/plain": [
       "82"
      ]
     },
     "execution_count": 99,
     "metadata": {},
     "output_type": "execute_result"
    }
   ],
   "source": [
    "num = 19\n",
    "i=num\n",
    "result = 0\n",
    "while i!=0:\n",
    "    a = i%10\n",
    "    result += a**2\n",
    "    i=i//10\n",
    "result "
   ]
  },
  {
   "cell_type": "code",
   "execution_count": 95,
   "metadata": {},
   "outputs": [
    {
     "data": {
      "text/plain": [
       "1"
      ]
     },
     "execution_count": 95,
     "metadata": {},
     "output_type": "execute_result"
    }
   ],
   "source": [
    "def numSquareSum(n): \n",
    "    squareSum = 0; \n",
    "    while(n): \n",
    "        squareSum += (n % 10) * (n % 10); \n",
    "        n = int(n / 10); \n",
    "    return squareSum; \n",
    "\n",
    "numSquareSum(1)"
   ]
  },
  {
   "cell_type": "code",
   "execution_count": 96,
   "metadata": {},
   "outputs": [
    {
     "data": {
      "text/plain": [
       "False"
      ]
     },
     "execution_count": 96,
     "metadata": {},
     "output_type": "execute_result"
    }
   ],
   "source": [
    "def isHappynumber(n): \n",
    "  \n",
    "    # initialize slow  \n",
    "    # and fast by n \n",
    "    slow = n; \n",
    "    fast = n; \n",
    "    while(True): \n",
    "          \n",
    "        # move slow number \n",
    "        # by one iteration \n",
    "        slow = numSquareSum(slow); \n",
    "  \n",
    "        # move fast number \n",
    "        # by two iteration \n",
    "        fast = numSquareSum(numSquareSum(fast)); \n",
    "        if(slow != fast): \n",
    "            continue; \n",
    "        else: \n",
    "            break; \n",
    "  \n",
    "    # if both number meet at 1,  \n",
    "    # then return true \n",
    "    return (slow == 1); \n",
    "\n",
    "isHappynumber(20)"
   ]
  },
  {
   "cell_type": "code",
   "execution_count": 112,
   "metadata": {},
   "outputs": [
    {
     "ename": "SyntaxError",
     "evalue": "'return' outside function (<ipython-input-112-b0bbf9955cfb>, line 13)",
     "output_type": "error",
     "traceback": [
      "\u001b[1;36m  File \u001b[1;32m\"<ipython-input-112-b0bbf9955cfb>\"\u001b[1;36m, line \u001b[1;32m13\u001b[0m\n\u001b[1;33m    return slow\u001b[0m\n\u001b[1;37m               ^\u001b[0m\n\u001b[1;31mSyntaxError\u001b[0m\u001b[1;31m:\u001b[0m 'return' outside function\n"
     ]
    }
   ],
   "source": [
    "n=19\n",
    "# initialize slow  \n",
    "# and fast by n \n",
    "slow = n; \n",
    "fast = n; \n",
    "while(True):\n",
    "    slow = numSquareSum(slow);   \n",
    "    fast = numSquareSum(numSquareSum(fast)); \n",
    "    if(slow != fast):\n",
    "        continue; \n",
    "    else:\n",
    "        break;\n",
    "        return slow\n"
   ]
  },
  {
   "cell_type": "markdown",
   "metadata": {},
   "source": [
    "Happy Number"
   ]
  },
  {
   "cell_type": "code",
   "execution_count": 27,
   "metadata": {},
   "outputs": [
    {
     "name": "stdout",
     "output_type": "stream",
     "text": [
      "19 is a Happy number\n"
     ]
    }
   ],
   "source": [
    "def result(n):\n",
    "    result = 0\n",
    "    i = n\n",
    "    while i != 0:\n",
    "        c = (i%10)\n",
    "        result += c**2\n",
    "        i = i//10\n",
    "    return result\n",
    "\n",
    "def isHappyNumber(n):\n",
    "    slow = n\n",
    "    fast = n\n",
    "    while True:\n",
    "        slow = result(slow)\n",
    "        fast = result(result(fast))\n",
    "        if (slow != fast):\n",
    "            continue\n",
    "        else:\n",
    "            break\n",
    "            \n",
    "    return (slow == 1)\n",
    "        \n",
    "n = 19\n",
    "if isHappyNumber(n):\n",
    "    print(n, \"is a Happy number\")\n",
    "else:\n",
    "    print(n, \"is not a Happy number\")"
   ]
  },
  {
   "cell_type": "code",
   "execution_count": 2,
   "metadata": {},
   "outputs": [
    {
     "name": "stdout",
     "output_type": "stream",
     "text": [
      "13 is a Happy number\n"
     ]
    }
   ],
   "source": [
    "# Python3 program to check a number \n",
    "# is a Happy number or not \n",
    "\n",
    "# Utility method to return \n",
    "# sum of square of digit of n \n",
    "def numSquareSum(n): \n",
    "\tsquareSum = 0; \n",
    "\twhile(n): \n",
    "\t\tsquareSum += (n % 10) * (n % 10); \n",
    "\t\tn = int(n / 10); \n",
    "\treturn squareSum; \n",
    "\n",
    "# method return true if \n",
    "# n is Happy number \n",
    "def isHappynumber(n): \n",
    "\n",
    "\t# initialize slow \n",
    "\t# and fast by n \n",
    "\tslow = n; \n",
    "\tfast = n; \n",
    "\twhile(True): \n",
    "\t\t\n",
    "\t\t# move slow number \n",
    "\t\t# by one iteration \n",
    "\t\tslow = numSquareSum(slow); \n",
    "\n",
    "\t\t# move fast number \n",
    "\t\t# by two iteration \n",
    "\t\tfast = numSquareSum(numSquareSum(fast)); \n",
    "\t\tif(slow != fast): \n",
    "\t\t\tcontinue; \n",
    "\t\telse: \n",
    "\t\t\tbreak; \n",
    "\n",
    "\t# if both number meet at 1, \n",
    "\t# then return true \n",
    "\treturn (slow == 1); \n",
    "\n",
    "# Driver Code \n",
    "n = 13; \n",
    "if (isHappynumber(n)): \n",
    "\tprint(n , \"is a Happy number\"); \n",
    "else: \n",
    "\tprint(n , \"is not a Happy number\"); \n",
    "\n",
    "# This code is contributed by mits \n"
   ]
  },
  {
   "cell_type": "code",
   "execution_count": 2,
   "metadata": {},
   "outputs": [
    {
     "name": "stdout",
     "output_type": "stream",
     "text": [
      "19 is a Happy number\n"
     ]
    }
   ],
   "source": [
    "def result(n):\n",
    "    result = 0\n",
    "    while n != 0:\n",
    "        c = (n%10);\n",
    "        result += c**2;\n",
    "        n = n//10;\n",
    "    return result;\n",
    "\n",
    "def isHappyNumber(n):\n",
    "    slow = n;\n",
    "    fast = n;\n",
    "    while True:\n",
    "        slow = result(slow);\n",
    "        fast = result(result(fast));\n",
    "        if (slow != fast):\n",
    "            continue;\n",
    "        else:\n",
    "            break;\n",
    "            \n",
    "    return (slow == 1);\n",
    "        \n",
    "n=19;\n",
    "if isHappyNumber(n):\n",
    "    print(n, \"is a Happy number\")\n",
    "else:\n",
    "    print(n, \"is not a Happy number\")"
   ]
  },
  {
   "cell_type": "code",
   "execution_count": 5,
   "metadata": {},
   "outputs": [
    {
     "name": "stdout",
     "output_type": "stream",
     "text": [
      "19 is a Happy number\n"
     ]
    }
   ],
   "source": [
    "class Solution:\n",
    "    def result(n):\n",
    "        HappyNumber = 0\n",
    "        while n != 0:\n",
    "            c = (n%10);\n",
    "            HappyNumber += c**2;\n",
    "            n = n//10;\n",
    "        return result;\n",
    "\n",
    "    def isHappyNumber(n):\n",
    "        slow = n;\n",
    "        fast = n;\n",
    "        while True:\n",
    "            slow = result(slow);\n",
    "            fast = result(result(fast));\n",
    "            if (slow != fast):\n",
    "                continue;\n",
    "            else:\n",
    "                break;\n",
    "            \n",
    "        return (slow == 1);\n",
    "        \n",
    "    n=19;\n",
    "    if isHappyNumber(n):\n",
    "        print(n, \"is a Happy number\")\n",
    "    else:\n",
    "        print(n, \"is not a Happy number\")\n",
    "    "
   ]
  },
  {
   "cell_type": "markdown",
   "metadata": {},
   "source": [
    "Largest Sum Contiguous Subarray"
   ]
  },
  {
   "cell_type": "code",
   "execution_count": null,
   "metadata": {},
   "outputs": [],
   "source": []
  },
  {
   "cell_type": "code",
   "execution_count": 27,
   "metadata": {},
   "outputs": [
    {
     "name": "stdout",
     "output_type": "stream",
     "text": [
      "Maximum contiguous sum is 6\n"
     ]
    }
   ],
   "source": [
    "def maxSubArray(a, size):\n",
    "    max_so_far=a[0]\n",
    "    max_curr=a[0]\n",
    "    for i in range(1,size):\n",
    "        max_curr = max(a[i], max_curr+a[i])\n",
    "        max_so_far=max(max_curr, max_so_far)\n",
    "    return max_so_far\n",
    "\n",
    "a=[-2,1,-3,4,-1,2,1,-5,4]\n",
    "print(\"Maximum contiguous sum is\" , maxSubArray(a,len(a)))\n"
   ]
  },
  {
   "cell_type": "code",
   "execution_count": 20,
   "metadata": {},
   "outputs": [
    {
     "name": "stdout",
     "output_type": "stream",
     "text": [
      "Maximum contiguous sum is 6\n"
     ]
    }
   ],
   "source": [
    "# Python program to find maximum contiguous subarray \n",
    "\n",
    "def maxSubArraySum(a,size): \n",
    "\t\n",
    "\tmax_so_far =a[0] \n",
    "\tcurr_max = a[0] \n",
    "\t\n",
    "\tfor i in range(1,size): \n",
    "\t\tcurr_max = max(a[i], curr_max + a[i]) \n",
    "\t\tmax_so_far = max(max_so_far,curr_max) \n",
    "\t\t\n",
    "\treturn max_so_far \n",
    "\n",
    "# Driver function to check the above function \n",
    "a=[-2,1,-3,4,-1,2,1,-5,4] \n",
    "print(\"Maximum contiguous sum is\" , maxSubArraySum(a,len(a)) )\n",
    "\n",
    "#This code is contributed by _Devesh Agrawal_ \n"
   ]
  },
  {
   "cell_type": "code",
   "execution_count": 33,
   "metadata": {},
   "outputs": [
    {
     "name": "stdout",
     "output_type": "stream",
     "text": [
      "[1, 3, 12, 3, 12]\n"
     ]
    }
   ],
   "source": [
    "def moveZeroes(arr,n):\n",
    "    count=0\n",
    "    for i in range(0,n):\n",
    "        if arr[i]!=0:\n",
    "            arr[count]=arr[i]\n",
    "            count+=1\n",
    "\n",
    "    \n",
    "arr=[0,1,0,3,12]\n",
    "n = len(arr)\n",
    "moveZeroes(arr,n)\n",
    "print(arr)"
   ]
  },
  {
   "cell_type": "code",
   "execution_count": null,
   "metadata": {},
   "outputs": [],
   "source": [
    "def maxProfit(price, n):\n",
    "    buy=int()\n",
    "    sell=0\n",
    "    for i in range(0,n):\n",
    "        for j in range(i+1, n+1):\n",
    "            if (price[i]<price[j]):\n",
    "                buy=max(price[i], buy)\n",
    "            else:\n",
    "                sell=max(price[j], sell)\n",
    "        profit = sell-buy\n",
    "    return profit\n",
    "                \n",
    "        \n",
    "        \n",
    "\n",
    "price = [100, 180, 260, 310, 40, 535, 695] \n",
    "n = len(price) \n",
    "print(maxProfit(price, n))\n",
    "\n",
    "        "
   ]
  },
  {
   "cell_type": "code",
   "execution_count": null,
   "metadata": {},
   "outputs": [],
   "source": [
    "def maxProfit(self, prices: List[100, 180, 260, 310, 40, 535, 695]) -> int:\n",
    "    maxProfit, lowest = 0, float('inf')\n",
    "    for price in prices:\n",
    "        lowest = min(lowest, price)\n",
    "        maxProfit = max(price-lowest, maxProfit)\n",
    "    return maxProfit\n",
    "\n"
   ]
  },
  {
   "cell_type": "code",
   "execution_count": null,
   "metadata": {},
   "outputs": [],
   "source": []
  }
 ],
 "metadata": {
  "kernelspec": {
   "display_name": "Python 3",
   "language": "python",
   "name": "python3"
  },
  "language_info": {
   "codemirror_mode": {
    "name": "ipython",
    "version": 3
   },
   "file_extension": ".py",
   "mimetype": "text/x-python",
   "name": "python",
   "nbconvert_exporter": "python",
   "pygments_lexer": "ipython3",
   "version": "3.7.4"
  }
 },
 "nbformat": 4,
 "nbformat_minor": 2
}
