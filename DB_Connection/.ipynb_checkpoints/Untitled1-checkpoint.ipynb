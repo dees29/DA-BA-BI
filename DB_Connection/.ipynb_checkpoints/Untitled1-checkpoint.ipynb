{
 "cells": [
  {
   "cell_type": "code",
   "execution_count": 10,
   "metadata": {},
   "outputs": [],
   "source": [
    "# # from selenium import webdriver\n",
    "# from time import sleep\n",
    "# # import csv\n",
    "# # import pandas as pd\n",
    "# # # specifies the path to the chromedriver.exe\n",
    "# # driver = webdriver.Chrome('C:\\\\Users\\\\DILIP\\\\Downloads\\\\crome\\\\chromedriver.exe')\n",
    "# from selenium import webdriver\n",
    "# from selenium.webdriver.common.keys import Keys\n",
    "# import csv\n",
    "# import pandas as pd\n",
    "# from selenium.common.exceptions import NoSuchElementException, WebDriverException\n",
    "\n",
    "\n",
    "# chromedriver = '/usr/bin/chromedriver'\n",
    "# driver = webdriver.Chrome(chromedriver)\n",
    "\n",
    "# driver.get(\"https://www.linkedin.com/directory/companies\")\n",
    "# sign_in = driver.find_element_by_link_text(\"Sign in\")\n",
    "# sign_in.click()\n",
    "# user_name = driver.find_element_by_class_name(\"login-email\")\n",
    "# user_name.send_keys(\"a@gmail.com\")\n",
    "\n",
    "# password =driver.find_element_by_class_name(\"login-password\")\n",
    "# password.send_keys(\"\")\n",
    "                  \n",
    "# sleep(2) \n",
    "# sign_in_button = driver.find_element_by_xpath('//*[@type=\"submit\"]')                \n",
    "# sign_in_button.click() \n",
    "\n",
    "# find_company = driver.find_elements_by_class_name('content')\n",
    "\n",
    "# company_name=[]\n",
    "# url =[]\n",
    "# employees = []\n",
    "# j=list(range(0,5))\n",
    "# for i in j:\n",
    "#     c_name =find_company[i].text\n",
    "#     company_name.append(c_name)\n",
    "    \n",
    "# def callfunction(company_name):\n",
    "#     for i in range(0,5):\n",
    "#         link = driver.find_elements_by_xpath('//li[@class = \"content\"]/a')\n",
    "#         link[i].text\n",
    "#         print()\n",
    "#         link_ = link[i].get_attribute(\"href\")\n",
    "#         print(link_)\n",
    "# from selenium import webdriver\n",
    "# from time import sleep\n",
    "# import csv\n",
    "# import pandas as pd\n",
    "# # specifies the path to the chromedriver.exe\n",
    "# chromedriver = '/usr/bin/chromedriver'\n",
    "# driver = webdriver.Chrome(chromedriver)\n",
    "\n",
    "# driver.get(\"https://www.linkedin.com/\")\n",
    "# sign_in = driver.find_element_by_link_text(\"Sign in\")\n",
    "# sign_in.click()\n",
    "# user_name = driver.find_element_by_class_name(\"login-email\")\n",
    "# user_name.send_keys(\"akankshakaple@gmail.com\")\n",
    "\n",
    "# password =driver.find_element_by_class_name(\"login-password\")\n",
    "# password.send_keys(\"\")\n",
    "                  \n",
    "# sleep(2) \n",
    "# sign_in_button = driver.find_element_by_xpath('//*[@type=\"submit\"]')                \n",
    "# sign_in_button.click() \n",
    "\n",
    "# find_company = driver.find_elements_by_class_name('content')\n",
    "\n",
    "# company_name=[]\n",
    "# url =[]\n",
    "# employees = []\n",
    "# j=list(range(0,5))\n",
    "# for i in j:\n",
    "#     c_name =find_company[i].text\n",
    "#     company_name.append(c_name)\n",
    "    \n",
    "# def callfunction(company_name):\n",
    "#     for i in range(0,5):\n",
    "#         link = driver.find_elements_by_xpath('//li[@class = \"content\"]/a')\n",
    "#         link[i].text\n",
    "#         print()\n",
    "#         link_ = link[i].get_attribute(\"href\")\n",
    "#         print(link_)\n",
    "#         url.append(link_)\n",
    "#         driver.get(link_)\n",
    "#         sleep(2)\n",
    "#         driver.find_element_by_link_text('About').click()\n",
    "#         sleep(8)\n",
    "#         em=driver.find_element_by_class_name('overflow-hidden')\n",
    "#         employ = em.text  \n",
    "#         em_no = employ.split(\"\\n\")\n",
    "\n",
    "#         for i in em_no:\n",
    "#             if(i == \"Company size\"):\n",
    "#                 print(em_no[em_no.index(i)+1])\n",
    "#                 employees.append(em_no[em_no.index(i)+1])\n",
    "#             break\n",
    "\n",
    "\n",
    "#         driver.execute_script(\"window.history.go(-2)\")\n",
    "#         sleep(8)\n",
    "\n",
    "\n",
    "#     callfunction(company_name)\n",
    "#     # =============================================================================\n",
    "#     # print(url)\n",
    "#     # print(employees)\n",
    "#     # =============================================================================\n",
    "#     data = [company_name,url,employees]\n",
    "#     df = pd.DataFrame(data,index = [\"COmpany_NAME\",\"Url\",\"Employees\"])\n",
    "#     url.append(link_)\n",
    "#     driver.get(link_)\n",
    "#     sleep(2)\n",
    "#     driver.find_element_by_link_text('About').click()\n",
    "#     sleep(8)\n",
    "#     em=driver.find_element_by_class_name('overflow-hidden')\n",
    "#     employ = em.text  \n",
    "#     em_no = employ.split(\"\\n\")\n",
    "\n",
    "#     for i in em_no:\n",
    "#         if(i == \"Company size\"):\n",
    "#             print(em_no[em_no.index(i)+1])\n",
    "#             employees.append(em_no[em_no.index(i)+1])\n",
    "#             break\n",
    "\n",
    "\n",
    "#     driver.execute_script(\"window.history.go(-2)\")\n",
    "#     sleep(8)\n",
    "\n",
    "\n",
    "# callfunction(company_name)\n",
    "# # =============================================================================\n",
    "# # print(url)\n",
    "# # print(employees)\n",
    "# # =============================================================================\n",
    "# data = [company_name,url,employees]\n",
    "# df = pd.DataFrame(data,index = [\"COmpany_NAME\",\"Url\",\"Employees\"])\n",
    "# df"
   ]
  },
  {
   "cell_type": "code",
   "execution_count": 12,
   "metadata": {},
   "outputs": [],
   "source": [
    "from time import sleep\n",
    "from selenium import webdriver\n",
    "from selenium.webdriver.common.keys import Keys\n",
    "import csv\n",
    "import pandas as pd\n",
    "from selenium.common.exceptions import NoSuchElementException, WebDriverException\n",
    "\n",
    "\n",
    "chromedriver = '/usr/bin/chromedriver'\n",
    "driver = webdriver.Chrome(chromedriver)\n",
    "\n",
    "driver.get(\"https://www.linkedin.com/directory/companies\")\n",
    "sign_in = driver.find_element_by_link_text(\"Sign in\")\n",
    "sign_in.click()\n",
    "user_name = driver.find_element_by_class_name(\"login-email\")\n",
    "user_name.send_keys(\"akankshakaple@gmail.com\")\n",
    "\n",
    "password =driver.find_element_by_class_name(\"login-password\")\n",
    "password.send_keys(\"\")\n",
    "                  \n"
   ]
  },
  {
   "cell_type": "code",
   "execution_count": 18,
   "metadata": {},
   "outputs": [],
   "source": [
    "from selenium import webdriver\n",
    "from time import sleep\n",
    "import csv\n",
    "import pandas as pd\n",
    "# specifies the path to the chromedriver.exe\n",
    "chromedriver = '/usr/bin/chromedriver'\n",
    "driver = webdriver.Chrome(chromedriver)\n",
    "\n",
    "driver.get(\"https://www.linkedin.com/directory/companies\")\n",
    "sign_in = driver.find_element_by_link_text(\"Sign in\")\n",
    "sign_in.click()\n",
    "user_name = driver.find_element_by_class_name(\"login-email\")\n",
    "user_name.send_keys(\"*****@gmail.com\")\n",
    "\n",
    "password =driver.find_element_by_class_name(\"login-password\")\n",
    "password.send_keys(\"*********\")\n",
    "                  \n",
    "sleep(2) \n",
    "sign_in_button = driver.find_element_by_xpath('//*[@type=\"submit\"]')                \n",
    "sign_in_button.click() \n",
    "\n",
    "find_company = driver.find_elements_by_class_name('content')"
   ]
  },
  {
   "cell_type": "code",
   "execution_count": 47,
   "metadata": {},
   "outputs": [],
   "source": [
    "data = pd.read_excel('All In One.xlsx')\n",
    "data.drop_duplicates(inplace=True)\n",
    "data.fillna(\"Missing\", inplace=True)"
   ]
  },
  {
   "cell_type": "code",
   "execution_count": 48,
   "metadata": {},
   "outputs": [
    {
     "name": "stdout",
     "output_type": "stream",
     "text": [
      "(15312, 53)\n"
     ]
    },
    {
     "data": {
      "text/plain": [
       "(15271, 53)"
      ]
     },
     "execution_count": 48,
     "metadata": {},
     "output_type": "execute_result"
    }
   ],
   "source": [
    "print(data.shape)\n",
    "index = []\n",
    "for i in range(len(data)):\n",
    "    if data.iloc[i]['Company Name'] == 'Missing' and data.iloc[i]['Website'] == 'Missing':\n",
    "        index.append(i)\n",
    "data.drop(index, inplace=True)\n",
    "data.shape"
   ]
  },
  {
   "cell_type": "code",
   "execution_count": 55,
   "metadata": {},
   "outputs": [],
   "source": [
    "company_name = []\n",
    "for i in range(len(data)):\n",
    "    c_name = data['Company Name'].iloc[i]\n",
    "    website = data['Website'].iloc[i]\n",
    "    if name == 'Missing':\n",
    "        company_name.append(website)\n",
    "    else:\n",
    "        company_name.append(c_name)"
   ]
  },
  {
   "cell_type": "code",
   "execution_count": 56,
   "metadata": {},
   "outputs": [
    {
     "data": {
      "text/plain": [
       "15271"
      ]
     },
     "execution_count": 56,
     "metadata": {},
     "output_type": "execute_result"
    }
   ],
   "source": [
    "len(company_name)"
   ]
  },
  {
   "cell_type": "code",
   "execution_count": 54,
   "metadata": {},
   "outputs": [
    {
     "data": {
      "text/plain": [
       "['Amazon',\n",
       " 'Jobs Interviewing Now from MJH',\n",
       " 'LinkedIn',\n",
       " 'HR Multinational Corp',\n",
       " 'The Gypsy Nurse']"
      ]
     },
     "execution_count": 54,
     "metadata": {},
     "output_type": "execute_result"
    }
   ],
   "source": [
    "company_name=[]\n",
    "url =[]\n",
    "employees = []\n",
    "j=list(range(0,5))\n",
    "for i in j:\n",
    "    c_name =find_company[i].text\n",
    "    company_name.append(c_name)\n",
    "\n",
    "company_name"
   ]
  },
  {
   "cell_type": "code",
   "execution_count": 75,
   "metadata": {},
   "outputs": [
    {
     "name": "stdout",
     "output_type": "stream",
     "text": [
      "Collecting google\n",
      "\u001b[33m  Cache entry deserialization failed, entry ignored\u001b[0m\n",
      "Collecting beautifulsoup4 (from google)\n",
      "\u001b[33m  Cache entry deserialization failed, entry ignored\u001b[0m\n",
      "  Using cached https://files.pythonhosted.org/packages/1a/b7/34eec2fe5a49718944e215fde81288eec1fa04638aa3fb57c1c6cd0f98c3/beautifulsoup4-4.8.0-py3-none-any.whl\n",
      "Collecting soupsieve>=1.2 (from beautifulsoup4->google)\n",
      "\u001b[33m  Cache entry deserialization failed, entry ignored\u001b[0m\n",
      "  Using cached https://files.pythonhosted.org/packages/0b/44/0474f2207fdd601bb25787671c81076333d2c80e6f97e92790f8887cf682/soupsieve-1.9.3-py2.py3-none-any.whl\n",
      "Installing collected packages: soupsieve, beautifulsoup4, google\n",
      "Successfully installed beautifulsoup4-4.8.0 google-2.0.2 soupsieve-1.9.3\n"
     ]
    }
   ],
   "source": [
    "!pip3 install google"
   ]
  },
  {
   "cell_type": "code",
   "execution_count": 5,
   "metadata": {},
   "outputs": [
    {
     "ename": "ImportError",
     "evalue": "cannot import name 'search' from 'googlesearch' (/home/akanksha/anaconda3/lib/python3.7/site-packages/googlesearch/__init__.py)",
     "output_type": "error",
     "traceback": [
      "\u001b[0;31m---------------------------------------------------------------------------\u001b[0m",
      "\u001b[0;31mImportError\u001b[0m                               Traceback (most recent call last)",
      "\u001b[0;32m<ipython-input-5-76365aa14d9f>\u001b[0m in \u001b[0;36m<module>\u001b[0;34m\u001b[0m\n\u001b[0;32m----> 1\u001b[0;31m \u001b[0;32mfrom\u001b[0m \u001b[0mgooglesearch\u001b[0m \u001b[0;32mimport\u001b[0m \u001b[0msearch\u001b[0m\u001b[0;34m\u001b[0m\u001b[0;34m\u001b[0m\u001b[0m\n\u001b[0m",
      "\u001b[0;31mImportError\u001b[0m: cannot import name 'search' from 'googlesearch' (/home/akanksha/anaconda3/lib/python3.7/site-packages/googlesearch/__init__.py)"
     ]
    }
   ],
   "source": [
    "from googlesearch import search"
   ]
  },
  {
   "cell_type": "code",
   "execution_count": 69,
   "metadata": {},
   "outputs": [
    {
     "ename": "ImportError",
     "evalue": "cannot import name 'search' from 'googlesearch' (/home/akanksha/anaconda3/lib/python3.7/site-packages/googlesearch/__init__.py)",
     "output_type": "error",
     "traceback": [
      "\u001b[0;31m---------------------------------------------------------------------------\u001b[0m",
      "\u001b[0;31mImportError\u001b[0m                               Traceback (most recent call last)",
      "\u001b[0;32m<ipython-input-69-ec40b8e01da5>\u001b[0m in \u001b[0;36m<module>\u001b[0;34m\u001b[0m\n\u001b[0;32m----> 1\u001b[0;31m \u001b[0;32mfrom\u001b[0m \u001b[0mgooglesearch\u001b[0m \u001b[0;32mimport\u001b[0m \u001b[0msearch\u001b[0m\u001b[0;34m\u001b[0m\u001b[0;34m\u001b[0m\u001b[0m\n\u001b[0m\u001b[1;32m      2\u001b[0m \u001b[0;32mdef\u001b[0m \u001b[0mget_urls\u001b[0m\u001b[0;34m(\u001b[0m\u001b[0mcompany_name\u001b[0m\u001b[0;34m)\u001b[0m\u001b[0;34m:\u001b[0m\u001b[0;34m\u001b[0m\u001b[0;34m\u001b[0m\u001b[0m\n\u001b[1;32m      3\u001b[0m     \u001b[0mprint\u001b[0m\u001b[0;34m(\u001b[0m\u001b[0;34m'get_urls'\u001b[0m\u001b[0;34m)\u001b[0m\u001b[0;34m\u001b[0m\u001b[0;34m\u001b[0m\u001b[0m\n\u001b[1;32m      4\u001b[0m     \"\"\"\n\u001b[1;32m      5\u001b[0m     \u001b[0;34m:\u001b[0m\u001b[0mparam\u001b[0m \u001b[0mcompany_name\u001b[0m\u001b[0;34m:\u001b[0m \u001b[0mName\u001b[0m \u001b[0mof\u001b[0m \u001b[0mthe\u001b[0m \u001b[0mcompany\u001b[0m\u001b[0;34m\u001b[0m\u001b[0;34m\u001b[0m\u001b[0m\n",
      "\u001b[0;31mImportError\u001b[0m: cannot import name 'search' from 'googlesearch' (/home/akanksha/anaconda3/lib/python3.7/site-packages/googlesearch/__init__.py)"
     ]
    }
   ],
   "source": [
    "from googlesearch import search\n",
    "def get_urls(company_name):\n",
    "    print('get_urls')\n",
    "    \"\"\"\n",
    "    :param company_name: Name of the company\n",
    "    :return: URLs of LinkedIn, Angel.co, crunch_base and the company mentioned.\n",
    "    \"\"\"\n",
    "    sites = ['linked_in']\n",
    "    urls = {}\n",
    "    for site in sites:\n",
    "        query = company_name + site\n",
    "        # url_generator = GoogleSearch().search(query, tld=\"com\", num=1, stop=1, pause=2)\n",
    "        url_generator = search(query, tld=\"com\", num=1, stop=1, pause=2)\n",
    "    return urls"
   ]
  },
  {
   "cell_type": "code",
   "execution_count": 66,
   "metadata": {},
   "outputs": [
    {
     "name": "stdout",
     "output_type": "stream",
     "text": [
      "get_urls\n"
     ]
    },
    {
     "ename": "NameError",
     "evalue": "name 'search' is not defined",
     "output_type": "error",
     "traceback": [
      "\u001b[0;31m---------------------------------------------------------------------------\u001b[0m",
      "\u001b[0;31mNameError\u001b[0m                                 Traceback (most recent call last)",
      "\u001b[0;32m<ipython-input-66-a64ba3148911>\u001b[0m in \u001b[0;36m<module>\u001b[0;34m\u001b[0m\n\u001b[1;32m      1\u001b[0m \u001b[0mlinkedin_url\u001b[0m \u001b[0;34m=\u001b[0m \u001b[0;34m[\u001b[0m\u001b[0;34m]\u001b[0m\u001b[0;34m\u001b[0m\u001b[0;34m\u001b[0m\u001b[0m\n\u001b[1;32m      2\u001b[0m \u001b[0;32mfor\u001b[0m \u001b[0mi\u001b[0m \u001b[0;32min\u001b[0m \u001b[0mcompany_name\u001b[0m\u001b[0;34m[\u001b[0m\u001b[0;34m:\u001b[0m\u001b[0;36m3\u001b[0m\u001b[0;34m]\u001b[0m\u001b[0;34m:\u001b[0m\u001b[0;34m\u001b[0m\u001b[0;34m\u001b[0m\u001b[0m\n\u001b[0;32m----> 3\u001b[0;31m     \u001b[0mlinkedin_url\u001b[0m\u001b[0;34m.\u001b[0m\u001b[0mappend\u001b[0m\u001b[0;34m(\u001b[0m\u001b[0mget_urls\u001b[0m\u001b[0;34m(\u001b[0m\u001b[0mi\u001b[0m\u001b[0;34m)\u001b[0m\u001b[0;34m)\u001b[0m\u001b[0;34m\u001b[0m\u001b[0;34m\u001b[0m\u001b[0m\n\u001b[0m\u001b[1;32m      4\u001b[0m \u001b[0;34m\u001b[0m\u001b[0m\n\u001b[1;32m      5\u001b[0m \u001b[0mlinkedin_url\u001b[0m\u001b[0;34m\u001b[0m\u001b[0;34m\u001b[0m\u001b[0m\n",
      "\u001b[0;32m<ipython-input-61-07cbd22d5706>\u001b[0m in \u001b[0;36mget_urls\u001b[0;34m(company_name)\u001b[0m\n\u001b[1;32m     10\u001b[0m         \u001b[0mquery\u001b[0m \u001b[0;34m=\u001b[0m \u001b[0mcompany_name\u001b[0m \u001b[0;34m+\u001b[0m \u001b[0msite\u001b[0m\u001b[0;34m\u001b[0m\u001b[0;34m\u001b[0m\u001b[0m\n\u001b[1;32m     11\u001b[0m         \u001b[0;31m# url_generator = GoogleSearch().search(query, tld=\"com\", num=1, stop=1, pause=2)\u001b[0m\u001b[0;34m\u001b[0m\u001b[0;34m\u001b[0m\u001b[0;34m\u001b[0m\u001b[0m\n\u001b[0;32m---> 12\u001b[0;31m         \u001b[0murl_generator\u001b[0m \u001b[0;34m=\u001b[0m \u001b[0msearch\u001b[0m\u001b[0;34m(\u001b[0m\u001b[0mquery\u001b[0m\u001b[0;34m,\u001b[0m \u001b[0mtld\u001b[0m\u001b[0;34m=\u001b[0m\u001b[0;34m\"com\"\u001b[0m\u001b[0;34m,\u001b[0m \u001b[0mnum\u001b[0m\u001b[0;34m=\u001b[0m\u001b[0;36m1\u001b[0m\u001b[0;34m,\u001b[0m \u001b[0mstop\u001b[0m\u001b[0;34m=\u001b[0m\u001b[0;36m1\u001b[0m\u001b[0;34m,\u001b[0m \u001b[0mpause\u001b[0m\u001b[0;34m=\u001b[0m\u001b[0;36m2\u001b[0m\u001b[0;34m)\u001b[0m\u001b[0;34m\u001b[0m\u001b[0;34m\u001b[0m\u001b[0m\n\u001b[0m\u001b[1;32m     13\u001b[0m     \u001b[0;32mreturn\u001b[0m \u001b[0murls\u001b[0m\u001b[0;34m\u001b[0m\u001b[0;34m\u001b[0m\u001b[0m\n",
      "\u001b[0;31mNameError\u001b[0m: name 'search' is not defined"
     ]
    }
   ],
   "source": [
    "linkedin_url = []\n",
    "for i in company_name[:3]:\n",
    "    linkedin_url.append(get_urls(i))\n",
    "    \n",
    "linkedin_url"
   ]
  },
  {
   "cell_type": "code",
   "execution_count": null,
   "metadata": {},
   "outputs": [],
   "source": [
    "def callfunction(company_name):\n",
    "    for i in range(0,5):\n",
    "        link = driver.find_elements_by_xpath('//li[@class = \"content\"]/a')\n",
    "        link[i].text\n",
    "        print()\n",
    "        link_ = link[i].get_attribute(\"href\")\n",
    "        print(link_)\n",
    "        url.append(link_)\n",
    "        driver.get(link_)\n",
    "        sleep(2)\n",
    "        driver.find_element_by_link_text('About').click()\n",
    "        sleep(8)\n",
    "        em=driver.find_element_by_class_name('overflow-hidden')\n",
    "        employ = em.text  \n",
    "        em_no = employ.split(\"\\n\")\n",
    "\n",
    "        for i in em_no:\n",
    "            if(i == \"Company size\"):\n",
    "                print(em_no[em_no.index(i)+1])\n",
    "                employees.append(em_no[em_no.index(i)+1])\n",
    "            break\n",
    "\n",
    "\n",
    "        driver.execute_script(\"window.history.go(-2)\")\n",
    "        sleep(8)\n",
    "\n",
    "\n",
    "    callfunction(company_name)\n",
    "    # =============================================================================\n",
    "    # print(url)\n",
    "    # print(employees)\n",
    "    # =============================================================================\n",
    "    data = [company_name,url,employees]\n",
    "    df = pd.DataFrame(data,index = [\"COmpany_NAME\",\"Url\",\"Employees\"])\n",
    "    url.append(link_)\n",
    "    driver.get(link_)\n",
    "    sleep(2)\n",
    "    driver.find_element_by_link_text('About').click()\n",
    "    sleep(8)\n",
    "    em=driver.find_element_by_class_name('overflow-hidden')\n",
    "    employ = em.text  \n",
    "    em_no = employ.split(\"\\n\")\n",
    "\n",
    "    for i in em_no:\n",
    "        if(i == \"Company size\"):\n",
    "            print(em_no[em_no.index(i)+1])\n",
    "            employees.append(em_no[em_no.index(i)+1])\n",
    "            break\n",
    "\n",
    "\n",
    "    driver.execute_script(\"window.history.go(-2)\")\n",
    "    sleep(8)\n",
    "\n",
    "\n",
    "callfunction(company_name)\n",
    "# =============================================================================\n",
    "# print(url)\n",
    "# print(employees)\n",
    "# =============================================================================\n",
    "data = [company_name,url,employees]\n",
    "df = pd.DataFrame(data,index = [\"COmpany_NAME\",\"Url\",\"Employees\"])\n",
    "df"
   ]
  },
  {
   "cell_type": "code",
   "execution_count": 1,
   "metadata": {},
   "outputs": [],
   "source": [
    "import pandas as pd"
   ]
  },
  {
   "cell_type": "code",
   "execution_count": 16,
   "metadata": {},
   "outputs": [
    {
     "data": {
      "text/html": [
       "<div>\n",
       "<style scoped>\n",
       "    .dataframe tbody tr th:only-of-type {\n",
       "        vertical-align: middle;\n",
       "    }\n",
       "\n",
       "    .dataframe tbody tr th {\n",
       "        vertical-align: top;\n",
       "    }\n",
       "\n",
       "    .dataframe thead th {\n",
       "        text-align: right;\n",
       "    }\n",
       "</style>\n",
       "<table border=\"1\" class=\"dataframe\">\n",
       "  <thead>\n",
       "    <tr style=\"text-align: right;\">\n",
       "      <th></th>\n",
       "      <th>a</th>\n",
       "      <th>b</th>\n",
       "      <th>c</th>\n",
       "      <th>d</th>\n",
       "    </tr>\n",
       "  </thead>\n",
       "  <tbody>\n",
       "    <tr>\n",
       "      <th>0</th>\n",
       "      <td>1</td>\n",
       "      <td>a</td>\n",
       "      <td>qqq</td>\n",
       "      <td>niyo</td>\n",
       "    </tr>\n",
       "    <tr>\n",
       "      <th>1</th>\n",
       "      <td>2</td>\n",
       "      <td>b</td>\n",
       "      <td>wwww</td>\n",
       "      <td>hash</td>\n",
       "    </tr>\n",
       "    <tr>\n",
       "      <th>2</th>\n",
       "      <td>3</td>\n",
       "      <td>a</td>\n",
       "      <td>qqq</td>\n",
       "      <td>niyo</td>\n",
       "    </tr>\n",
       "    <tr>\n",
       "      <th>3</th>\n",
       "      <td>4</td>\n",
       "      <td>c</td>\n",
       "      <td>xx</td>\n",
       "      <td>hash</td>\n",
       "    </tr>\n",
       "  </tbody>\n",
       "</table>\n",
       "</div>"
      ],
      "text/plain": [
       "   a  b     c     d\n",
       "0  1  a   qqq  niyo\n",
       "1  2  b  wwww  hash\n",
       "2  3  a   qqq  niyo\n",
       "3  4  c    xx  hash"
      ]
     },
     "execution_count": 16,
     "metadata": {},
     "output_type": "execute_result"
    }
   ],
   "source": [
    "data = {'a': ['1','2','3','4'], \n",
    "        'b' : ['a','b','a','c'], \n",
    "        'c' : ['qqq', 'wwww', 'qqq', 'xx'],\n",
    "       'd': ['niyo', 'hash', 'niyo', 'hash']}\n",
    "df = pd.DataFrame(data)\n",
    "df.head()"
   ]
  },
  {
   "cell_type": "code",
   "execution_count": 4,
   "metadata": {},
   "outputs": [
    {
     "data": {
      "text/html": [
       "<div>\n",
       "<style scoped>\n",
       "    .dataframe tbody tr th:only-of-type {\n",
       "        vertical-align: middle;\n",
       "    }\n",
       "\n",
       "    .dataframe tbody tr th {\n",
       "        vertical-align: top;\n",
       "    }\n",
       "\n",
       "    .dataframe thead th {\n",
       "        text-align: right;\n",
       "    }\n",
       "</style>\n",
       "<table border=\"1\" class=\"dataframe\">\n",
       "  <thead>\n",
       "    <tr style=\"text-align: right;\">\n",
       "      <th></th>\n",
       "      <th>b</th>\n",
       "      <th>c</th>\n",
       "      <th>a</th>\n",
       "    </tr>\n",
       "  </thead>\n",
       "  <tbody>\n",
       "    <tr>\n",
       "      <th>0</th>\n",
       "      <td>a</td>\n",
       "      <td>qqq</td>\n",
       "      <td>1, 3</td>\n",
       "    </tr>\n",
       "    <tr>\n",
       "      <th>1</th>\n",
       "      <td>b</td>\n",
       "      <td>wwww</td>\n",
       "      <td>2</td>\n",
       "    </tr>\n",
       "    <tr>\n",
       "      <th>2</th>\n",
       "      <td>c</td>\n",
       "      <td>xx</td>\n",
       "      <td>4</td>\n",
       "    </tr>\n",
       "  </tbody>\n",
       "</table>\n",
       "</div>"
      ],
      "text/plain": [
       "   b     c     a\n",
       "0  a   qqq  1, 3\n",
       "1  b  wwww     2\n",
       "2  c    xx     4"
      ]
     },
     "execution_count": 4,
     "metadata": {},
     "output_type": "execute_result"
    }
   ],
   "source": [
    "df.groupby(['b', 'c'])['a'].apply(', '.join).reset_index().head()"
   ]
  },
  {
   "cell_type": "code",
   "execution_count": 5,
   "metadata": {},
   "outputs": [
    {
     "data": {
      "text/html": [
       "<div>\n",
       "<style scoped>\n",
       "    .dataframe tbody tr th:only-of-type {\n",
       "        vertical-align: middle;\n",
       "    }\n",
       "\n",
       "    .dataframe tbody tr th {\n",
       "        vertical-align: top;\n",
       "    }\n",
       "\n",
       "    .dataframe thead th {\n",
       "        text-align: right;\n",
       "    }\n",
       "</style>\n",
       "<table border=\"1\" class=\"dataframe\">\n",
       "  <thead>\n",
       "    <tr style=\"text-align: right;\">\n",
       "      <th></th>\n",
       "      <th>c</th>\n",
       "      <th>a</th>\n",
       "      <th>b</th>\n",
       "    </tr>\n",
       "  </thead>\n",
       "  <tbody>\n",
       "    <tr>\n",
       "      <th>0</th>\n",
       "      <td>qqq</td>\n",
       "      <td>1</td>\n",
       "      <td>a</td>\n",
       "    </tr>\n",
       "    <tr>\n",
       "      <th>1</th>\n",
       "      <td>qqq</td>\n",
       "      <td>3</td>\n",
       "      <td>a</td>\n",
       "    </tr>\n",
       "    <tr>\n",
       "      <th>2</th>\n",
       "      <td>wwww</td>\n",
       "      <td>2</td>\n",
       "      <td>b</td>\n",
       "    </tr>\n",
       "    <tr>\n",
       "      <th>3</th>\n",
       "      <td>xx</td>\n",
       "      <td>4</td>\n",
       "      <td>c</td>\n",
       "    </tr>\n",
       "  </tbody>\n",
       "</table>\n",
       "</div>"
      ],
      "text/plain": [
       "      c  a  b\n",
       "0   qqq  1  a\n",
       "1   qqq  3  a\n",
       "2  wwww  2  b\n",
       "3    xx  4  c"
      ]
     },
     "execution_count": 5,
     "metadata": {},
     "output_type": "execute_result"
    }
   ],
   "source": [
    "df.groupby(['c', 'a'])['b'].apply(', '.join).reset_index().head()"
   ]
  },
  {
   "cell_type": "code",
   "execution_count": 6,
   "metadata": {},
   "outputs": [
    {
     "data": {
      "text/html": [
       "<div>\n",
       "<style scoped>\n",
       "    .dataframe tbody tr th:only-of-type {\n",
       "        vertical-align: middle;\n",
       "    }\n",
       "\n",
       "    .dataframe tbody tr th {\n",
       "        vertical-align: top;\n",
       "    }\n",
       "\n",
       "    .dataframe thead th {\n",
       "        text-align: right;\n",
       "    }\n",
       "</style>\n",
       "<table border=\"1\" class=\"dataframe\">\n",
       "  <thead>\n",
       "    <tr style=\"text-align: right;\">\n",
       "      <th></th>\n",
       "      <th>a</th>\n",
       "      <th>b</th>\n",
       "      <th>c</th>\n",
       "    </tr>\n",
       "    <tr>\n",
       "      <th>b</th>\n",
       "      <th></th>\n",
       "      <th></th>\n",
       "      <th></th>\n",
       "    </tr>\n",
       "  </thead>\n",
       "  <tbody>\n",
       "    <tr>\n",
       "      <th>a</th>\n",
       "      <td>13</td>\n",
       "      <td>aa</td>\n",
       "      <td>qqq</td>\n",
       "    </tr>\n",
       "    <tr>\n",
       "      <th>b</th>\n",
       "      <td>2</td>\n",
       "      <td>b</td>\n",
       "      <td>wwww</td>\n",
       "    </tr>\n",
       "    <tr>\n",
       "      <th>c</th>\n",
       "      <td>4</td>\n",
       "      <td>c</td>\n",
       "      <td>xx</td>\n",
       "    </tr>\n",
       "  </tbody>\n",
       "</table>\n",
       "</div>"
      ],
      "text/plain": [
       "    a   b     c\n",
       "b              \n",
       "a  13  aa   qqq\n",
       "b   2   b  wwww\n",
       "c   4   c    xx"
      ]
     },
     "execution_count": 6,
     "metadata": {},
     "output_type": "execute_result"
    }
   ],
   "source": [
    "# df.groupby(by='b').agg({'a': 'sum',\n",
    "#                               'c': 'sum',\n",
    "#                              }).reset_index()\n",
    "# import numpy\n",
    "# df.groupby(df.columns, axis=1).agg('sum')\n",
    "aggregation_functions = {'a': 'sum', 'b': 'sum', 'c': 'first'}\n",
    "df_new = df.groupby('b').aggregate(aggregation_functions)\n",
    "df_new.head()"
   ]
  },
  {
   "cell_type": "code",
   "execution_count": 15,
   "metadata": {},
   "outputs": [
    {
     "ename": "SyntaxError",
     "evalue": "invalid syntax (<ipython-input-15-d289589fea2f>, line 3)",
     "output_type": "error",
     "traceback": [
      "\u001b[0;36m  File \u001b[0;32m\"<ipython-input-15-d289589fea2f>\"\u001b[0;36m, line \u001b[0;32m3\u001b[0m\n\u001b[0;31m    if\u001b[0m\n\u001b[0m       ^\u001b[0m\n\u001b[0;31mSyntaxError\u001b[0m\u001b[0;31m:\u001b[0m invalid syntax\n"
     ]
    }
   ],
   "source": [
    "def mer(b):\n",
    "    for i in b:\n",
    "        if \n",
    "    return '1'\n",
    "df.groupby(['c', 'a'])[mer(b)].apply(', '.join).reset_index().head()"
   ]
  },
  {
   "cell_type": "code",
   "execution_count": 10,
   "metadata": {},
   "outputs": [
    {
     "data": {
      "text/html": [
       "<div>\n",
       "<style scoped>\n",
       "    .dataframe tbody tr th:only-of-type {\n",
       "        vertical-align: middle;\n",
       "    }\n",
       "\n",
       "    .dataframe tbody tr th {\n",
       "        vertical-align: top;\n",
       "    }\n",
       "\n",
       "    .dataframe thead th {\n",
       "        text-align: right;\n",
       "    }\n",
       "</style>\n",
       "<table border=\"1\" class=\"dataframe\">\n",
       "  <thead>\n",
       "    <tr style=\"text-align: right;\">\n",
       "      <th></th>\n",
       "      <th>a</th>\n",
       "      <th>b</th>\n",
       "      <th>c</th>\n",
       "      <th>d</th>\n",
       "    </tr>\n",
       "  </thead>\n",
       "  <tbody>\n",
       "    <tr>\n",
       "      <th>0</th>\n",
       "      <td>1</td>\n",
       "      <td>a</td>\n",
       "      <td>qqq</td>\n",
       "      <td>niyo</td>\n",
       "    </tr>\n",
       "    <tr>\n",
       "      <th>1</th>\n",
       "      <td>2</td>\n",
       "      <td>b</td>\n",
       "      <td>wwww</td>\n",
       "      <td>hash</td>\n",
       "    </tr>\n",
       "    <tr>\n",
       "      <th>2</th>\n",
       "      <td>3</td>\n",
       "      <td>a</td>\n",
       "      <td>qqq</td>\n",
       "      <td>niyo</td>\n",
       "    </tr>\n",
       "    <tr>\n",
       "      <th>3</th>\n",
       "      <td>4</td>\n",
       "      <td>c</td>\n",
       "      <td>xx</td>\n",
       "      <td>hash</td>\n",
       "    </tr>\n",
       "  </tbody>\n",
       "</table>\n",
       "</div>"
      ],
      "text/plain": [
       "   a  b     c     d\n",
       "0  1  a   qqq  niyo\n",
       "1  2  b  wwww  hash\n",
       "2  3  a   qqq  niyo\n",
       "3  4  c    xx  hash"
      ]
     },
     "execution_count": 10,
     "metadata": {},
     "output_type": "execute_result"
    }
   ],
   "source": [
    "df"
   ]
  },
  {
   "cell_type": "code",
   "execution_count": 13,
   "metadata": {},
   "outputs": [
    {
     "data": {
      "text/plain": [
       "array([False, False,  True,  True])"
      ]
     },
     "execution_count": 13,
     "metadata": {},
     "output_type": "execute_result"
    }
   ],
   "source": [
    "common = df.d.duplicated().values\n",
    "common"
   ]
  },
  {
   "cell_type": "code",
   "execution_count": 23,
   "metadata": {},
   "outputs": [
    {
     "data": {
      "text/html": [
       "<div>\n",
       "<style scoped>\n",
       "    .dataframe tbody tr th:only-of-type {\n",
       "        vertical-align: middle;\n",
       "    }\n",
       "\n",
       "    .dataframe tbody tr th {\n",
       "        vertical-align: top;\n",
       "    }\n",
       "\n",
       "    .dataframe thead th {\n",
       "        text-align: right;\n",
       "    }\n",
       "</style>\n",
       "<table border=\"1\" class=\"dataframe\">\n",
       "  <thead>\n",
       "    <tr style=\"text-align: right;\">\n",
       "      <th></th>\n",
       "      <th>d</th>\n",
       "      <th>a</th>\n",
       "    </tr>\n",
       "  </thead>\n",
       "  <tbody>\n",
       "    <tr>\n",
       "      <th>0</th>\n",
       "      <td>hash</td>\n",
       "      <td>2, 4</td>\n",
       "    </tr>\n",
       "    <tr>\n",
       "      <th>1</th>\n",
       "      <td>niyo</td>\n",
       "      <td>1, 3</td>\n",
       "    </tr>\n",
       "  </tbody>\n",
       "</table>\n",
       "</div>"
      ],
      "text/plain": [
       "      d     a\n",
       "0  hash  2, 4\n",
       "1  niyo  1, 3"
      ]
     },
     "execution_count": 23,
     "metadata": {},
     "output_type": "execute_result"
    }
   ],
   "source": [
    "x = df.groupby(['d'])['a'].apply(', '.join).reset_index()\n",
    "x"
   ]
  },
  {
   "cell_type": "code",
   "execution_count": 24,
   "metadata": {},
   "outputs": [
    {
     "data": {
      "text/html": [
       "<div>\n",
       "<style scoped>\n",
       "    .dataframe tbody tr th:only-of-type {\n",
       "        vertical-align: middle;\n",
       "    }\n",
       "\n",
       "    .dataframe tbody tr th {\n",
       "        vertical-align: top;\n",
       "    }\n",
       "\n",
       "    .dataframe thead th {\n",
       "        text-align: right;\n",
       "    }\n",
       "</style>\n",
       "<table border=\"1\" class=\"dataframe\">\n",
       "  <thead>\n",
       "    <tr style=\"text-align: right;\">\n",
       "      <th></th>\n",
       "      <th>d</th>\n",
       "      <th>c</th>\n",
       "    </tr>\n",
       "  </thead>\n",
       "  <tbody>\n",
       "    <tr>\n",
       "      <th>0</th>\n",
       "      <td>hash</td>\n",
       "      <td>wwww, xx</td>\n",
       "    </tr>\n",
       "    <tr>\n",
       "      <th>1</th>\n",
       "      <td>niyo</td>\n",
       "      <td>qqq, qqq</td>\n",
       "    </tr>\n",
       "  </tbody>\n",
       "</table>\n",
       "</div>"
      ],
      "text/plain": [
       "      d         c\n",
       "0  hash  wwww, xx\n",
       "1  niyo  qqq, qqq"
      ]
     },
     "execution_count": 24,
     "metadata": {},
     "output_type": "execute_result"
    }
   ],
   "source": [
    "y = df.groupby(['d'])['c'].apply(', '.join).reset_index()\n",
    "y"
   ]
  },
  {
   "cell_type": "code",
   "execution_count": 11,
   "metadata": {},
   "outputs": [
    {
     "data": {
      "text/plain": [
       "Index(['a', 'b', 'c'], dtype='object')"
      ]
     },
     "execution_count": 11,
     "metadata": {},
     "output_type": "execute_result"
    }
   ],
   "source": [
    "pd.merge(x,y,on='d')\n",
    "d1= df.drop(columns='d')\n",
    "d1.shape[1]\n",
    "d1.columns"
   ]
  },
  {
   "cell_type": "code",
   "execution_count": 7,
   "metadata": {},
   "outputs": [
    {
     "data": {
      "text/html": [
       "<div>\n",
       "<style scoped>\n",
       "    .dataframe tbody tr th:only-of-type {\n",
       "        vertical-align: middle;\n",
       "    }\n",
       "\n",
       "    .dataframe tbody tr th {\n",
       "        vertical-align: top;\n",
       "    }\n",
       "\n",
       "    .dataframe thead th {\n",
       "        text-align: right;\n",
       "    }\n",
       "</style>\n",
       "<table border=\"1\" class=\"dataframe\">\n",
       "  <thead>\n",
       "    <tr style=\"text-align: right;\">\n",
       "      <th></th>\n",
       "      <th>a</th>\n",
       "      <th>b</th>\n",
       "      <th>c</th>\n",
       "      <th>d</th>\n",
       "    </tr>\n",
       "  </thead>\n",
       "  <tbody>\n",
       "    <tr>\n",
       "      <th>0</th>\n",
       "      <td>1</td>\n",
       "      <td>a</td>\n",
       "      <td>qqq</td>\n",
       "      <td>niyo</td>\n",
       "    </tr>\n",
       "    <tr>\n",
       "      <th>1</th>\n",
       "      <td>2</td>\n",
       "      <td>b</td>\n",
       "      <td>wwww</td>\n",
       "      <td>hash</td>\n",
       "    </tr>\n",
       "    <tr>\n",
       "      <th>2</th>\n",
       "      <td>3</td>\n",
       "      <td>a</td>\n",
       "      <td>qqq</td>\n",
       "      <td>niyo</td>\n",
       "    </tr>\n",
       "    <tr>\n",
       "      <th>3</th>\n",
       "      <td>4</td>\n",
       "      <td>c</td>\n",
       "      <td>xx</td>\n",
       "      <td>hash</td>\n",
       "    </tr>\n",
       "  </tbody>\n",
       "</table>\n",
       "</div>"
      ],
      "text/plain": [
       "   a  b     c     d\n",
       "0  1  a   qqq  niyo\n",
       "1  2  b  wwww  hash\n",
       "2  3  a   qqq  niyo\n",
       "3  4  c    xx  hash"
      ]
     },
     "execution_count": 7,
     "metadata": {},
     "output_type": "execute_result"
    }
   ],
   "source": [
    "import pandas as pd\n",
    "data = {'a': ['1','2','3','4'], \n",
    "        'b' : ['a','b','a','c'], \n",
    "        'c' : ['qqq', 'wwww', 'qqq', 'xx'],\n",
    "       'd': ['niyo', 'hash', 'niyo', 'hash']}\n",
    "df = pd.DataFrame(data)\n",
    "df.head()\n",
    "# col = df.columns\n",
    "\n",
    "# d1= df.drop(columns='d')\n",
    "# d1.shape[1]\n",
    "\n",
    "# i = 0\n",
    "# d = pd.DataFrame(columns=df.columns)\n",
    "# while i <= d1.shape[1]:\n",
    "#     c1 = col[i-1]\n",
    "#     c2 = col[i]\n",
    "#     if col[i] == 'd':\n",
    "#         pass\n",
    "#     else:\n",
    "#         print(i)\n",
    "#         print(col[i])\n",
    "#         x = df.groupby(['d'])[col[i]].apply(', '.join).reset_index()\n",
    "#         x.columns[-1]\n",
    "# #         y = df.groupby(['d'])[col[i]].apply(', '.join).reset_index()\n",
    "# #         d = pd.merge(x,y, on='d')\n",
    "#         print(d)\n",
    "#     i+=1\n",
    "        \n",
    "        \n",
    "# d"
   ]
  },
  {
   "cell_type": "code",
   "execution_count": 58,
   "metadata": {},
   "outputs": [
    {
     "name": "stdout",
     "output_type": "stream",
     "text": [
      "['wwww, xx' 'qqq, qqq']\n"
     ]
    }
   ],
   "source": [
    "x = df.groupby(['d'])['c'].apply(', '.join).reset_index()\n",
    "curr_col = x.columns[-1]\n",
    "col_data = []\n",
    "col_data.append(x[curr_col].values)\n",
    "print(col_data[0])\n",
    "# col_data[0][1].split(',')\n"
   ]
  },
  {
   "cell_type": "code",
   "execution_count": 79,
   "metadata": {},
   "outputs": [
    {
     "name": "stdout",
     "output_type": "stream",
     "text": [
      "['wwww, xx' 'qqq, qqq']\n",
      "[['wwww', 'xx'], ['qqq']]\n"
     ]
    }
   ],
   "source": [
    "def my_function(x):\n",
    "    return list(dict.fromkeys(x))\n",
    "\n",
    "l = col_data[0][1].split(',').strip()\n",
    "print(l)\n",
    "\n",
    "mylist = my_function(l)\n",
    "\n",
    "print(mylist)\n"
   ]
  },
  {
   "cell_type": "code",
   "execution_count": 132,
   "metadata": {},
   "outputs": [
    {
     "data": {
      "text/html": [
       "<div>\n",
       "<style scoped>\n",
       "    .dataframe tbody tr th:only-of-type {\n",
       "        vertical-align: middle;\n",
       "    }\n",
       "\n",
       "    .dataframe tbody tr th {\n",
       "        vertical-align: top;\n",
       "    }\n",
       "\n",
       "    .dataframe thead th {\n",
       "        text-align: right;\n",
       "    }\n",
       "</style>\n",
       "<table border=\"1\" class=\"dataframe\">\n",
       "  <thead>\n",
       "    <tr style=\"text-align: right;\">\n",
       "      <th></th>\n",
       "      <th>a</th>\n",
       "      <th>b</th>\n",
       "      <th>c</th>\n",
       "      <th>d</th>\n",
       "    </tr>\n",
       "  </thead>\n",
       "  <tbody>\n",
       "    <tr>\n",
       "      <th>0</th>\n",
       "      <td>1</td>\n",
       "      <td>a</td>\n",
       "      <td>qqq</td>\n",
       "      <td>niyo</td>\n",
       "    </tr>\n",
       "    <tr>\n",
       "      <th>1</th>\n",
       "      <td>2</td>\n",
       "      <td>b</td>\n",
       "      <td>wwww</td>\n",
       "      <td>hash</td>\n",
       "    </tr>\n",
       "    <tr>\n",
       "      <th>2</th>\n",
       "      <td>3</td>\n",
       "      <td>a</td>\n",
       "      <td>qqq</td>\n",
       "      <td>niyo</td>\n",
       "    </tr>\n",
       "    <tr>\n",
       "      <th>3</th>\n",
       "      <td>4</td>\n",
       "      <td>c</td>\n",
       "      <td>xx</td>\n",
       "      <td>hash</td>\n",
       "    </tr>\n",
       "  </tbody>\n",
       "</table>\n",
       "</div>"
      ],
      "text/plain": [
       "   a  b     c     d\n",
       "0  1  a   qqq  niyo\n",
       "1  2  b  wwww  hash\n",
       "2  3  a   qqq  niyo\n",
       "3  4  c    xx  hash"
      ]
     },
     "execution_count": 132,
     "metadata": {},
     "output_type": "execute_result"
    }
   ],
   "source": [
    "import pandas as pd\n",
    "data = {'a': ['1','2','3','4'], \n",
    "        'b' : ['a','b','a','c'], \n",
    "        'c' : ['qqq', 'wwww', 'qqq', 'xx'],\n",
    "       'd': ['niyo', 'hash', 'niyo', 'hash']}\n",
    "df = pd.DataFrame(data)\n",
    "df.head()"
   ]
  },
  {
   "cell_type": "code",
   "execution_count": 133,
   "metadata": {},
   "outputs": [],
   "source": [
    "def merge(df):\n",
    "    col_data = []\n",
    "\n",
    "    for col in df.columns:\n",
    "        if col == 'd':\n",
    "            pass\n",
    "        else:\n",
    "            x = df.groupby(['d'])[col].apply(', '.join).reset_index()\n",
    "            curr_col = x.columns[-1]\n",
    "            col_data.append([i.split(', ') for i in x[curr_col].values])\n",
    "\n",
    "    return col_data\n",
    "\n",
    "d = merge(df)"
   ]
  },
  {
   "cell_type": "code",
   "execution_count": 134,
   "metadata": {},
   "outputs": [],
   "source": [
    "data = pd.DataFrame(d).T"
   ]
  },
  {
   "cell_type": "code",
   "execution_count": 135,
   "metadata": {},
   "outputs": [
    {
     "data": {
      "text/html": [
       "<div>\n",
       "<style scoped>\n",
       "    .dataframe tbody tr th:only-of-type {\n",
       "        vertical-align: middle;\n",
       "    }\n",
       "\n",
       "    .dataframe tbody tr th {\n",
       "        vertical-align: top;\n",
       "    }\n",
       "\n",
       "    .dataframe thead th {\n",
       "        text-align: right;\n",
       "    }\n",
       "</style>\n",
       "<table border=\"1\" class=\"dataframe\">\n",
       "  <thead>\n",
       "    <tr style=\"text-align: right;\">\n",
       "      <th></th>\n",
       "      <th>a</th>\n",
       "      <th>b</th>\n",
       "      <th>c</th>\n",
       "    </tr>\n",
       "  </thead>\n",
       "  <tbody>\n",
       "    <tr>\n",
       "      <th>0</th>\n",
       "      <td>[2, 4]</td>\n",
       "      <td>[b, c]</td>\n",
       "      <td>[wwww, xx]</td>\n",
       "    </tr>\n",
       "    <tr>\n",
       "      <th>1</th>\n",
       "      <td>[1, 3]</td>\n",
       "      <td>[a, a]</td>\n",
       "      <td>[qqq, qqq]</td>\n",
       "    </tr>\n",
       "  </tbody>\n",
       "</table>\n",
       "</div>"
      ],
      "text/plain": [
       "        a       b           c\n",
       "0  [2, 4]  [b, c]  [wwww, xx]\n",
       "1  [1, 3]  [a, a]  [qqq, qqq]"
      ]
     },
     "execution_count": 135,
     "metadata": {},
     "output_type": "execute_result"
    }
   ],
   "source": [
    "data.columns = ['a', 'b', 'c']\n",
    "data"
   ]
  },
  {
   "cell_type": "code",
   "execution_count": null,
   "metadata": {},
   "outputs": [],
   "source": []
  }
 ],
 "metadata": {
  "kernelspec": {
   "display_name": "Python 3",
   "language": "python",
   "name": "python3"
  },
  "language_info": {
   "codemirror_mode": {
    "name": "ipython",
    "version": 3
   },
   "file_extension": ".py",
   "mimetype": "text/x-python",
   "name": "python",
   "nbconvert_exporter": "python",
   "pygments_lexer": "ipython3",
   "version": "3.7.4"
  }
 },
 "nbformat": 4,
 "nbformat_minor": 4
}
