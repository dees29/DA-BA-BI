{
 "cells": [
  {
   "cell_type": "code",
   "execution_count": 805,
   "metadata": {},
   "outputs": [],
   "source": [
    "import pandas as pd\n",
    "filename = 'C:\\\\Users\\\\Admin\\\\Documents\\\\Company.xlsx'\n",
    "df1=pd.read_excel(filename)"
   ]
  },
  {
   "cell_type": "code",
   "execution_count": 806,
   "metadata": {},
   "outputs": [
    {
     "data": {
      "text/plain": [
       "Index(['Domain', 'Company', 'Segment', 'Week', 'VC', 'Lead Owner', 'Location',\n",
       "       'Region'],\n",
       "      dtype='object')"
      ]
     },
     "execution_count": 806,
     "metadata": {},
     "output_type": "execute_result"
    }
   ],
   "source": [
    "df2 = pd.DataFrame(df1)\n",
    "df2.columns"
   ]
  },
  {
   "cell_type": "code",
   "execution_count": 807,
   "metadata": {},
   "outputs": [
    {
     "data": {
      "text/plain": [
       "(12948, 8)"
      ]
     },
     "execution_count": 807,
     "metadata": {},
     "output_type": "execute_result"
    }
   ],
   "source": [
    "df2 = df2.drop_duplicates(subset='Domain', keep='first')\n",
    "df2.shape"
   ]
  },
  {
   "cell_type": "code",
   "execution_count": 808,
   "metadata": {},
   "outputs": [],
   "source": [
    "df = df.to_excel(filename)"
   ]
  },
  {
   "cell_type": "code",
   "execution_count": 809,
   "metadata": {},
   "outputs": [],
   "source": [
    "df = pd.read_excel(filename)"
   ]
  },
  {
   "cell_type": "code",
   "execution_count": 810,
   "metadata": {},
   "outputs": [],
   "source": [
    "df=pd.DataFrame(df)"
   ]
  },
  {
   "cell_type": "code",
   "execution_count": 811,
   "metadata": {
    "scrolled": true
   },
   "outputs": [],
   "source": [
    "df[\"Location\"].fillna(\"X\", inplace = True) \n",
    "df[\"Segment\"].fillna(\"X\", inplace = True) \n",
    "df[\"Region\"].fillna(\"X\", inplace = True)\n",
    "df[\"Week\"].fillna(\"X\", inplace = True)\n",
    "df[\"Lead Owner\"].fillna(\"X\", inplace = True)\n",
    "df[\"VC\"].fillna(\"X\", inplace = True)\n",
    "#df[\"Size\"].fillna(\"X\", inplace = True)"
   ]
  },
  {
   "cell_type": "code",
   "execution_count": 812,
   "metadata": {},
   "outputs": [
    {
     "data": {
      "text/plain": [
       "(12948, 12)"
      ]
     },
     "execution_count": 812,
     "metadata": {},
     "output_type": "execute_result"
    }
   ],
   "source": [
    "df.shape"
   ]
  },
  {
   "cell_type": "code",
   "execution_count": 813,
   "metadata": {},
   "outputs": [],
   "source": [
    "#df = df.set_index([\"Domain\", \"Company\", \"Location\", \"Region\", \"Segment\", \"VC\", \"Week\", \"Lead Owner\", \"Size\"], inplace = True)"
   ]
  },
  {
   "cell_type": "code",
   "execution_count": 814,
   "metadata": {},
   "outputs": [],
   "source": [
    "#df=pd.DataFrame(df)\n",
    "#print(df.set_index([\"Domain\", \"Company\", \"Location\", \"Region\", \"Segment\", \"VC\", \"Week\", \"Lead Owner\", \"Size\"], append = True))"
   ]
  },
  {
   "cell_type": "code",
   "execution_count": 815,
   "metadata": {},
   "outputs": [
    {
     "data": {
      "text/html": [
       "<div>\n",
       "<style scoped>\n",
       "    .dataframe tbody tr th:only-of-type {\n",
       "        vertical-align: middle;\n",
       "    }\n",
       "\n",
       "    .dataframe tbody tr th {\n",
       "        vertical-align: top;\n",
       "    }\n",
       "\n",
       "    .dataframe thead th {\n",
       "        text-align: right;\n",
       "    }\n",
       "</style>\n",
       "<table border=\"1\" class=\"dataframe\">\n",
       "  <thead>\n",
       "    <tr style=\"text-align: right;\">\n",
       "      <th></th>\n",
       "      <th>Unnamed: 0</th>\n",
       "      <th>Unnamed: 0.1</th>\n",
       "      <th>Unnamed: 0.1.1</th>\n",
       "      <th>Domain</th>\n",
       "      <th>Company</th>\n",
       "      <th>Segment</th>\n",
       "      <th>Week</th>\n",
       "      <th>VC</th>\n",
       "      <th>Lead Owner</th>\n",
       "      <th>Location</th>\n",
       "      <th>Region</th>\n",
       "      <th>id_co</th>\n",
       "    </tr>\n",
       "  </thead>\n",
       "  <tbody>\n",
       "    <tr>\n",
       "      <td>0</td>\n",
       "      <td>0</td>\n",
       "      <td>0</td>\n",
       "      <td>0</td>\n",
       "      <td>shuttl.com</td>\n",
       "      <td>Shuttl</td>\n",
       "      <td>X</td>\n",
       "      <td>w38</td>\n",
       "      <td>X</td>\n",
       "      <td>Shubham</td>\n",
       "      <td>NCR</td>\n",
       "      <td>North</td>\n",
       "      <td>SNX0</td>\n",
       "    </tr>\n",
       "    <tr>\n",
       "      <td>1</td>\n",
       "      <td>1</td>\n",
       "      <td>1</td>\n",
       "      <td>1</td>\n",
       "      <td>godigit.com</td>\n",
       "      <td>Digit Insurance</td>\n",
       "      <td>X</td>\n",
       "      <td>w38</td>\n",
       "      <td>X</td>\n",
       "      <td>Rozer</td>\n",
       "      <td>Bengaluru</td>\n",
       "      <td>South</td>\n",
       "      <td>DBX1</td>\n",
       "    </tr>\n",
       "    <tr>\n",
       "      <td>2</td>\n",
       "      <td>2</td>\n",
       "      <td>2</td>\n",
       "      <td>2</td>\n",
       "      <td>swiggy.in</td>\n",
       "      <td>Swiggy</td>\n",
       "      <td>X</td>\n",
       "      <td>w38</td>\n",
       "      <td>X</td>\n",
       "      <td>Shubham</td>\n",
       "      <td>Bengaluru</td>\n",
       "      <td>South</td>\n",
       "      <td>SBX2</td>\n",
       "    </tr>\n",
       "    <tr>\n",
       "      <td>3</td>\n",
       "      <td>3</td>\n",
       "      <td>3</td>\n",
       "      <td>3</td>\n",
       "      <td>cleardekho.com</td>\n",
       "      <td>Cleardekho</td>\n",
       "      <td>X</td>\n",
       "      <td>w38</td>\n",
       "      <td>X</td>\n",
       "      <td>Shubham</td>\n",
       "      <td>NCR</td>\n",
       "      <td>North</td>\n",
       "      <td>CNX3</td>\n",
       "    </tr>\n",
       "    <tr>\n",
       "      <td>4</td>\n",
       "      <td>4</td>\n",
       "      <td>4</td>\n",
       "      <td>5</td>\n",
       "      <td>zomato.com</td>\n",
       "      <td>Zomato</td>\n",
       "      <td>X</td>\n",
       "      <td>w38</td>\n",
       "      <td>X</td>\n",
       "      <td>Shubham</td>\n",
       "      <td>NCR</td>\n",
       "      <td>North</td>\n",
       "      <td>ZNX4</td>\n",
       "    </tr>\n",
       "  </tbody>\n",
       "</table>\n",
       "</div>"
      ],
      "text/plain": [
       "   Unnamed: 0  Unnamed: 0.1  Unnamed: 0.1.1          Domain          Company  \\\n",
       "0           0             0               0      shuttl.com           Shuttl   \n",
       "1           1             1               1     godigit.com  Digit Insurance   \n",
       "2           2             2               2       swiggy.in           Swiggy   \n",
       "3           3             3               3  cleardekho.com       Cleardekho   \n",
       "4           4             4               5      zomato.com           Zomato   \n",
       "\n",
       "  Segment Week VC Lead Owner   Location Region id_co  \n",
       "0       X  w38  X    Shubham        NCR  North  SNX0  \n",
       "1       X  w38  X      Rozer  Bengaluru  South  DBX1  \n",
       "2       X  w38  X    Shubham  Bengaluru  South  SBX2  \n",
       "3       X  w38  X    Shubham        NCR  North  CNX3  \n",
       "4       X  w38  X    Shubham        NCR  North  ZNX4  "
      ]
     },
     "execution_count": 815,
     "metadata": {},
     "output_type": "execute_result"
    }
   ],
   "source": [
    "df.head()"
   ]
  },
  {
   "cell_type": "code",
   "execution_count": 816,
   "metadata": {},
   "outputs": [],
   "source": [
    "#df = df.dropna()\n",
    "#df = df.drop_duplicates(subset='Domain', keep='first')"
   ]
  },
  {
   "cell_type": "code",
   "execution_count": 817,
   "metadata": {},
   "outputs": [
    {
     "data": {
      "text/plain": [
       "Unnamed: 0         int64\n",
       "Unnamed: 0.1       int64\n",
       "Unnamed: 0.1.1     int64\n",
       "Domain            object\n",
       "Company           object\n",
       "Segment           object\n",
       "Week              object\n",
       "VC                object\n",
       "Lead Owner        object\n",
       "Location          object\n",
       "Region            object\n",
       "id_co             object\n",
       "dtype: object"
      ]
     },
     "execution_count": 817,
     "metadata": {},
     "output_type": "execute_result"
    }
   ],
   "source": [
    "#df= df.sort_values(by = ['Domain'], inplace = True)\n",
    "df.dtypes"
   ]
  },
  {
   "cell_type": "code",
   "execution_count": 818,
   "metadata": {},
   "outputs": [
    {
     "data": {
      "text/plain": [
       "Unnamed: 0        0\n",
       "Unnamed: 0.1      0\n",
       "Unnamed: 0.1.1    0\n",
       "Domain            0\n",
       "Company           0\n",
       "Segment           0\n",
       "Week              0\n",
       "VC                0\n",
       "Lead Owner        0\n",
       "Location          0\n",
       "Region            0\n",
       "id_co             0\n",
       "dtype: int64"
      ]
     },
     "execution_count": 818,
     "metadata": {},
     "output_type": "execute_result"
    }
   ],
   "source": [
    "df.isnull().sum()"
   ]
  },
  {
   "cell_type": "code",
   "execution_count": 820,
   "metadata": {},
   "outputs": [
    {
     "data": {
      "text/html": [
       "<div>\n",
       "<style scoped>\n",
       "    .dataframe tbody tr th:only-of-type {\n",
       "        vertical-align: middle;\n",
       "    }\n",
       "\n",
       "    .dataframe tbody tr th {\n",
       "        vertical-align: top;\n",
       "    }\n",
       "\n",
       "    .dataframe thead th {\n",
       "        text-align: right;\n",
       "    }\n",
       "</style>\n",
       "<table border=\"1\" class=\"dataframe\">\n",
       "  <thead>\n",
       "    <tr style=\"text-align: right;\">\n",
       "      <th></th>\n",
       "      <th>Unnamed: 0</th>\n",
       "      <th>Unnamed: 0.1</th>\n",
       "      <th>Unnamed: 0.1.1</th>\n",
       "      <th>Domain</th>\n",
       "      <th>Company</th>\n",
       "      <th>Segment</th>\n",
       "      <th>Week</th>\n",
       "      <th>VC</th>\n",
       "      <th>Lead Owner</th>\n",
       "      <th>Location</th>\n",
       "      <th>Region</th>\n",
       "      <th>id_co</th>\n",
       "    </tr>\n",
       "  </thead>\n",
       "  <tbody>\n",
       "    <tr>\n",
       "      <td>0</td>\n",
       "      <td>0</td>\n",
       "      <td>0</td>\n",
       "      <td>0</td>\n",
       "      <td>shuttl.com</td>\n",
       "      <td>Shuttl</td>\n",
       "      <td>X</td>\n",
       "      <td>w38</td>\n",
       "      <td>X</td>\n",
       "      <td>Shubham</td>\n",
       "      <td>NCR</td>\n",
       "      <td>North</td>\n",
       "      <td>SNX0</td>\n",
       "    </tr>\n",
       "    <tr>\n",
       "      <td>1</td>\n",
       "      <td>1</td>\n",
       "      <td>1</td>\n",
       "      <td>1</td>\n",
       "      <td>godigit.com</td>\n",
       "      <td>Digit Insurance</td>\n",
       "      <td>X</td>\n",
       "      <td>w38</td>\n",
       "      <td>X</td>\n",
       "      <td>Rozer</td>\n",
       "      <td>Bengaluru</td>\n",
       "      <td>South</td>\n",
       "      <td>DBX1</td>\n",
       "    </tr>\n",
       "    <tr>\n",
       "      <td>2</td>\n",
       "      <td>2</td>\n",
       "      <td>2</td>\n",
       "      <td>2</td>\n",
       "      <td>swiggy.in</td>\n",
       "      <td>Swiggy</td>\n",
       "      <td>X</td>\n",
       "      <td>w38</td>\n",
       "      <td>X</td>\n",
       "      <td>Shubham</td>\n",
       "      <td>Bengaluru</td>\n",
       "      <td>South</td>\n",
       "      <td>SBX2</td>\n",
       "    </tr>\n",
       "    <tr>\n",
       "      <td>3</td>\n",
       "      <td>3</td>\n",
       "      <td>3</td>\n",
       "      <td>3</td>\n",
       "      <td>cleardekho.com</td>\n",
       "      <td>Cleardekho</td>\n",
       "      <td>X</td>\n",
       "      <td>w38</td>\n",
       "      <td>X</td>\n",
       "      <td>Shubham</td>\n",
       "      <td>NCR</td>\n",
       "      <td>North</td>\n",
       "      <td>CNX3</td>\n",
       "    </tr>\n",
       "    <tr>\n",
       "      <td>4</td>\n",
       "      <td>4</td>\n",
       "      <td>4</td>\n",
       "      <td>5</td>\n",
       "      <td>zomato.com</td>\n",
       "      <td>Zomato</td>\n",
       "      <td>X</td>\n",
       "      <td>w38</td>\n",
       "      <td>X</td>\n",
       "      <td>Shubham</td>\n",
       "      <td>NCR</td>\n",
       "      <td>North</td>\n",
       "      <td>ZNX4</td>\n",
       "    </tr>\n",
       "  </tbody>\n",
       "</table>\n",
       "</div>"
      ],
      "text/plain": [
       "   Unnamed: 0  Unnamed: 0.1  Unnamed: 0.1.1          Domain          Company  \\\n",
       "0           0             0               0      shuttl.com           Shuttl   \n",
       "1           1             1               1     godigit.com  Digit Insurance   \n",
       "2           2             2               2       swiggy.in           Swiggy   \n",
       "3           3             3               3  cleardekho.com       Cleardekho   \n",
       "4           4             4               5      zomato.com           Zomato   \n",
       "\n",
       "  Segment Week VC Lead Owner   Location Region id_co  \n",
       "0       X  w38  X    Shubham        NCR  North  SNX0  \n",
       "1       X  w38  X      Rozer  Bengaluru  South  DBX1  \n",
       "2       X  w38  X    Shubham  Bengaluru  South  SBX2  \n",
       "3       X  w38  X    Shubham        NCR  North  CNX3  \n",
       "4       X  w38  X    Shubham        NCR  North  ZNX4  "
      ]
     },
     "execution_count": 820,
     "metadata": {},
     "output_type": "execute_result"
    }
   ],
   "source": [
    "df.head()"
   ]
  },
  {
   "cell_type": "code",
   "execution_count": 821,
   "metadata": {},
   "outputs": [],
   "source": [
    "df.fillna('X', inplace = True)"
   ]
  },
  {
   "cell_type": "code",
   "execution_count": 822,
   "metadata": {},
   "outputs": [],
   "source": [
    "df['id_co']=\"\""
   ]
  },
  {
   "cell_type": "code",
   "execution_count": 823,
   "metadata": {},
   "outputs": [
    {
     "data": {
      "text/plain": [
       "'ZNX0'"
      ]
     },
     "execution_count": 823,
     "metadata": {},
     "output_type": "execute_result"
    }
   ],
   "source": [
    "df['Company'][4][0] + df['Location'][4][0] + df['Segment'][5][0] + str(0)"
   ]
  },
  {
   "cell_type": "code",
   "execution_count": 824,
   "metadata": {},
   "outputs": [
    {
     "name": "stderr",
     "output_type": "stream",
     "text": [
      "C:\\Users\\Admin\\Anaconda3\\lib\\site-packages\\ipykernel_launcher.py:2: SettingWithCopyWarning: \n",
      "A value is trying to be set on a copy of a slice from a DataFrame\n",
      "\n",
      "See the caveats in the documentation: http://pandas.pydata.org/pandas-docs/stable/user_guide/indexing.html#returning-a-view-versus-a-copy\n",
      "  \n"
     ]
    }
   ],
   "source": [
    "for value in range(0, len(df['Domain'])):\n",
    "    df['id_co'][value] = str(df['Company'][value])[0] + str(df['Location'][value])[0] + str(df['Segment'][value])[0] + str(value)"
   ]
  },
  {
   "cell_type": "code",
   "execution_count": 827,
   "metadata": {},
   "outputs": [
    {
     "data": {
      "text/html": [
       "<div>\n",
       "<style scoped>\n",
       "    .dataframe tbody tr th:only-of-type {\n",
       "        vertical-align: middle;\n",
       "    }\n",
       "\n",
       "    .dataframe tbody tr th {\n",
       "        vertical-align: top;\n",
       "    }\n",
       "\n",
       "    .dataframe thead th {\n",
       "        text-align: right;\n",
       "    }\n",
       "</style>\n",
       "<table border=\"1\" class=\"dataframe\">\n",
       "  <thead>\n",
       "    <tr style=\"text-align: right;\">\n",
       "      <th></th>\n",
       "      <th>Unnamed: 0</th>\n",
       "      <th>Unnamed: 0.1</th>\n",
       "      <th>Unnamed: 0.1.1</th>\n",
       "      <th>Domain</th>\n",
       "      <th>Company</th>\n",
       "      <th>Segment</th>\n",
       "      <th>Week</th>\n",
       "      <th>VC</th>\n",
       "      <th>Lead Owner</th>\n",
       "      <th>Location</th>\n",
       "      <th>Region</th>\n",
       "      <th>id_co</th>\n",
       "    </tr>\n",
       "  </thead>\n",
       "  <tbody>\n",
       "    <tr>\n",
       "      <td>0</td>\n",
       "      <td>0</td>\n",
       "      <td>0</td>\n",
       "      <td>0</td>\n",
       "      <td>shuttl.com</td>\n",
       "      <td>Shuttl</td>\n",
       "      <td>X</td>\n",
       "      <td>w38</td>\n",
       "      <td>X</td>\n",
       "      <td>Shubham</td>\n",
       "      <td>NCR</td>\n",
       "      <td>North</td>\n",
       "      <td>SNX0</td>\n",
       "    </tr>\n",
       "    <tr>\n",
       "      <td>1</td>\n",
       "      <td>1</td>\n",
       "      <td>1</td>\n",
       "      <td>1</td>\n",
       "      <td>godigit.com</td>\n",
       "      <td>Digit Insurance</td>\n",
       "      <td>X</td>\n",
       "      <td>w38</td>\n",
       "      <td>X</td>\n",
       "      <td>Rozer</td>\n",
       "      <td>Bengaluru</td>\n",
       "      <td>South</td>\n",
       "      <td>DBX1</td>\n",
       "    </tr>\n",
       "    <tr>\n",
       "      <td>2</td>\n",
       "      <td>2</td>\n",
       "      <td>2</td>\n",
       "      <td>2</td>\n",
       "      <td>swiggy.in</td>\n",
       "      <td>Swiggy</td>\n",
       "      <td>X</td>\n",
       "      <td>w38</td>\n",
       "      <td>X</td>\n",
       "      <td>Shubham</td>\n",
       "      <td>Bengaluru</td>\n",
       "      <td>South</td>\n",
       "      <td>SBX2</td>\n",
       "    </tr>\n",
       "    <tr>\n",
       "      <td>3</td>\n",
       "      <td>3</td>\n",
       "      <td>3</td>\n",
       "      <td>3</td>\n",
       "      <td>cleardekho.com</td>\n",
       "      <td>Cleardekho</td>\n",
       "      <td>X</td>\n",
       "      <td>w38</td>\n",
       "      <td>X</td>\n",
       "      <td>Shubham</td>\n",
       "      <td>NCR</td>\n",
       "      <td>North</td>\n",
       "      <td>CNX3</td>\n",
       "    </tr>\n",
       "    <tr>\n",
       "      <td>4</td>\n",
       "      <td>4</td>\n",
       "      <td>4</td>\n",
       "      <td>5</td>\n",
       "      <td>zomato.com</td>\n",
       "      <td>Zomato</td>\n",
       "      <td>X</td>\n",
       "      <td>w38</td>\n",
       "      <td>X</td>\n",
       "      <td>Shubham</td>\n",
       "      <td>NCR</td>\n",
       "      <td>North</td>\n",
       "      <td>ZNX4</td>\n",
       "    </tr>\n",
       "    <tr>\n",
       "      <td>5</td>\n",
       "      <td>5</td>\n",
       "      <td>5</td>\n",
       "      <td>6</td>\n",
       "      <td>pharmeasy.in</td>\n",
       "      <td>PharmEasy</td>\n",
       "      <td>X</td>\n",
       "      <td>w38</td>\n",
       "      <td>X</td>\n",
       "      <td>Rozer</td>\n",
       "      <td>Mumbai</td>\n",
       "      <td>West</td>\n",
       "      <td>PMX5</td>\n",
       "    </tr>\n",
       "    <tr>\n",
       "      <td>6</td>\n",
       "      <td>6</td>\n",
       "      <td>6</td>\n",
       "      <td>7</td>\n",
       "      <td>thoughtworks.com</td>\n",
       "      <td>ThoughtWorks</td>\n",
       "      <td>X</td>\n",
       "      <td>w38</td>\n",
       "      <td>X</td>\n",
       "      <td>Deepu</td>\n",
       "      <td>Bengaluru</td>\n",
       "      <td>South</td>\n",
       "      <td>TBX6</td>\n",
       "    </tr>\n",
       "    <tr>\n",
       "      <td>7</td>\n",
       "      <td>7</td>\n",
       "      <td>7</td>\n",
       "      <td>8</td>\n",
       "      <td>paypal.com</td>\n",
       "      <td>Paypal</td>\n",
       "      <td>X</td>\n",
       "      <td>w38</td>\n",
       "      <td>X</td>\n",
       "      <td>Shubham</td>\n",
       "      <td>Bengaluru</td>\n",
       "      <td>South</td>\n",
       "      <td>PBX7</td>\n",
       "    </tr>\n",
       "    <tr>\n",
       "      <td>8</td>\n",
       "      <td>8</td>\n",
       "      <td>8</td>\n",
       "      <td>13</td>\n",
       "      <td>zerodha.com</td>\n",
       "      <td>Zerodha</td>\n",
       "      <td>X</td>\n",
       "      <td>w38</td>\n",
       "      <td>X</td>\n",
       "      <td>Shubham</td>\n",
       "      <td>Bengaluru</td>\n",
       "      <td>South</td>\n",
       "      <td>ZBX8</td>\n",
       "    </tr>\n",
       "    <tr>\n",
       "      <td>9</td>\n",
       "      <td>9</td>\n",
       "      <td>9</td>\n",
       "      <td>16</td>\n",
       "      <td>quikr.com</td>\n",
       "      <td>Quikr</td>\n",
       "      <td>X</td>\n",
       "      <td>w38</td>\n",
       "      <td>X</td>\n",
       "      <td>Shubham</td>\n",
       "      <td>Bangalore</td>\n",
       "      <td>South</td>\n",
       "      <td>QBX9</td>\n",
       "    </tr>\n",
       "  </tbody>\n",
       "</table>\n",
       "</div>"
      ],
      "text/plain": [
       "   Unnamed: 0  Unnamed: 0.1  Unnamed: 0.1.1            Domain  \\\n",
       "0           0             0               0        shuttl.com   \n",
       "1           1             1               1       godigit.com   \n",
       "2           2             2               2         swiggy.in   \n",
       "3           3             3               3    cleardekho.com   \n",
       "4           4             4               5        zomato.com   \n",
       "5           5             5               6      pharmeasy.in   \n",
       "6           6             6               7  thoughtworks.com   \n",
       "7           7             7               8        paypal.com   \n",
       "8           8             8              13       zerodha.com   \n",
       "9           9             9              16         quikr.com   \n",
       "\n",
       "           Company Segment Week VC Lead Owner   Location Region id_co  \n",
       "0           Shuttl       X  w38  X    Shubham        NCR  North  SNX0  \n",
       "1  Digit Insurance       X  w38  X      Rozer  Bengaluru  South  DBX1  \n",
       "2           Swiggy       X  w38  X    Shubham  Bengaluru  South  SBX2  \n",
       "3       Cleardekho       X  w38  X    Shubham        NCR  North  CNX3  \n",
       "4           Zomato       X  w38  X    Shubham        NCR  North  ZNX4  \n",
       "5        PharmEasy       X  w38  X      Rozer     Mumbai   West  PMX5  \n",
       "6     ThoughtWorks       X  w38  X      Deepu  Bengaluru  South  TBX6  \n",
       "7           Paypal       X  w38  X    Shubham  Bengaluru  South  PBX7  \n",
       "8          Zerodha       X  w38  X    Shubham  Bengaluru  South  ZBX8  \n",
       "9            Quikr       X  w38  X    Shubham  Bangalore  South  QBX9  "
      ]
     },
     "execution_count": 827,
     "metadata": {},
     "output_type": "execute_result"
    }
   ],
   "source": [
    "#for i in range(1, len(df_1)):\n",
    "        #df['id_co'][i] = df['Company'][i][0] + df['Location'][i][0] +str(count)\n",
    "df.head(10)"
   ]
  },
  {
   "cell_type": "code",
   "execution_count": 828,
   "metadata": {},
   "outputs": [],
   "source": [
    "#df['id_co']\n"
   ]
  },
  {
   "cell_type": "code",
   "execution_count": 829,
   "metadata": {},
   "outputs": [],
   "source": [
    "#area_dict = df[['Domain', 'id_co']].to_dict\n",
    "#area_dict"
   ]
  },
  {
   "cell_type": "code",
   "execution_count": 830,
   "metadata": {},
   "outputs": [
    {
     "data": {
      "text/plain": [
       "0            SNX0\n",
       "1            DBX1\n",
       "2            SBX2\n",
       "3            CNX3\n",
       "4            ZNX4\n",
       "           ...   \n",
       "12943    WEE12943\n",
       "12944    XII12944\n",
       "12945    ZII12945\n",
       "12946    ZII12946\n",
       "12947    MEE12947\n",
       "Name: id_co, Length: 12948, dtype: object"
      ]
     },
     "execution_count": 830,
     "metadata": {},
     "output_type": "execute_result"
    }
   ],
   "source": [
    "df['id_co']"
   ]
  },
  {
   "cell_type": "code",
   "execution_count": 831,
   "metadata": {},
   "outputs": [],
   "source": [
    "area_dict = pd.Series(df.id_co.values, index=df.Domain).to_dict()"
   ]
  },
  {
   "cell_type": "code",
   "execution_count": 832,
   "metadata": {},
   "outputs": [],
   "source": [
    "area_dict\n",
    "n=len(area_dict)"
   ]
  },
  {
   "cell_type": "code",
   "execution_count": 833,
   "metadata": {},
   "outputs": [],
   "source": [
    "#for value in area_dict:\n",
    " #   df[df['Domain']\n",
    "  #  df['id_co'] = df['id_co'][value]"
   ]
  },
  {
   "cell_type": "code",
   "execution_count": 834,
   "metadata": {},
   "outputs": [],
   "source": [
    "for i in range(n, 0):\n",
    "    if df['Domain'][n] == area_dict['Domain'][i]:\n",
    "        df['id_co'][n] = area_dict['id_co'][i]"
   ]
  },
  {
   "cell_type": "code",
   "execution_count": 835,
   "metadata": {},
   "outputs": [],
   "source": [
    "Filename1='C:\\\\Users\\\\Admin\\\\Company.csv'"
   ]
  },
  {
   "cell_type": "code",
   "execution_count": 836,
   "metadata": {},
   "outputs": [],
   "source": [
    "df = df.drop(['Unnamed: 0', \"Unnamed: 0.1\", 'Unnamed: 0.1.1'], axis=1)"
   ]
  },
  {
   "cell_type": "code",
   "execution_count": 837,
   "metadata": {},
   "outputs": [
    {
     "data": {
      "text/plain": [
       "'\"x = \"ABCD\"\\ny = \"hdgfh\"\\ncount = 0\\ncount +=1\\nx[0] + y[3] + str(count)'"
      ]
     },
     "execution_count": 837,
     "metadata": {},
     "output_type": "execute_result"
    }
   ],
   "source": [
    "\"\"\"\"x = \"ABCD\"\n",
    "y = \"hdgfh\"\n",
    "count = 0\n",
    "count +=1\n",
    "x[0] + y[3] + str(count)\"\"\""
   ]
  },
  {
   "cell_type": "code",
   "execution_count": 838,
   "metadata": {},
   "outputs": [],
   "source": [
    "#df = df.set_index([\"id_co\", \"Domain\", \"Company\", \"Location\", \"Region\", \"Segment\", \"VC\", \"Week\", \"Lead Owner\", \"Size\"], inplace = True)"
   ]
  },
  {
   "cell_type": "code",
   "execution_count": 839,
   "metadata": {},
   "outputs": [
    {
     "data": {
      "text/html": [
       "<div>\n",
       "<style scoped>\n",
       "    .dataframe tbody tr th:only-of-type {\n",
       "        vertical-align: middle;\n",
       "    }\n",
       "\n",
       "    .dataframe tbody tr th {\n",
       "        vertical-align: top;\n",
       "    }\n",
       "\n",
       "    .dataframe thead th {\n",
       "        text-align: right;\n",
       "    }\n",
       "</style>\n",
       "<table border=\"1\" class=\"dataframe\">\n",
       "  <thead>\n",
       "    <tr style=\"text-align: right;\">\n",
       "      <th></th>\n",
       "      <th>Domain</th>\n",
       "      <th>Company</th>\n",
       "      <th>Segment</th>\n",
       "      <th>Week</th>\n",
       "      <th>VC</th>\n",
       "      <th>Lead Owner</th>\n",
       "      <th>Location</th>\n",
       "      <th>Region</th>\n",
       "      <th>id_co</th>\n",
       "    </tr>\n",
       "  </thead>\n",
       "  <tbody>\n",
       "    <tr>\n",
       "      <td>0</td>\n",
       "      <td>shuttl.com</td>\n",
       "      <td>Shuttl</td>\n",
       "      <td>X</td>\n",
       "      <td>w38</td>\n",
       "      <td>X</td>\n",
       "      <td>Shubham</td>\n",
       "      <td>NCR</td>\n",
       "      <td>North</td>\n",
       "      <td>SNX0</td>\n",
       "    </tr>\n",
       "    <tr>\n",
       "      <td>1</td>\n",
       "      <td>godigit.com</td>\n",
       "      <td>Digit Insurance</td>\n",
       "      <td>X</td>\n",
       "      <td>w38</td>\n",
       "      <td>X</td>\n",
       "      <td>Rozer</td>\n",
       "      <td>Bengaluru</td>\n",
       "      <td>South</td>\n",
       "      <td>DBX1</td>\n",
       "    </tr>\n",
       "    <tr>\n",
       "      <td>2</td>\n",
       "      <td>swiggy.in</td>\n",
       "      <td>Swiggy</td>\n",
       "      <td>X</td>\n",
       "      <td>w38</td>\n",
       "      <td>X</td>\n",
       "      <td>Shubham</td>\n",
       "      <td>Bengaluru</td>\n",
       "      <td>South</td>\n",
       "      <td>SBX2</td>\n",
       "    </tr>\n",
       "    <tr>\n",
       "      <td>3</td>\n",
       "      <td>cleardekho.com</td>\n",
       "      <td>Cleardekho</td>\n",
       "      <td>X</td>\n",
       "      <td>w38</td>\n",
       "      <td>X</td>\n",
       "      <td>Shubham</td>\n",
       "      <td>NCR</td>\n",
       "      <td>North</td>\n",
       "      <td>CNX3</td>\n",
       "    </tr>\n",
       "    <tr>\n",
       "      <td>4</td>\n",
       "      <td>zomato.com</td>\n",
       "      <td>Zomato</td>\n",
       "      <td>X</td>\n",
       "      <td>w38</td>\n",
       "      <td>X</td>\n",
       "      <td>Shubham</td>\n",
       "      <td>NCR</td>\n",
       "      <td>North</td>\n",
       "      <td>ZNX4</td>\n",
       "    </tr>\n",
       "  </tbody>\n",
       "</table>\n",
       "</div>"
      ],
      "text/plain": [
       "           Domain          Company Segment Week VC Lead Owner   Location  \\\n",
       "0      shuttl.com           Shuttl       X  w38  X    Shubham        NCR   \n",
       "1     godigit.com  Digit Insurance       X  w38  X      Rozer  Bengaluru   \n",
       "2       swiggy.in           Swiggy       X  w38  X    Shubham  Bengaluru   \n",
       "3  cleardekho.com       Cleardekho       X  w38  X    Shubham        NCR   \n",
       "4      zomato.com           Zomato       X  w38  X    Shubham        NCR   \n",
       "\n",
       "  Region id_co  \n",
       "0  North  SNX0  \n",
       "1  South  DBX1  \n",
       "2  South  SBX2  \n",
       "3  North  CNX3  \n",
       "4  North  ZNX4  "
      ]
     },
     "execution_count": 839,
     "metadata": {},
     "output_type": "execute_result"
    }
   ],
   "source": [
    "df.head()"
   ]
  },
  {
   "cell_type": "code",
   "execution_count": 840,
   "metadata": {},
   "outputs": [],
   "source": [
    "Company = df.to_csv(Filename1)"
   ]
  },
  {
   "cell_type": "code",
   "execution_count": null,
   "metadata": {},
   "outputs": [],
   "source": []
  },
  {
   "cell_type": "code",
   "execution_count": null,
   "metadata": {},
   "outputs": [],
   "source": []
  },
  {
   "cell_type": "code",
   "execution_count": null,
   "metadata": {},
   "outputs": [],
   "source": []
  },
  {
   "cell_type": "code",
   "execution_count": null,
   "metadata": {},
   "outputs": [],
   "source": []
  }
 ],
 "metadata": {
  "kernelspec": {
   "display_name": "Python 3",
   "language": "python",
   "name": "python3"
  },
  "language_info": {
   "codemirror_mode": {
    "name": "ipython",
    "version": 3
   },
   "file_extension": ".py",
   "mimetype": "text/x-python",
   "name": "python",
   "nbconvert_exporter": "python",
   "pygments_lexer": "ipython3",
   "version": "3.7.4"
  }
 },
 "nbformat": 4,
 "nbformat_minor": 2
}
