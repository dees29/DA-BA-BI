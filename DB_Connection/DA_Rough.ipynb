{
 "cells": [
  {
   "cell_type": "code",
   "execution_count": 5,
   "metadata": {},
   "outputs": [],
   "source": [
    "import pandas as pd"
   ]
  },
  {
   "cell_type": "code",
   "execution_count": 13,
   "metadata": {},
   "outputs": [],
   "source": []
  },
  {
   "cell_type": "code",
   "execution_count": 18,
   "metadata": {},
   "outputs": [],
   "source": [
    "df = pd.read_excel('Chandigarh.xlsx', sheet_name='Original')"
   ]
  },
  {
   "cell_type": "code",
   "execution_count": 1,
   "metadata": {},
   "outputs": [],
   "source": [
    "df_combin=pd.concat([df['Organization Name'] and df['Headquarters Location']])"
   ]
  },
  {
   "cell_type": "code",
   "execution_count": 34,
   "metadata": {},
   "outputs": [
    {
     "name": "stdout",
     "output_type": "stream",
     "text": [
      "0                 FeosterChandigarh, Chandigarh, India\n",
      "1                 AdvenioChandigarh, Chandigarh, India\n",
      "2               ApplancerChandigarh, Chandigarh, India\n",
      "3                PumpKartChandigarh, Chandigarh, India\n",
      "4           Paymart IndiaChandigarh, Chandigarh, India\n",
      "5    India Market Softech LimitedChandigarh, Chandi...\n",
      "6             JumboBasketChandigarh, Chandigarh, India\n",
      "7               RAHI CareChandigarh, Chandigarh, India\n",
      "8             Rose IslandChandigarh, Chandigarh, India\n",
      "9            Deck RoosterChandigarh, Chandigarh, India\n",
      "dtype: object\n"
     ]
    }
   ],
   "source": [
    "print(df_combin)"
   ]
  },
  {
   "cell_type": "code",
   "execution_count": 36,
   "metadata": {},
   "outputs": [],
   "source": [
    "df_combin.to_excel(\"Project.xlsx\")"
   ]
  },
  {
   "cell_type": "code",
   "execution_count": null,
   "metadata": {},
   "outputs": [],
   "source": []
  }
 ],
 "metadata": {
  "kernelspec": {
   "display_name": "Python 3",
   "language": "python",
   "name": "python3"
  },
  "language_info": {
   "codemirror_mode": {
    "name": "ipython",
    "version": 3
   },
   "file_extension": ".py",
   "mimetype": "text/x-python",
   "name": "python",
   "nbconvert_exporter": "python",
   "pygments_lexer": "ipython3",
   "version": "3.7.4"
  }
 },
 "nbformat": 4,
 "nbformat_minor": 2
}
